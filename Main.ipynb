{
 "cells": [
  {
   "cell_type": "code",
   "execution_count": 477,
   "metadata": {},
   "outputs": [
    {
     "data": {
      "text/plain": [
       "'\\nAsian Football Confederation (AFC): 47 members\\nConfederation of African Football (CAF): 54 members\\nConfederation of North, Central American and Caribbean Association Football (CONCACAF): 41 members\\nConfederación Sudamericana de Fútbol (CONMEBOL): 10 members\\nOceania Football Confederation (OFC): 13 members\\nUnion of European Football Associations (UEFA): 55 members\\n'"
      ]
     },
     "execution_count": 477,
     "metadata": {},
     "output_type": "execute_result"
    }
   ],
   "source": [
    "#tryout\n",
    "\"\"\"\n",
    "Asian Football Confederation (AFC): 47 members\n",
    "Confederation of African Football (CAF): 54 members\n",
    "Confederation of North, Central American and Caribbean Association Football (CONCACAF): 41 members\n",
    "Confederación Sudamericana de Fútbol (CONMEBOL): 10 members\n",
    "Oceania Football Confederation (OFC): 13 members\n",
    "Union of European Football Associations (UEFA): 55 members\n",
    "\"\"\"\n"
   ]
  },
  {
   "cell_type": "code",
   "execution_count": 478,
   "metadata": {},
   "outputs": [],
   "source": [
    "afc_countries = [\n",
    "    \"Afghanistan\", \"Australia\", \"Bahrain\", \"Bangladesh\", \"Bhutan\", \"Brunei Darussalam\",\n",
    "    \"Cambodia\", \"China\", \"Chinese Taipei\", \"Guam\", \"Hong Kong\", \"India\",\n",
    "    \"Indonesia\", \"Iran\", \"Iraq\", \"Japan\", \"Jordan\", \"North Korea\", \"South Korea\",\n",
    "    \"Kuwait\", \"Kyrgyzstan\", \"Laos\", \"Lebanon\", \"Macau\", \"Malaysia\", \"Maldives\",\n",
    "    \"Mongolia\", \"Myanmar\", \"Nepal\", \"Oman\", \"Pakistan\", \"Palestine\", \"Philippines\",\n",
    "    \"Qatar\", \"Saudi Arabia\", \"Singapore\", \"Sri Lanka\", \"Syria\", \"Tajikistan\",\n",
    "    \"Thailand\", \"Timor-Leste\", \"Turkmenistan\", \"United Arab Emirates\", \"Uzbekistan\", \"Vietnam\", \"Yemen\"\n",
    "]\n"
   ]
  },
  {
   "cell_type": "code",
   "execution_count": 479,
   "metadata": {},
   "outputs": [],
   "source": [
    "caf_countries = [\n",
    "    \"Algeria\", \"Angola\", \"Benin\", \"Botswana\", \"Burkina Faso\", \"Burundi\", \"Cameroon\", \"Cape Verde\",\n",
    "    \"Central African Republic\", \"Chad\", \"Comoros\", \"Republic of the Congo\", \"Democratic Republic of the Congo\", \"Djibouti\", \"Egypt\",\n",
    "    \"Equatorial Guinea\", \"Eswatini\", \"Ethiopia\", \"Gabon\", \"The Gambia\", \"Ghana\", \"Guinea\",\n",
    "    \"Guinea-Bissau\", \"Ivory Coast\", \"Kenya\", \"Lesotho\", \"Liberia\", \"Libya\", \"Madagascar\", \"Malawi\",\n",
    "    \"Mali\", \"Mauritania\", \"Mauritius\", \"Morocco\", \"Mozambique\", \"Namibia\", \"Niger\", \"Nigeria\",\n",
    "    \"Rwanda\", \"São Tomé and Príncipe\", \"Senegal\", \"Seychelles\", \"Sierra Leone\", \"South Africa\",\n",
    "    \"South Sudan\", \"Sudan\", \"Tanzania\", \"Togo\", \"Tunisia\", \"Uganda\", \"Zambia\", \"Zimbabwe\", \"Somalia\"\n",
    "]\n"
   ]
  },
  {
   "cell_type": "code",
   "execution_count": 480,
   "metadata": {},
   "outputs": [],
   "source": [
    "concacaf_countries = [\n",
    "    \"Antigua and Barbuda\", \"Bahamas\", \"Barbados\", \"Belize\", \"Canada\", \"Costa Rica\", \"Cuba\",\n",
    "    \"Dominican Republic\", \"El Salvador\", \"Grenada\", \"Guatemala\", \"Guyana\", \"Haiti\", \"Honduras\", \"Jamaica\", \"Mexico\", \"Montserrat\", \"Nicaragua\", \"Panama\", \"Saint Kitts and Nevis\",\n",
    "    \"Saint Lucia\", \"Saint Vincent and the Grenadines\", \"Trinidad and Tobago\", \"United States\",\n",
    "    \"Anguilla\", \"Aruba\", \"Bermuda\", \"British Virgin Islands\", \"Cayman Islands\",\n",
    "    \"Curaçao\", \"Suriname\", \"Turks and Caicos Islands\", \"United States Virgin Islands\", \"Puerto Rico\"\n",
    "]\n"
   ]
  },
  {
   "cell_type": "code",
   "execution_count": 481,
   "metadata": {},
   "outputs": [],
   "source": [
    "conmebol_countries = [\n",
    "    \"Argentina\", \"Bolivia\", \"Brazil\", \"Chile\", \"Colombia\", \"Ecuador\", \"Paraguay\", \"Peru\",\n",
    "    \"Suriname\", \"Uruguay\", \"Venezuela\"\n",
    "]\n"
   ]
  },
  {
   "cell_type": "code",
   "execution_count": 482,
   "metadata": {},
   "outputs": [],
   "source": [
    "ofc_countries = [\n",
    "    \"American Samoa\", \"Cook Islands\", \"Fiji\", \"New Caledonia\", \"New Zealand\", \"Papua New Guinea\",\n",
    "    \"Samoa\", \"Solomon Islands\", \"Tahiti\", \"Tonga\", \"Vanuatu\"\n",
    "]\n"
   ]
  },
  {
   "cell_type": "code",
   "execution_count": 483,
   "metadata": {},
   "outputs": [],
   "source": [
    "uefa_countries = [\n",
    "    \"Albania\", \"Andorra\", \"Armenia\", \"Austria\", \"Azerbaijan\", \"Belarus\", \"Belgium\", \"Bosnia-Herzegovina\",\n",
    "    \"Bulgaria\", \"Croatia\", \"Cyprus\", \"Czech Republic\", \"Denmark\", \"England\", \"Estonia\", \"Faroe Islands\",\n",
    "    \"Finland\", \"France\", \"Georgia\", \"Germany\", \"Gibraltar\", \"Greece\", \"Hungary\", \"Iceland\",\n",
    "    \"Israel\", \"Italy\", \"Kazakhstan\", \"Kosovo\", \"Latvia\", \"Liechtenstein\", \"Lithuania\", \"Luxembourg\",\n",
    "    \"Malta\", \"Moldova\", \"Montenegro\", \"Netherlands\", \"North Macedonia\", \"Northern Ireland\", \"Norway\",\n",
    "    \"Poland\", \"Portugal\", \"Republic of Ireland\", \"Romania\", \"Russia\", \"San Marino\", \"Scotland\", \"Serbia\",\n",
    "    \"Slovakia\", \"Slovenia\", \"Spain\", \"Sweden\", \"Switzerland\", \"Turkiye\", \"Ukraine\", \"Wales\"\n",
    "]\n"
   ]
  },
  {
   "cell_type": "code",
   "execution_count": 484,
   "metadata": {},
   "outputs": [
    {
     "name": "stdout",
     "output_type": "stream",
     "text": [
      "     Nr.         Country\n",
      "0      1     Afghanistan\n",
      "1      2         Albania\n",
      "2      3         Algeria\n",
      "3      4  American Samoa\n",
      "4      5         Andorra\n",
      "..   ...             ...\n",
      "205  206         Vietnam\n",
      "206  207           Wales\n",
      "207  208           Yemen\n",
      "208  209          Zambia\n",
      "209  210        Zimbabwe\n",
      "\n",
      "[210 rows x 2 columns]\n"
     ]
    }
   ],
   "source": [
    "import pandas as pd\n",
    "\n",
    "# Combine all country lists\n",
    "all_countries_MO = afc_countries + caf_countries + concacaf_countries + conmebol_countries + ofc_countries + uefa_countries\n",
    "\n",
    "# Sort the countries alphabetically\n",
    "all_countries_sorted = sorted(all_countries_MO)\n",
    "\n",
    "# Create a DataFrame\n",
    "FIFA = pd.DataFrame({\n",
    "    'Nr.': range(1, len(all_countries_sorted) + 1),\n",
    "    'Country': all_countries_sorted\n",
    "})\n",
    "\n",
    "print(FIFA)"
   ]
  },
  {
   "cell_type": "code",
<<<<<<< HEAD
   "execution_count": 485,
   "metadata": {},
   "outputs": [
    {
     "name": "stdout",
     "output_type": "stream",
     "text": [
      "Scraping page 1...\n"
     ]
    },
    {
     "name": "stderr",
     "output_type": "stream",
     "text": [
      "<>:61: SyntaxWarning: invalid escape sequence '\\d'\n",
      "<>:61: SyntaxWarning: invalid escape sequence '\\d'\n",
      "C:\\Users\\modri\\AppData\\Local\\Temp\\ipykernel_11456\\29973502.py:61: SyntaxWarning: invalid escape sequence '\\d'\n",
      "  df['Rank'] = df['Rank'].str.extract('(\\d+)').astype(int)\n"
     ]
    },
    {
     "name": "stdout",
     "output_type": "stream",
     "text": [
      "Page 1 loaded successfully!\n",
      "Scraping page 2...\n",
      "Page 2 loaded successfully!\n",
      "Scraping page 3...\n",
      "Page 3 loaded successfully!\n",
      "Scraping page 4...\n",
      "Page 4 loaded successfully!\n",
      "Scraping page 5...\n",
      "Page 5 loaded successfully!\n",
      "Scraping page 6...\n",
      "Page 6 loaded successfully!\n",
      "Scraping page 7...\n",
      "Page 7 loaded successfully!\n",
      "Scraping page 8...\n",
      "Page 8 loaded successfully!\n",
      "Scraping page 9...\n",
      "Page 9 loaded successfully!\n",
      "Data types:\n",
      "Rank               int64\n",
      "Nation            object\n",
      "Squad Size          int8\n",
      "Avg Age          float64\n",
      "Total Value      float64\n",
      "Confederation     object\n",
      "Points             int16\n",
      "dtype: object\n",
      "Cleaned DataFrame:\n",
      "   Rank     Nation  Squad Size  Avg Age  Total Value Confederation  Points\n",
      "0     1  Argentina          25     27.5  716500000.0      CONMEBOL    1867\n",
      "1     2     France          23     26.8  978000000.0          UEFA    1860\n",
      "2     3      Spain          24     25.9  890000000.0          UEFA    1853\n",
      "3     4    England          23     25.3  995000000.0          UEFA    1814\n",
      "4     5     Brazil          23     27.0  921800000.0      CONMEBOL    1776\n"
     ]
    }
   ],
   "source": [
    "#importing our second dataset from Transfermarekt website through webscrappein\n",
    "import requests\n",
    "from bs4 import BeautifulSoup\n",
    "import pandas as pd\n",
    "import numpy as np\n",
    "\n",
    "# Base URL of the Transfermarkt rankings page\n",
    "url_base = \"https://www.transfermarkt.com/statistik/weltrangliste?page=\"\n",
    "\n",
    "# Set up headers to mimic a real browser request\n",
    "headers = {\n",
    "    'User-Agent': 'Mozilla/5.0 (Windows NT 10.0; Win64; x64) AppleWebKit/537.36 (KHTML, like Gecko) Chrome/91.0.4472.124 Safari/537.36'\n",
    "}\n",
    "\n",
    "# List to hold data from all pages\n",
    "all_data = []\n",
    "\n",
    "# Loop through pages 1 to 9 (since there are 9 pages in total)\n",
    "for page in range(1, 10):  # Scraping 9 pages\n",
    "    print(f\"Scraping page {page}...\")\n",
    "    \n",
    "    # Send a request to the webpage with the custom header\n",
    "    response = requests.get(url_base + str(page), headers=headers)\n",
    "    \n",
    "    # Check if the request was successful\n",
    "    if response.status_code == 200:\n",
    "        print(f\"Page {page} loaded successfully!\")\n",
    "        \n",
    "        # Parse the HTML content of the page\n",
    "        soup = BeautifulSoup(response.content, 'html.parser')\n",
    "        \n",
    "        # Find the table containing the rankings (this can be adjusted if the page structure changes)\n",
    "        table = soup.find('table', {'class': 'items'})  # Look for the table with class \"items\"\n",
    "        \n",
    "        # Extract the rows (data) of the table\n",
    "        rows = table.find_all('tr')[1:]  # Skip the header row\n",
    "        \n",
    "        # Loop through each row and extract the columns\n",
    "        for row in rows:\n",
    "            columns = row.find_all('td')\n",
    "            \n",
    "            # Extract the relevant data from each column and clean it\n",
    "            rank = columns[0].text.strip()\n",
    "            nation = columns[1].find('img')['alt'] if columns[1].find('img') else columns[1].text.strip()\n",
    "            squad_size = columns[2].text.strip()\n",
    "            avg_age = columns[3].text.strip()\n",
    "            total_value = columns[4].text.strip()\n",
    "            confederation = columns[5].text.strip()\n",
    "            points = columns[6].text.strip()\n",
    "            \n",
    "            # Add the data to the list\n",
    "            all_data.append([rank, nation, squad_size, avg_age, total_value, confederation, points])\n",
    "    else:\n",
    "        print(f\"Failed to retrieve page {page}. Status code: {response.status_code}\")\n",
    "\n",
    "# Create a pandas DataFrame from the extracted data with the correct headers\n",
    "headers = ['Rank', 'Nation', 'Squad Size', 'Avg Age', 'Total Value', 'Confederation', 'Points']\n",
    "df = pd.DataFrame(all_data, columns=headers)\n",
    "\n",
    "# Clean the \"Rank\" column: remove non-numeric characters (if any)\n",
    "df['Rank'] = df['Rank'].str.extract('(\\d+)').astype(int)\n",
    "\n",
    "# Convert \"Points\" to numeric (integer)\n",
    "df['Points'] = pd.to_numeric(df['Points'], errors='coerce', downcast='integer')\n",
    "\n",
    "# Convert \"Avg Age\" to float\n",
    "df['Avg Age'] = pd.to_numeric(df['Avg Age'], errors='coerce')\n",
    "\n",
    "# Clean \"Total Value\" column by removing non-numeric characters (€, commas, 'm', 'k', and 'b')\n",
    "def clean_total_value(value):\n",
    "    # If the value is '-', replace with NaN\n",
    "    if value == '-':\n",
    "        return np.nan\n",
    "    \n",
    "    # Remove commas, '€', and strip leading/trailing spaces\n",
    "    value = value.replace('€', '').replace(',', '').strip()\n",
    "    \n",
    "    # Handle 'm' for millions\n",
    "    if 'm' in value.lower():\n",
    "        value = value.replace('m', '').strip()\n",
    "        return float(value) * 1e6  # Convert to millions (multiply by 1,000,000)\n",
    "    \n",
    "    # Handle 'b' for billions\n",
    "    elif 'b' in value.lower():\n",
    "        value = value.replace('b', '').strip()\n",
    "        return float(value) * 1e9  # Convert to billions (multiply by 1,000,000,000)\n",
    "    \n",
    "    # Handle 'k' for thousands\n",
    "    elif 'k' in value.lower():\n",
    "        value = value.replace('k', '').strip()\n",
    "        return float(value) * 1e3  # Convert to thousands (multiply by 1,000)\n",
    "    \n",
    "    # Otherwise, return the value as is (if it's just a plain number)\n",
    "    return float(value)\n",
    "\n",
    "# Apply the function to clean the \"Total Value\" column\n",
    "df['Total Value'] = df['Total Value'].apply(clean_total_value)\n",
    "\n",
    "# Convert \"Squad Size\" to numeric (integer)\n",
    "df['Squad Size'] = pd.to_numeric(df['Squad Size'], errors='coerce', downcast='integer')\n",
    "\n",
    "# Convert \"Confederation\" to object (string), ensuring no unexpected values\n",
    "df['Confederation'] = df['Confederation'].astype(str)\n",
    "\n",
    "# Ensure that the correct data types are set\n",
    "print(f\"Data types:\\n{df.dtypes}\")\n",
    "\n",
    "# Display the cleaned DataFrame\n",
    "print(\"Cleaned DataFrame:\")\n",
    "print(df.head())\n",
    "\n",
    "# Save the cleaned DataFrame to a CSV file\n",
    "#df.to_csv('transfermarkt_rankings.csv', index=False)\n"
   ]
  },
  {
   "cell_type": "code",
   "execution_count": 486,
   "metadata": {},
   "outputs": [
    {
     "data": {
      "application/vnd.microsoft.datawrangler.viewer.v0+json": {
       "columns": [
        {
         "name": "index",
         "rawType": "int64",
         "type": "integer"
        },
        {
         "name": "Rank",
         "rawType": "int64",
         "type": "integer"
        },
        {
         "name": "Nation",
         "rawType": "object",
         "type": "string"
        },
        {
         "name": "Squad Size",
         "rawType": "int8",
         "type": "integer"
        },
        {
         "name": "Avg Age",
         "rawType": "float64",
         "type": "float"
        },
        {
         "name": "Total Value",
         "rawType": "float64",
         "type": "float"
        },
        {
         "name": "Confederation",
         "rawType": "object",
         "type": "string"
        },
        {
         "name": "Points",
         "rawType": "int16",
         "type": "integer"
        }
       ],
       "conversionMethod": "pd.DataFrame",
       "ref": "3834a8ba-e198-4754-947b-08b97397dd48",
       "rows": [
        [
         "0",
         "1",
         "Argentina",
         "25",
         "27.5",
         "716500000.0",
         "CONMEBOL",
         "1867"
        ],
        [
         "1",
         "2",
         "France",
         "23",
         "26.8",
         "978000000.0",
         "UEFA",
         "1860"
        ],
        [
         "2",
         "3",
         "Spain",
         "24",
         "25.9",
         "890000000.0",
         "UEFA",
         "1853"
        ],
        [
         "3",
         "4",
         "England",
         "23",
         "25.3",
         "995000000.0",
         "UEFA",
         "1814"
        ],
        [
         "4",
         "5",
         "Brazil",
         "23",
         "27.0",
         "921800000.0",
         "CONMEBOL",
         "1776"
        ]
       ],
       "shape": {
        "columns": 7,
        "rows": 5
       }
      },
      "text/html": [
       "<div>\n",
       "<style scoped>\n",
       "    .dataframe tbody tr th:only-of-type {\n",
       "        vertical-align: middle;\n",
       "    }\n",
       "\n",
       "    .dataframe tbody tr th {\n",
       "        vertical-align: top;\n",
       "    }\n",
       "\n",
       "    .dataframe thead th {\n",
       "        text-align: right;\n",
       "    }\n",
       "</style>\n",
       "<table border=\"1\" class=\"dataframe\">\n",
       "  <thead>\n",
       "    <tr style=\"text-align: right;\">\n",
       "      <th></th>\n",
       "      <th>Rank</th>\n",
       "      <th>Nation</th>\n",
       "      <th>Squad Size</th>\n",
       "      <th>Avg Age</th>\n",
       "      <th>Total Value</th>\n",
       "      <th>Confederation</th>\n",
       "      <th>Points</th>\n",
       "    </tr>\n",
       "  </thead>\n",
       "  <tbody>\n",
       "    <tr>\n",
       "      <th>0</th>\n",
       "      <td>1</td>\n",
       "      <td>Argentina</td>\n",
       "      <td>25</td>\n",
       "      <td>27.5</td>\n",
       "      <td>716500000.0</td>\n",
       "      <td>CONMEBOL</td>\n",
       "      <td>1867</td>\n",
       "    </tr>\n",
       "    <tr>\n",
       "      <th>1</th>\n",
       "      <td>2</td>\n",
       "      <td>France</td>\n",
       "      <td>23</td>\n",
       "      <td>26.8</td>\n",
       "      <td>978000000.0</td>\n",
       "      <td>UEFA</td>\n",
       "      <td>1860</td>\n",
       "    </tr>\n",
       "    <tr>\n",
       "      <th>2</th>\n",
       "      <td>3</td>\n",
       "      <td>Spain</td>\n",
       "      <td>24</td>\n",
       "      <td>25.9</td>\n",
       "      <td>890000000.0</td>\n",
       "      <td>UEFA</td>\n",
       "      <td>1853</td>\n",
       "    </tr>\n",
       "    <tr>\n",
       "      <th>3</th>\n",
       "      <td>4</td>\n",
       "      <td>England</td>\n",
       "      <td>23</td>\n",
       "      <td>25.3</td>\n",
       "      <td>995000000.0</td>\n",
       "      <td>UEFA</td>\n",
       "      <td>1814</td>\n",
       "    </tr>\n",
       "    <tr>\n",
       "      <th>4</th>\n",
       "      <td>5</td>\n",
       "      <td>Brazil</td>\n",
       "      <td>23</td>\n",
       "      <td>27.0</td>\n",
       "      <td>921800000.0</td>\n",
       "      <td>CONMEBOL</td>\n",
       "      <td>1776</td>\n",
       "    </tr>\n",
       "  </tbody>\n",
       "</table>\n",
       "</div>"
      ],
      "text/plain": [
       "   Rank     Nation  Squad Size  Avg Age  Total Value Confederation  Points\n",
       "0     1  Argentina          25     27.5  716500000.0      CONMEBOL    1867\n",
       "1     2     France          23     26.8  978000000.0          UEFA    1860\n",
       "2     3      Spain          24     25.9  890000000.0          UEFA    1853\n",
       "3     4    England          23     25.3  995000000.0          UEFA    1814\n",
       "4     5     Brazil          23     27.0  921800000.0      CONMEBOL    1776"
      ]
     },
     "execution_count": 486,
     "metadata": {},
     "output_type": "execute_result"
    }
   ],
   "source": [
    "df.head()"
   ]
  },
  {
   "cell_type": "code",
   "execution_count": 487,
   "metadata": {},
   "outputs": [],
   "source": [
    "#remoing the columns that we dont need!\n",
    "transfer_market_25 = df.drop(columns=['Squad Size', 'Avg Age','Total Value'])"
   ]
  },
  {
   "cell_type": "code",
   "execution_count": 488,
   "metadata": {},
   "outputs": [
    {
     "data": {
      "application/vnd.microsoft.datawrangler.viewer.v0+json": {
       "columns": [
        {
         "name": "index",
         "rawType": "int64",
         "type": "integer"
        },
        {
         "name": "Rank",
         "rawType": "int64",
         "type": "integer"
        },
        {
         "name": "Nation",
         "rawType": "object",
         "type": "string"
        },
        {
         "name": "Confederation",
         "rawType": "object",
         "type": "string"
        },
        {
         "name": "Points",
         "rawType": "int16",
         "type": "integer"
        }
       ],
       "conversionMethod": "pd.DataFrame",
       "ref": "40760454-f129-4229-8ea1-4daa23452a24",
       "rows": [
        [
         "0",
         "1",
         "Argentina",
         "CONMEBOL",
         "1867"
        ],
        [
         "1",
         "2",
         "France",
         "UEFA",
         "1860"
        ],
        [
         "2",
         "3",
         "Spain",
         "UEFA",
         "1853"
        ],
        [
         "3",
         "4",
         "England",
         "UEFA",
         "1814"
        ],
        [
         "4",
         "5",
         "Brazil",
         "CONMEBOL",
         "1776"
        ],
        [
         "5",
         "6",
         "Portugal",
         "UEFA",
         "1756"
        ],
        [
         "6",
         "7",
         "Netherlands",
         "UEFA",
         "1748"
        ],
        [
         "7",
         "8",
         "Belgium",
         "UEFA",
         "1741"
        ],
        [
         "8",
         "9",
         "Italy",
         "UEFA",
         "1732"
        ],
        [
         "9",
         "10",
         "Germany",
         "UEFA",
         "1704"
        ],
        [
         "10",
         "11",
         "Uruguay",
         "CONMEBOL",
         "1696"
        ],
        [
         "11",
         "12",
         "Colombia",
         "CONMEBOL",
         "1694"
        ],
        [
         "12",
         "13",
         "Croatia",
         "UEFA",
         "1692"
        ],
        [
         "13",
         "14",
         "Morocco",
         "CAF",
         "1688"
        ],
        [
         "14",
         "15",
         "Japan",
         "AFC",
         "1653"
        ],
        [
         "15",
         "16",
         "United States",
         "CONCACAF",
         "1645"
        ],
        [
         "16",
         "17",
         "Senegal",
         "CAF",
         "1637"
        ],
        [
         "17",
         "18",
         "Iran",
         "AFC",
         "1635"
        ],
        [
         "18",
         "19",
         "Mexico",
         "CONCACAF",
         "1627"
        ],
        [
         "19",
         "20",
         "Switzerland",
         "UEFA",
         "1625"
        ],
        [
         "20",
         "21",
         "Denmark",
         "UEFA",
         "1611"
        ],
        [
         "21",
         "22",
         "Austria",
         "UEFA",
         "1590"
        ],
        [
         "22",
         "23",
         "South Korea",
         "AFC",
         "1585"
        ],
        [
         "23",
         "24",
         "Ecuador",
         "CONMEBOL",
         "1560"
        ],
        [
         "24",
         "25",
         "Ukraine",
         "UEFA",
         "1555"
        ],
        [
         "25",
         "26",
         "Australia",
         "AFC",
         "1544"
        ],
        [
         "26",
         "27",
         "Sweden",
         "UEFA",
         "1540"
        ],
        [
         "27",
         "28",
         "Turkiye",
         "UEFA",
         "1537"
        ],
        [
         "28",
         "29",
         "Wales",
         "UEFA",
         "1534"
        ],
        [
         "29",
         "30",
         "Hungary",
         "UEFA",
         "1518"
        ],
        [
         "30",
         "31",
         "Canada",
         "CONCACAF",
         "1516"
        ],
        [
         "31",
         "32",
         "Serbia",
         "UEFA",
         "1514"
        ],
        [
         "32",
         "33",
         "Egypt",
         "CAF",
         "1513"
        ],
        [
         "33",
         "34",
         "Russia",
         "UEFA",
         "1512"
        ],
        [
         "34",
         "35",
         "Poland",
         "UEFA",
         "1511"
        ],
        [
         "35",
         "36",
         "Panama",
         "CONCACAF",
         "1504"
        ],
        [
         "36",
         "37",
         "Algeria",
         "CAF",
         "1496"
        ],
        [
         "37",
         "38",
         "Romania",
         "UEFA",
         "1494"
        ],
        [
         "38",
         "39",
         "Greece",
         "UEFA",
         "1490"
        ],
        [
         "39",
         "40",
         "Peru",
         "CONMEBOL",
         "1488"
        ],
        [
         "40",
         "41",
         "Slovakia",
         "UEFA",
         "1486"
        ],
        [
         "41",
         "42",
         "Czech Republic",
         "UEFA",
         "1485"
        ],
        [
         "42",
         "43",
         "Norway",
         "UEFA",
         "1484"
        ],
        [
         "43",
         "44",
         "Nigeria",
         "CAF",
         "1482"
        ],
        [
         "44",
         "45",
         "Scotland",
         "UEFA",
         "1480"
        ],
        [
         "45",
         "46",
         "Ivory Coast",
         "CAF",
         "1478"
        ],
        [
         "46",
         "47",
         "Venezuela",
         "CONMEBOL",
         "1476"
        ],
        [
         "47",
         "48",
         "Qatar",
         "AFC",
         "1475"
        ],
        [
         "48",
         "49",
         "Cameroon",
         "CAF",
         "1471"
        ],
        [
         "49",
         "50",
         "Chile",
         "CONMEBOL",
         "1469"
        ]
       ],
       "shape": {
        "columns": 4,
        "rows": 210
       }
      },
      "text/html": [
       "<div>\n",
       "<style scoped>\n",
       "    .dataframe tbody tr th:only-of-type {\n",
       "        vertical-align: middle;\n",
       "    }\n",
       "\n",
       "    .dataframe tbody tr th {\n",
       "        vertical-align: top;\n",
       "    }\n",
       "\n",
       "    .dataframe thead th {\n",
       "        text-align: right;\n",
       "    }\n",
       "</style>\n",
       "<table border=\"1\" class=\"dataframe\">\n",
       "  <thead>\n",
       "    <tr style=\"text-align: right;\">\n",
       "      <th></th>\n",
       "      <th>Rank</th>\n",
       "      <th>Nation</th>\n",
       "      <th>Confederation</th>\n",
       "      <th>Points</th>\n",
       "    </tr>\n",
       "  </thead>\n",
       "  <tbody>\n",
       "    <tr>\n",
       "      <th>0</th>\n",
       "      <td>1</td>\n",
       "      <td>Argentina</td>\n",
       "      <td>CONMEBOL</td>\n",
       "      <td>1867</td>\n",
       "    </tr>\n",
       "    <tr>\n",
       "      <th>1</th>\n",
       "      <td>2</td>\n",
       "      <td>France</td>\n",
       "      <td>UEFA</td>\n",
       "      <td>1860</td>\n",
       "    </tr>\n",
       "    <tr>\n",
       "      <th>2</th>\n",
       "      <td>3</td>\n",
       "      <td>Spain</td>\n",
       "      <td>UEFA</td>\n",
       "      <td>1853</td>\n",
       "    </tr>\n",
       "    <tr>\n",
       "      <th>3</th>\n",
       "      <td>4</td>\n",
       "      <td>England</td>\n",
       "      <td>UEFA</td>\n",
       "      <td>1814</td>\n",
       "    </tr>\n",
       "    <tr>\n",
       "      <th>4</th>\n",
       "      <td>5</td>\n",
       "      <td>Brazil</td>\n",
       "      <td>CONMEBOL</td>\n",
       "      <td>1776</td>\n",
       "    </tr>\n",
       "    <tr>\n",
       "      <th>...</th>\n",
       "      <td>...</td>\n",
       "      <td>...</td>\n",
       "      <td>...</td>\n",
       "      <td>...</td>\n",
       "    </tr>\n",
       "    <tr>\n",
       "      <th>205</th>\n",
       "      <td>206</td>\n",
       "      <td>Turks and Caicos Islands</td>\n",
       "      <td>CONCACAF</td>\n",
       "      <td>804</td>\n",
       "    </tr>\n",
       "    <tr>\n",
       "      <th>206</th>\n",
       "      <td>207</td>\n",
       "      <td>British Virgin Islands</td>\n",
       "      <td>CONCACAF</td>\n",
       "      <td>780</td>\n",
       "    </tr>\n",
       "    <tr>\n",
       "      <th>207</th>\n",
       "      <td>208</td>\n",
       "      <td>United States Virgin Islands</td>\n",
       "      <td>CONCACAF</td>\n",
       "      <td>780</td>\n",
       "    </tr>\n",
       "    <tr>\n",
       "      <th>208</th>\n",
       "      <td>209</td>\n",
       "      <td>Anguilla</td>\n",
       "      <td>CONCACAF</td>\n",
       "      <td>769</td>\n",
       "    </tr>\n",
       "    <tr>\n",
       "      <th>209</th>\n",
       "      <td>210</td>\n",
       "      <td>San Marino</td>\n",
       "      <td>UEFA</td>\n",
       "      <td>747</td>\n",
       "    </tr>\n",
       "  </tbody>\n",
       "</table>\n",
       "<p>210 rows × 4 columns</p>\n",
       "</div>"
      ],
      "text/plain": [
       "     Rank                        Nation Confederation  Points\n",
       "0       1                     Argentina      CONMEBOL    1867\n",
       "1       2                        France          UEFA    1860\n",
       "2       3                         Spain          UEFA    1853\n",
       "3       4                       England          UEFA    1814\n",
       "4       5                        Brazil      CONMEBOL    1776\n",
       "..    ...                           ...           ...     ...\n",
       "205   206      Turks and Caicos Islands      CONCACAF     804\n",
       "206   207        British Virgin Islands      CONCACAF     780\n",
       "207   208  United States Virgin Islands      CONCACAF     780\n",
       "208   209                      Anguilla      CONCACAF     769\n",
       "209   210                    San Marino          UEFA     747\n",
       "\n",
       "[210 rows x 4 columns]"
      ]
     },
     "execution_count": 488,
     "metadata": {},
     "output_type": "execute_result"
    }
   ],
   "source": [
    "transfer_market_25"
   ]
  },
  {
   "cell_type": "code",
   "execution_count": 489,
   "metadata": {},
   "outputs": [
    {
     "data": {
      "text/plain": [
       "Rank             210\n",
       "Nation           210\n",
       "Confederation      6\n",
       "Points           193\n",
       "dtype: int64"
      ]
     },
     "execution_count": 489,
     "metadata": {},
     "output_type": "execute_result"
    }
   ],
   "source": [
    "transfer_market_25.nunique()"
   ]
  },
  {
   "cell_type": "code",
   "execution_count": 490,
   "metadata": {},
   "outputs": [
    {
     "name": "stdout",
     "output_type": "stream",
     "text": [
      "           Nation  Pro Players  All Players\n",
      "0     Afghanistan          NaN          NaN\n",
      "1         Albania          NaN      17500.0\n",
      "2         Algeria          NaN          NaN\n",
      "3  American Samoa          NaN          NaN\n",
      "4         Andorra          NaN          NaN\n"
     ]
    }
   ],
   "source": [
    "import pandas as pd\n",
    "\n",
    "\n",
    "# Read the FIFA.csv file into a DataFrame\n",
    "fifa_TP = pd.read_excel('123.xlsx')\n",
    "\n",
    "# Display the first few rows of the DataFrame\n",
    "print(fifa_TP.head())\n"
   ]
  },
  {
   "cell_type": "code",
   "execution_count": 491,
   "metadata": {},
   "outputs": [
    {
     "name": "stdout",
     "output_type": "stream",
     "text": [
      "     Rank                        Nation Confederation  Points          Nation  \\\n",
      "0       1                     Argentina      CONMEBOL    1867     Afghanistan   \n",
      "1       2                        France          UEFA    1860         Albania   \n",
      "2       3                         Spain          UEFA    1853         Algeria   \n",
      "3       4                       England          UEFA    1814  American Samoa   \n",
      "4       5                        Brazil      CONMEBOL    1776         Andorra   \n",
      "..    ...                           ...           ...     ...             ...   \n",
      "205   206      Turks and Caicos Islands      CONCACAF     804         Somalia   \n",
      "206   207        British Virgin Islands      CONCACAF     780        Tanzania   \n",
      "207   208  United States Virgin Islands      CONCACAF     780    Turkmenistan   \n",
      "208   209                      Anguilla      CONCACAF     769       Venezuela   \n",
      "209   210                    San Marino          UEFA     747             NaN   \n",
      "\n",
      "     Pro Players  All Players  \n",
      "0            NaN          NaN  \n",
      "1            NaN      17500.0  \n",
      "2            NaN          NaN  \n",
      "3            NaN          NaN  \n",
      "4            NaN          NaN  \n",
      "..           ...          ...  \n",
      "205          NaN          NaN  \n",
      "206          NaN          NaN  \n",
      "207          NaN          NaN  \n",
      "208          NaN          NaN  \n",
      "209          NaN          NaN  \n",
      "\n",
      "[210 rows x 7 columns]\n"
     ]
    }
   ],
   "source": [
    "# Combine the two data frames next to each other\n",
    "combined_df = pd.concat([transfer_market_25, fifa_TP], axis=1)\n",
    "\n",
    "# Display the combined data frame\n",
    "print(combined_df)"
   ]
  },
  {
   "cell_type": "code",
   "execution_count": 492,
   "metadata": {},
   "outputs": [
    {
     "name": "stdout",
     "output_type": "stream",
     "text": [
      "             Nation  Pro Players  All Players  Rank Confederation  Points\n",
      "0       Afghanistan          NaN          NaN   156           AFC    1025\n",
      "1           Albania          NaN      17500.0    65          UEFA    1376\n",
      "2           Algeria          NaN          NaN    37           CAF    1496\n",
      "3    American Samoa          NaN          NaN   187           OFC     883\n",
      "4           Andorra          NaN          NaN   171          UEFA     972\n",
      "..              ...          ...          ...   ...           ...     ...\n",
      "203     Puerto Rico          NaN          NaN   157      CONCACAF    1023\n",
      "204         Somalia          NaN          NaN   202           CAF     830\n",
      "205        Tanzania          NaN          NaN   106           CAF    1199\n",
      "206    Turkmenistan          NaN          NaN   143           AFC    1065\n",
      "207       Venezuela          NaN          NaN    47      CONMEBOL    1476\n",
      "\n",
      "[208 rows x 6 columns]\n"
     ]
    }
   ],
   "source": [
    "# Combine the two data frames on the 'Nation' column\n",
    "combined_df = pd.merge(fifa_TP, transfer_market_25, on='Nation', how='inner')\n",
    "\n",
    "# Display the combined data frame\n",
    "print(combined_df)"
   ]
  },
  {
   "cell_type": "code",
   "execution_count": 493,
   "metadata": {},
   "outputs": [
    {
     "name": "stdout",
     "output_type": "stream",
     "text": [
      "                           Nation  Pro Players  All Players  Rank  \\\n",
      "8                       Argentina          NaN    4928574.0     1   \n",
      "68                         France       4000.0    2200000.0     2   \n",
      "172                         Spain       8560.0    4107300.0     3   \n",
      "60                        England       5582.0   11800000.0     4   \n",
      "27                         Brazil          NaN   12000000.0     5   \n",
      "..                            ...          ...          ...   ...   \n",
      "189      Turks and Caicos Islands          NaN          NaN   206   \n",
      "28         British Virgin Islands          NaN          NaN   207   \n",
      "194  United States Virgin Islands          NaN          NaN   208   \n",
      "6                        Anguilla          NaN          NaN   209   \n",
      "159                    San Marino          NaN          NaN   210   \n",
      "\n",
      "    Confederation  Points  \n",
      "8        CONMEBOL    1867  \n",
      "68           UEFA    1860  \n",
      "172          UEFA    1853  \n",
      "60           UEFA    1814  \n",
      "27       CONMEBOL    1776  \n",
      "..            ...     ...  \n",
      "189      CONCACAF     804  \n",
      "28       CONCACAF     780  \n",
      "194      CONCACAF     780  \n",
      "6        CONCACAF     769  \n",
      "159          UEFA     747  \n",
      "\n",
      "[208 rows x 6 columns]\n"
     ]
    }
   ],
   "source": [
    "combined_df_sorted = combined_df.sort_values(by='Rank')\n",
    "print(combined_df_sorted)"
   ]
  },
  {
   "cell_type": "code",
   "execution_count": null,
   "metadata": {},
   "outputs": [],
   "source": []
  },
  {
   "cell_type": "code",
   "execution_count": 494,
=======
   "execution_count": 13,
   "metadata": {},
   "outputs": [],
   "source": [
    "import  pandas as pd"
   ]
  },
  {
   "cell_type": "code",
   "execution_count": 15,
   "metadata": {},
   "outputs": [],
   "source": [
    "import csv as pd"
   ]
  },
  {
   "cell_type": "code",
   "execution_count": 53,
>>>>>>> e25f1c76b31e8d088e2a7c8a2b1a942c8088a88a
   "metadata": {},
   "outputs": [
    {
     "name": "stdout",
     "output_type": "stream",
     "text": [
<<<<<<< HEAD
      "           Country  2024 Population\n",
      "0            India       1450940000\n",
      "1            China       1419320000\n",
      "2    United States        345427000\n",
      "3        Indonesia        283488000\n",
      "4         Pakistan        251269000\n",
      "..             ...              ...\n",
      "216      Gibraltar            39329\n",
      "219     San Marino            33581\n",
      "222       Anguilla            14598\n",
      "223   Cook Islands            13729\n",
      "229     Montserrat             4389\n",
      "\n",
      "[192 rows x 2 columns]\n"
     ]
    },
    {
     "name": "stderr",
     "output_type": "stream",
     "text": [
      "C:\\Users\\modri\\AppData\\Local\\Temp\\ipykernel_11456\\3115633898.py:46: FutureWarning: Passing literal html to 'read_html' is deprecated and will be removed in a future version. To read from a literal string, wrap it in a 'StringIO' object.\n",
      "  tables = pd.read_html(response.text)\n"
=======
      "  rank       country_full country_abrv total_points previous_points  \\\n",
      "0  140  Brunei Darussalam          BRU            2               0   \n",
      "1   33           Portugal          POR           38               0   \n",
      "2   32             Zambia          ZAM           38               0   \n",
      "3   31             Greece          GRE           38               0   \n",
      "4   30            Algeria          ALG           39               0   \n",
      "\n",
      "  rank_change confederation  rank_date  \n",
      "0         140           AFC 1992-12-31  \n",
      "1          33          UEFA 1992-12-31  \n",
      "2          32           CAF 1992-12-31  \n",
      "3          31          UEFA 1992-12-31  \n",
      "4          30           CAF 1992-12-31  \n"
>>>>>>> e25f1c76b31e8d088e2a7c8a2b1a942c8088a88a
     ]
    }
   ],
   "source": [
<<<<<<< HEAD
    "import requests\n",
    "import pandas as pd\n",
    "# List of countries you’re interested in\n",
    "countries = [\"Afghanistan\", \"Albania\", \"Algeria\", \"American Samoa\", \"Andorra\", \"Angola\",\n",
    " \"Anguilla\", \"Antigua and Barbuda\", \"Argentina\", \"Armenia\", \"Aruba\", \"Australia\",\n",
    " \"Austria\", \"Azerbaijan\", \"Bahamas\", \"Bahrain\", \"Bangladesh\", \"Barbados\",\n",
    " \"Belarus\", \"Belgium\", \"Belize\", \"Benin\", \"Bermuda\", \"Bhutan\", \"Bolivia\",\n",
    " \"Bosnia-Herzegovina\", \"Botswana\", \"Brazil\", \"British Virgin Islands\",\n",
    " \"Brunei Darussalam\", \"Bulgaria\", \"Burkina Faso\", \"Burundi\", \"Cambodia\",\n",
    " \"Cameroon\", \"Canada\", \"Cape Verde\", \"Cayman Islands\", \"Central African Republic\",\n",
    " \"Chad\", \"Chile\", \"China\", \"Chinese Taipei\", \"Colombia\", \"Comoros\",\n",
    " \"Republic of the Congo\", \"Democratic Republic of the Congo\", \"Cook Islands\",\n",
    " \"Costa Rica\", \"Croatia\", \"Cuba\", \"Curaçao\", \"Cyprus\", \"Czech Republic\",\n",
    " \"Denmark\", \"Djibouti\", \"Dominican Republic\", \"Ecuador\", \"Egypt\", \"El Salvador\",\n",
    " \"England\", \"Equatorial Guinea\", \"Estonia\", \"Eswatini\", \"Ethiopia\", \"Faroe Islands\",\n",
    " \"Fiji\", \"Finland\", \"France\", \"Gabon\", \"The Gambia\", \"Georgia\", \"Germany\",\n",
    " \"Ghana\", \"Gibraltar\", \"Greece\", \"Grenada\", \"Guam\", \"Guatemala\", \"Guinea\",\n",
    " \"Guinea-Bissau\", \"Guyana\", \"Haiti\", \"Honduras\", \"Hong Kong\", \"Hungary\", \"Iran\",\n",
    " \"Iceland\", \"India\", \"Indonesia\", \"Iraq\", \"Republic of Ireland\", \"Israel\", \"Italy\",\n",
    " \"Ivory Coast\", \"Jamaica\", \"Japan\", \"Jordan\", \"Kazakhstan\", \"Kenya\", \"North Korea\",\n",
    " \"South Korea\", \"Kosovo\", \"Kuwait\", \"Kyrgyzstan\", \"Laos\", \"Latvia\", \"Lebanon\",\n",
    " \"Lesotho\", \"Liberia\", \"Libya\", \"Liechtenstein\", \"Lithuania\", \"Luxembourg\", \"Macau\",\n",
    " \"Madagascar\", \"Malawi\", \"Malaysia\", \"Maldives\", \"Mali\", \"Malta\", \"Mauritania\",\n",
    " \"Mauritius\", \"Mexico\", \"Moldova\", \"Mongolia\", \"Montenegro\", \"Montserrat\",\n",
    " \"Morocco\", \"Mozambique\", \"Myanmar\", \"Namibia\", \"Nepal\", \"Netherlands\",\n",
    " \"New Caledonia\", \"New Zealand\", \"Nicaragua\", \"Niger\", \"Nigeria\", \"North Macedonia\",\n",
    " \"Northern Ireland\", \"Norway\", \"Oman\", \"Pakistan\", \"Palestine\", \"Panama\",\n",
    " \"Papua New Guinea\", \"Paraguay\", \"Peru\", \"Philippines\", \"Poland\", \"Portugal\",\n",
    " \"Qatar\", \"Romania\", \"Russia\", \"Rwanda\", \"Saint Kitts and Nevis\", \"Saint Lucia\",\n",
    " \"Saint Vincent and the Grenadines\", \"Samoa\", \"San Marino\", \"Saudi Arabia\",\n",
    " \"Scotland\", \"Senegal\", \"Serbia\", \"Seychelles\", \"Sierra Leone\", \"Singapore\",\n",
    " \"Slovakia\", \"Slovenia\", \"Solomon Islands\", \"South Africa\", \"South Sudan\", \"Spain\",\n",
    " \"Sri Lanka\", \"Sudan\", \"Suriname\", \"Sweden\", \"Switzerland\", \"Syria\",\n",
    " \"São Tomé and Príncipe\", \"Tahiti\", \"Tajikistan\", \"Thailand\", \"Timor-Leste\", \"Togo\",\n",
    " \"Tonga\", \"Trinidad and Tobago\", \"Tunisia\", \"Turkiye\", \"Turks and Caicos Islands\",\n",
    " \"Uganda\", \"Ukraine\", \"United Arab Emirates\", \"United States\", \"United States Virgin Islands\",\n",
    " \"Uruguay\", \"Uzbekistan\", \"Vanuatu\", \"Vietnam\", \"Wales\", \"Yemen\", \"Zambia\", \"Zimbabwe\",\n",
    " \"Puerto Rico\", \"Somalia\", \"Tanzania\", \"Turkmenistan\", \"Venezuela\"]\n",
    "\n",
    "# Base URL for World Population Review\n",
    "base_url = \"https://worldpopulationreview.com/\"\n",
    "# Fetch the population data\n",
    "response = requests.get(base_url)\n",
    "if response.status_code == 200:\n",
    "    # Parse the data into a DataFrame\n",
    "    tables = pd.read_html(response.text)\n",
    "    # The first table contains the population data\n",
    "    population_df = tables[0]\n",
    "    # Filter the DataFrame for the countries of interest\n",
    "    filtered_df = population_df[population_df['Country'].isin(countries)]\n",
    "    # Display only the 'Country' and '2024 Population' columns\n",
    "    result_df = filtered_df[['Country', '2024 Population']]\n",
    "    # result_df = result_df.sort_values(by=\"Country\", ascending=True)\n",
    "    # Display the result\n",
    "    print(result_df)\n",
    "else:\n",
    "    print(\"Failed to retrieve data.\")"
=======
    "#importing fifa dataset from 1992 till 2024 using Kaggle webseite.\n",
    "import csv\n",
    "import pandas as pd\n",
    "\n",
    "# Open and read CSV file\n",
    "with open(\"/Users/ahmadkhalilghamai/Downloads/fifa_ranking-2024-06-20.csv\", newline=\"\") as file:\n",
    "    reader = csv.reader(file)\n",
    "    data = list(reader) \n",
    "\n",
    "\n",
    "ranking_ag = pd.DataFrame(data[1:], columns=data[0])\n",
    "\n",
    "print(df.head())"
>>>>>>> e25f1c76b31e8d088e2a7c8a2b1a942c8088a88a
   ]
  },
  {
   "cell_type": "code",
<<<<<<< HEAD
   "execution_count": 495,
=======
   "execution_count": 55,
>>>>>>> e25f1c76b31e8d088e2a7c8a2b1a942c8088a88a
   "metadata": {},
   "outputs": [
    {
     "data": {
<<<<<<< HEAD
      "application/vnd.microsoft.datawrangler.viewer.v0+json": {
       "columns": [
        {
         "name": "index",
         "rawType": "int64",
         "type": "integer"
        },
        {
         "name": "Country",
         "rawType": "object",
         "type": "string"
        },
        {
         "name": "2024 Population",
         "rawType": "int64",
         "type": "integer"
        }
       ],
       "conversionMethod": "pd.DataFrame",
       "ref": "fc76c902-b879-4362-8ee8-be13a8fe5231",
       "rows": [
        [
         "35",
         "Afghanistan",
         "42647500"
        ],
        [
         "142",
         "Albania",
         "2791760"
        ],
        [
         "32",
         "Algeria",
         "46814300"
        ],
        [
         "210",
         "American Samoa",
         "46765"
        ],
        [
         "202",
         "Andorra",
         "81938"
        ],
        [
         "40",
         "Angola",
         "37885800"
        ],
        [
         "222",
         "Anguilla",
         "14598"
        ],
        [
         "199",
         "Antigua and Barbuda",
         "93772"
        ],
        [
         "34",
         "Argentina",
         "45696200"
        ],
        [
         "139",
         "Armenia",
         "2973840"
        ],
        [
         "195",
         "Aruba",
         "108066"
        ],
        [
         "54",
         "Australia",
         "26713200"
        ],
        [
         "98",
         "Austria",
         "9120810"
        ],
        [
         "93",
         "Azerbaijan",
         "10336600"
        ],
        [
         "176",
         "Bahamas",
         "401283"
        ],
        [
         "152",
         "Bahrain",
         "1607050"
        ],
        [
         "7",
         "Bangladesh",
         "173562000"
        ],
        [
         "184",
         "Barbados",
         "282467"
        ],
        [
         "99",
         "Belarus",
         "9056700"
        ],
        [
         "82",
         "Belgium",
         "11738800"
        ],
        [
         "175",
         "Belize",
         "417072"
        ],
        [
         "75",
         "Benin",
         "14462700"
        ],
        [
         "205",
         "Bermuda",
         "64636"
        ],
        [
         "165",
         "Bhutan",
         "791524"
        ],
        [
         "78",
         "Bolivia",
         "12413300"
        ],
        [
         "145",
         "Botswana",
         "2521140"
        ],
        [
         "6",
         "Brazil",
         "211999000"
        ],
        [
         "215",
         "British Virgin Islands",
         "39471"
        ],
        [
         "109",
         "Bulgaria",
         "6757690"
        ],
        [
         "58",
         "Burkina Faso",
         "23548800"
        ],
        [
         "77",
         "Burundi",
         "14047800"
        ],
        [
         "72",
         "Cambodia",
         "17638800"
        ],
        [
         "51",
         "Cameroon",
         "29123700"
        ],
        [
         "37",
         "Canada",
         "39742400"
        ],
        [
         "173",
         "Cape Verde",
         "524877"
        ],
        [
         "203",
         "Cayman Islands",
         "74457"
        ],
        [
         "121",
         "Central African Republic",
         "5330690"
        ],
        [
         "64",
         "Chad",
         "20299100"
        ],
        [
         "65",
         "Chile",
         "19764800"
        ],
        [
         "1",
         "China",
         "1419320000"
        ],
        [
         "27",
         "Colombia",
         "52886400"
        ],
        [
         "162",
         "Comoros",
         "866628"
        ],
        [
         "223",
         "Cook Islands",
         "13729"
        ],
        [
         "126",
         "Costa Rica",
         "5129910"
        ],
        [
         "129",
         "Croatia",
         "3875320"
        ],
        [
         "86",
         "Cuba",
         "10979800"
        ],
        [
         "156",
         "Cyprus",
         "1358280"
        ],
        [
         "88",
         "Czech Republic",
         "10735900"
        ],
        [
         "113",
         "Denmark",
         "5977410"
        ],
        [
         "159",
         "Djibouti",
         "1168720"
        ]
       ],
       "shape": {
        "columns": 2,
        "rows": 192
       }
      },
=======
>>>>>>> e25f1c76b31e8d088e2a7c8a2b1a942c8088a88a
      "text/html": [
       "<div>\n",
       "<style scoped>\n",
       "    .dataframe tbody tr th:only-of-type {\n",
       "        vertical-align: middle;\n",
       "    }\n",
       "\n",
       "    .dataframe tbody tr th {\n",
       "        vertical-align: top;\n",
       "    }\n",
       "\n",
       "    .dataframe thead th {\n",
       "        text-align: right;\n",
       "    }\n",
       "</style>\n",
       "<table border=\"1\" class=\"dataframe\">\n",
       "  <thead>\n",
       "    <tr style=\"text-align: right;\">\n",
       "      <th></th>\n",
<<<<<<< HEAD
       "      <th>Country</th>\n",
       "      <th>2024 Population</th>\n",
=======
       "      <th>rank</th>\n",
       "      <th>country_full</th>\n",
       "      <th>country_abrv</th>\n",
       "      <th>total_points</th>\n",
       "      <th>previous_points</th>\n",
       "      <th>rank_change</th>\n",
       "      <th>confederation</th>\n",
       "      <th>rank_date</th>\n",
>>>>>>> e25f1c76b31e8d088e2a7c8a2b1a942c8088a88a
       "    </tr>\n",
       "  </thead>\n",
       "  <tbody>\n",
       "    <tr>\n",
<<<<<<< HEAD
       "      <th>35</th>\n",
       "      <td>Afghanistan</td>\n",
       "      <td>42647500</td>\n",
       "    </tr>\n",
       "    <tr>\n",
       "      <th>142</th>\n",
       "      <td>Albania</td>\n",
       "      <td>2791760</td>\n",
       "    </tr>\n",
       "    <tr>\n",
       "      <th>32</th>\n",
       "      <td>Algeria</td>\n",
       "      <td>46814300</td>\n",
       "    </tr>\n",
       "    <tr>\n",
       "      <th>210</th>\n",
       "      <td>American Samoa</td>\n",
       "      <td>46765</td>\n",
       "    </tr>\n",
       "    <tr>\n",
       "      <th>202</th>\n",
       "      <td>Andorra</td>\n",
       "      <td>81938</td>\n",
       "    </tr>\n",
       "    <tr>\n",
       "      <th>...</th>\n",
       "      <td>...</td>\n",
       "      <td>...</td>\n",
       "    </tr>\n",
       "    <tr>\n",
       "      <th>52</th>\n",
       "      <td>Venezuela</td>\n",
       "      <td>28405500</td>\n",
       "    </tr>\n",
       "    <tr>\n",
       "      <th>15</th>\n",
       "      <td>Vietnam</td>\n",
       "      <td>100988000</td>\n",
       "    </tr>\n",
       "    <tr>\n",
       "      <th>36</th>\n",
       "      <td>Yemen</td>\n",
       "      <td>40583200</td>\n",
       "    </tr>\n",
       "    <tr>\n",
       "      <th>62</th>\n",
       "      <td>Zambia</td>\n",
       "      <td>21315000</td>\n",
       "    </tr>\n",
       "    <tr>\n",
       "      <th>73</th>\n",
       "      <td>Zimbabwe</td>\n",
       "      <td>16634400</td>\n",
       "    </tr>\n",
       "  </tbody>\n",
       "</table>\n",
       "<p>192 rows × 2 columns</p>\n",
       "</div>"
      ],
      "text/plain": [
       "            Country  2024 Population\n",
       "35      Afghanistan         42647500\n",
       "142         Albania          2791760\n",
       "32          Algeria         46814300\n",
       "210  American Samoa            46765\n",
       "202         Andorra            81938\n",
       "..              ...              ...\n",
       "52        Venezuela         28405500\n",
       "15          Vietnam        100988000\n",
       "36            Yemen         40583200\n",
       "62           Zambia         21315000\n",
       "73         Zimbabwe         16634400\n",
       "\n",
       "[192 rows x 2 columns]"
      ]
     },
     "execution_count": 495,
=======
       "      <th>0</th>\n",
       "      <td>140</td>\n",
       "      <td>Brunei Darussalam</td>\n",
       "      <td>BRU</td>\n",
       "      <td>2</td>\n",
       "      <td>0</td>\n",
       "      <td>140</td>\n",
       "      <td>AFC</td>\n",
       "      <td>1992-12-31</td>\n",
       "    </tr>\n",
       "    <tr>\n",
       "      <th>1</th>\n",
       "      <td>33</td>\n",
       "      <td>Portugal</td>\n",
       "      <td>POR</td>\n",
       "      <td>38</td>\n",
       "      <td>0</td>\n",
       "      <td>33</td>\n",
       "      <td>UEFA</td>\n",
       "      <td>1992-12-31</td>\n",
       "    </tr>\n",
       "    <tr>\n",
       "      <th>2</th>\n",
       "      <td>32</td>\n",
       "      <td>Zambia</td>\n",
       "      <td>ZAM</td>\n",
       "      <td>38</td>\n",
       "      <td>0</td>\n",
       "      <td>32</td>\n",
       "      <td>CAF</td>\n",
       "      <td>1992-12-31</td>\n",
       "    </tr>\n",
       "    <tr>\n",
       "      <th>3</th>\n",
       "      <td>31</td>\n",
       "      <td>Greece</td>\n",
       "      <td>GRE</td>\n",
       "      <td>38</td>\n",
       "      <td>0</td>\n",
       "      <td>31</td>\n",
       "      <td>UEFA</td>\n",
       "      <td>1992-12-31</td>\n",
       "    </tr>\n",
       "    <tr>\n",
       "      <th>4</th>\n",
       "      <td>30</td>\n",
       "      <td>Algeria</td>\n",
       "      <td>ALG</td>\n",
       "      <td>39</td>\n",
       "      <td>0</td>\n",
       "      <td>30</td>\n",
       "      <td>CAF</td>\n",
       "      <td>1992-12-31</td>\n",
       "    </tr>\n",
       "  </tbody>\n",
       "</table>\n",
       "</div>"
      ],
      "text/plain": [
       "  rank       country_full country_abrv total_points previous_points  \\\n",
       "0  140  Brunei Darussalam          BRU            2               0   \n",
       "1   33           Portugal          POR           38               0   \n",
       "2   32             Zambia          ZAM           38               0   \n",
       "3   31             Greece          GRE           38               0   \n",
       "4   30            Algeria          ALG           39               0   \n",
       "\n",
       "  rank_change confederation   rank_date  \n",
       "0         140           AFC  1992-12-31  \n",
       "1          33          UEFA  1992-12-31  \n",
       "2          32           CAF  1992-12-31  \n",
       "3          31          UEFA  1992-12-31  \n",
       "4          30           CAF  1992-12-31  "
      ]
     },
     "execution_count": 55,
>>>>>>> e25f1c76b31e8d088e2a7c8a2b1a942c8088a88a
     "metadata": {},
     "output_type": "execute_result"
    }
   ],
   "source": [
<<<<<<< HEAD
    "result_df = result_df.sort_values(by=\"Country\", ascending=True)\n",
    "result_df"
=======
    "ranking_ag.head()"
>>>>>>> e25f1c76b31e8d088e2a7c8a2b1a942c8088a88a
   ]
  },
  {
   "cell_type": "code",
<<<<<<< HEAD
   "execution_count": 496,
   "metadata": {},
   "outputs": [],
   "source": [
    "result_df.rename(columns={\"Country\": \"Nation\"}, inplace=True)"
   ]
  },
  {
   "cell_type": "code",
   "execution_count": 497,
=======
   "execution_count": 57,
>>>>>>> e25f1c76b31e8d088e2a7c8a2b1a942c8088a88a
   "metadata": {},
   "outputs": [
    {
     "name": "stdout",
     "output_type": "stream",
     "text": [
<<<<<<< HEAD
      "                           Nation  Pro Players  All Players  Rank  \\\n",
      "0                       Argentina          NaN    4928574.0     1   \n",
      "1                          France       4000.0    2200000.0     2   \n",
      "2                           Spain       8560.0    4107300.0     3   \n",
      "3                          Brazil          NaN   12000000.0     5   \n",
      "4                        Portugal          NaN     195330.0     6   \n",
      "..                            ...          ...          ...   ...   \n",
      "186      Turks and Caicos Islands          NaN          NaN   206   \n",
      "187        British Virgin Islands          NaN          NaN   207   \n",
      "188  United States Virgin Islands          NaN          NaN   208   \n",
      "189                      Anguilla          NaN          NaN   209   \n",
      "190                    San Marino          NaN          NaN   210   \n",
      "\n",
      "    Confederation  Points  2024 Population  \n",
      "0        CONMEBOL    1867         45696200  \n",
      "1            UEFA    1860         66548500  \n",
      "2            UEFA    1853         47910500  \n",
      "3        CONMEBOL    1776        211999000  \n",
      "4            UEFA    1756         10425300  \n",
      "..            ...     ...              ...  \n",
      "186      CONCACAF     804            46535  \n",
      "187      CONCACAF     780            39471  \n",
      "188      CONCACAF     780            84905  \n",
      "189      CONCACAF     769            14598  \n",
      "190          UEFA     747            33581  \n",
      "\n",
      "[191 rows x 7 columns]\n"
=======
      "Sorted DataFrame for 2024-06-20:\n",
      "        rank         country_full country_abrv total_points previous_points  \\\n",
      "67393                     Eritrea          ERI       855.56             0.0   \n",
      "67471    1.0            Argentina          ARG      1860.14          1858.0   \n",
      "67327   10.0                Italy          ITA      1724.37          1724.6   \n",
      "67285  100.0             Thailand          THA      1218.56         1208.93   \n",
      "67290  101.0      Kyrgyz Republic          KGZ      1213.58          1213.6   \n",
      "...      ...                  ...          ...          ...             ...   \n",
      "67295   95.0            Palestine          PLE      1231.25         1238.66   \n",
      "67294   96.0              Armenia          ARM      1230.79         1229.18   \n",
      "67293   97.0              Namibia          NAM      1219.83         1192.13   \n",
      "67292   98.0              Belarus          BLR      1219.78         1226.54   \n",
      "67291   99.0  Trinidad and Tobago          TRI      1219.44         1220.65   \n",
      "\n",
      "      rank_change confederation   rank_date  \n",
      "67393           0           CAF  2024-06-20  \n",
      "67471           0      CONMEBOL  2024-06-20  \n",
      "67327           1          UEFA  2024-06-20  \n",
      "67285          -1           AFC  2024-06-20  \n",
      "67290           1           AFC  2024-06-20  \n",
      "...           ...           ...         ...  \n",
      "67295           2           AFC  2024-06-20  \n",
      "67294           1          UEFA  2024-06-20  \n",
      "67293          -9           CAF  2024-06-20  \n",
      "67292           2          UEFA  2024-06-20  \n",
      "67291           1      CONCACAF  2024-06-20  \n",
      "\n",
      "[211 rows x 8 columns]\n",
      "\n",
      "Final DataFrame with sorted rankings:\n",
      "      rank         country_full country_abrv total_points previous_points  \\\n",
      "0                       Eritrea          ERI       855.56             0.0   \n",
      "1      1.0            Argentina          ARG      1860.14          1858.0   \n",
      "2     10.0                Italy          ITA      1724.37          1724.6   \n",
      "3    100.0             Thailand          THA      1218.56         1208.93   \n",
      "4    101.0      Kyrgyz Republic          KGZ      1213.58          1213.6   \n",
      "..     ...                  ...          ...          ...             ...   \n",
      "206   95.0            Palestine          PLE      1231.25         1238.66   \n",
      "207   96.0              Armenia          ARM      1230.79         1229.18   \n",
      "208   97.0              Namibia          NAM      1219.83         1192.13   \n",
      "209   98.0              Belarus          BLR      1219.78         1226.54   \n",
      "210   99.0  Trinidad and Tobago          TRI      1219.44         1220.65   \n",
      "\n",
      "    rank_change confederation   rank_date  \n",
      "0             0           CAF  2024-06-20  \n",
      "1             0      CONMEBOL  2024-06-20  \n",
      "2             1          UEFA  2024-06-20  \n",
      "3            -1           AFC  2024-06-20  \n",
      "4             1           AFC  2024-06-20  \n",
      "..          ...           ...         ...  \n",
      "206           2           AFC  2024-06-20  \n",
      "207           1          UEFA  2024-06-20  \n",
      "208          -9           CAF  2024-06-20  \n",
      "209           2          UEFA  2024-06-20  \n",
      "210           1      CONCACAF  2024-06-20  \n",
      "\n",
      "[211 rows x 8 columns]\n"
>>>>>>> e25f1c76b31e8d088e2a7c8a2b1a942c8088a88a
     ]
    }
   ],
   "source": [
<<<<<<< HEAD
    "# Combine the two data frames on the 'Nation' column\n",
    "final_combined_df = pd.merge(combined_df_sorted, result_df, on='Nation', how='inner')\n",
    "\n",
    "# Display the combined data frame\n",
    "print(final_combined_df)"
=======
    "\n",
    "df_filtered = ranking_ag[ranking_ag['rank_date'] == '2024-06-20']\n",
    "df_sorted = df_filtered.sort_values(by='rank', ascending=True)\n",
    "print(\"Sorted DataFrame for 2024-06-20:\")\n",
    "print(df_sorted)\n",
    "\n",
    "# If you want to store the sorted DataFrame into a new variable\n",
    "final_df = df_sorted  # This is the sorted DataFrame for 2024-06-20\n",
    "\n",
    "# Optionally, you can also reset the index if you'd like:\n",
    "final_df = final_df.reset_index(drop=True)\n",
    "\n",
    "# Display the final DataFrame\n",
    "print(\"\\nFinal DataFrame with sorted rankings:\")\n",
    "print(final_df)"
>>>>>>> e25f1c76b31e8d088e2a7c8a2b1a942c8088a88a
   ]
  },
  {
   "cell_type": "code",
<<<<<<< HEAD
   "execution_count": 498,
   "metadata": {},
   "outputs": [],
   "source": [
    "FIFA_main = final_combined_df"
=======
   "execution_count": 27,
   "metadata": {},
   "outputs": [
    {
     "data": {
      "text/html": [
       "<div>\n",
       "<style scoped>\n",
       "    .dataframe tbody tr th:only-of-type {\n",
       "        vertical-align: middle;\n",
       "    }\n",
       "\n",
       "    .dataframe tbody tr th {\n",
       "        vertical-align: top;\n",
       "    }\n",
       "\n",
       "    .dataframe thead th {\n",
       "        text-align: right;\n",
       "    }\n",
       "</style>\n",
       "<table border=\"1\" class=\"dataframe\">\n",
       "  <thead>\n",
       "    <tr style=\"text-align: right;\">\n",
       "      <th></th>\n",
       "      <th>rank</th>\n",
       "      <th>country_full</th>\n",
       "      <th>country_abrv</th>\n",
       "      <th>total_points</th>\n",
       "      <th>previous_points</th>\n",
       "      <th>rank_change</th>\n",
       "      <th>confederation</th>\n",
       "      <th>rank_date</th>\n",
       "    </tr>\n",
       "  </thead>\n",
       "  <tbody>\n",
       "    <tr>\n",
       "      <th>0</th>\n",
       "      <td></td>\n",
       "      <td>Eritrea</td>\n",
       "      <td>ERI</td>\n",
       "      <td>855.56</td>\n",
       "      <td>0.0</td>\n",
       "      <td>0</td>\n",
       "      <td>CAF</td>\n",
       "      <td>2024-06-20</td>\n",
       "    </tr>\n",
       "    <tr>\n",
       "      <th>1</th>\n",
       "      <td>1.0</td>\n",
       "      <td>Argentina</td>\n",
       "      <td>ARG</td>\n",
       "      <td>1860.14</td>\n",
       "      <td>1858.0</td>\n",
       "      <td>0</td>\n",
       "      <td>CONMEBOL</td>\n",
       "      <td>2024-06-20</td>\n",
       "    </tr>\n",
       "    <tr>\n",
       "      <th>2</th>\n",
       "      <td>10.0</td>\n",
       "      <td>Italy</td>\n",
       "      <td>ITA</td>\n",
       "      <td>1724.37</td>\n",
       "      <td>1724.6</td>\n",
       "      <td>1</td>\n",
       "      <td>UEFA</td>\n",
       "      <td>2024-06-20</td>\n",
       "    </tr>\n",
       "    <tr>\n",
       "      <th>3</th>\n",
       "      <td>100.0</td>\n",
       "      <td>Thailand</td>\n",
       "      <td>THA</td>\n",
       "      <td>1218.56</td>\n",
       "      <td>1208.93</td>\n",
       "      <td>-1</td>\n",
       "      <td>AFC</td>\n",
       "      <td>2024-06-20</td>\n",
       "    </tr>\n",
       "    <tr>\n",
       "      <th>4</th>\n",
       "      <td>101.0</td>\n",
       "      <td>Kyrgyz Republic</td>\n",
       "      <td>KGZ</td>\n",
       "      <td>1213.58</td>\n",
       "      <td>1213.6</td>\n",
       "      <td>1</td>\n",
       "      <td>AFC</td>\n",
       "      <td>2024-06-20</td>\n",
       "    </tr>\n",
       "  </tbody>\n",
       "</table>\n",
       "</div>"
      ],
      "text/plain": [
       "    rank     country_full country_abrv total_points previous_points  \\\n",
       "0                 Eritrea          ERI       855.56             0.0   \n",
       "1    1.0        Argentina          ARG      1860.14          1858.0   \n",
       "2   10.0            Italy          ITA      1724.37          1724.6   \n",
       "3  100.0         Thailand          THA      1218.56         1208.93   \n",
       "4  101.0  Kyrgyz Republic          KGZ      1213.58          1213.6   \n",
       "\n",
       "  rank_change confederation   rank_date  \n",
       "0           0           CAF  2024-06-20  \n",
       "1           0      CONMEBOL  2024-06-20  \n",
       "2           1          UEFA  2024-06-20  \n",
       "3          -1           AFC  2024-06-20  \n",
       "4           1           AFC  2024-06-20  "
      ]
     },
     "execution_count": 27,
     "metadata": {},
     "output_type": "execute_result"
    }
   ],
   "source": [
    "final_df.head()"
>>>>>>> e25f1c76b31e8d088e2a7c8a2b1a942c8088a88a
   ]
  },
  {
   "cell_type": "code",
<<<<<<< HEAD
   "execution_count": null,
=======
   "execution_count": 59,
   "metadata": {},
   "outputs": [
    {
     "data": {
      "text/html": [
       "<div>\n",
       "<style scoped>\n",
       "    .dataframe tbody tr th:only-of-type {\n",
       "        vertical-align: middle;\n",
       "    }\n",
       "\n",
       "    .dataframe tbody tr th {\n",
       "        vertical-align: top;\n",
       "    }\n",
       "\n",
       "    .dataframe thead th {\n",
       "        text-align: right;\n",
       "    }\n",
       "</style>\n",
       "<table border=\"1\" class=\"dataframe\">\n",
       "  <thead>\n",
       "    <tr style=\"text-align: right;\">\n",
       "      <th></th>\n",
       "      <th>rank</th>\n",
       "      <th>country_full</th>\n",
       "      <th>country_abrv</th>\n",
       "      <th>total_points</th>\n",
       "      <th>previous_points</th>\n",
       "      <th>rank_change</th>\n",
       "      <th>confederation</th>\n",
       "      <th>rank_date</th>\n",
       "    </tr>\n",
       "  </thead>\n",
       "  <tbody>\n",
       "    <tr>\n",
       "      <th>67261</th>\n",
       "      <td>68.0</td>\n",
       "      <td>Jordan</td>\n",
       "      <td>JOR</td>\n",
       "      <td>1374.13</td>\n",
       "      <td>1350.21</td>\n",
       "      <td>-3</td>\n",
       "      <td>AFC</td>\n",
       "      <td>2024-06-20</td>\n",
       "    </tr>\n",
       "    <tr>\n",
       "      <th>67262</th>\n",
       "      <td>69.0</td>\n",
       "      <td>United Arab Emirates</td>\n",
       "      <td>UAE</td>\n",
       "      <td>1368.84</td>\n",
       "      <td>1366.45</td>\n",
       "      <td>2</td>\n",
       "      <td>AFC</td>\n",
       "      <td>2024-06-20</td>\n",
       "    </tr>\n",
       "    <tr>\n",
       "      <th>67263</th>\n",
       "      <td>70.0</td>\n",
       "      <td>Iceland</td>\n",
       "      <td>ISL</td>\n",
       "      <td>1353.48</td>\n",
       "      <td>1346.82</td>\n",
       "      <td>-2</td>\n",
       "      <td>UEFA</td>\n",
       "      <td>2024-06-20</td>\n",
       "    </tr>\n",
       "    <tr>\n",
       "      <th>67264</th>\n",
       "      <td>71.0</td>\n",
       "      <td>North Macedonia</td>\n",
       "      <td>MKD</td>\n",
       "      <td>1348.63</td>\n",
       "      <td>1354.19</td>\n",
       "      <td>2</td>\n",
       "      <td>UEFA</td>\n",
       "      <td>2024-06-20</td>\n",
       "    </tr>\n",
       "    <tr>\n",
       "      <th>67265</th>\n",
       "      <td>74.0</td>\n",
       "      <td>Georgia</td>\n",
       "      <td>GEO</td>\n",
       "      <td>1338.91</td>\n",
       "      <td>1333.76</td>\n",
       "      <td>-1</td>\n",
       "      <td>UEFA</td>\n",
       "      <td>2024-06-20</td>\n",
       "    </tr>\n",
       "    <tr>\n",
       "      <th>...</th>\n",
       "      <td>...</td>\n",
       "      <td>...</td>\n",
       "      <td>...</td>\n",
       "      <td>...</td>\n",
       "      <td>...</td>\n",
       "      <td>...</td>\n",
       "      <td>...</td>\n",
       "      <td>...</td>\n",
       "    </tr>\n",
       "    <tr>\n",
       "      <th>67467</th>\n",
       "      <td>137.0</td>\n",
       "      <td>Kuwait</td>\n",
       "      <td>KUW</td>\n",
       "      <td>1098.42</td>\n",
       "      <td>1085.46</td>\n",
       "      <td>-2</td>\n",
       "      <td>AFC</td>\n",
       "      <td>2024-06-20</td>\n",
       "    </tr>\n",
       "    <tr>\n",
       "      <th>67468</th>\n",
       "      <td>136.0</td>\n",
       "      <td>Lithuania</td>\n",
       "      <td>LTU</td>\n",
       "      <td>1100.66</td>\n",
       "      <td>1095.23</td>\n",
       "      <td>-1</td>\n",
       "      <td>UEFA</td>\n",
       "      <td>2024-06-20</td>\n",
       "    </tr>\n",
       "    <tr>\n",
       "      <th>67469</th>\n",
       "      <td>135.0</td>\n",
       "      <td>Malaysia</td>\n",
       "      <td>MAS</td>\n",
       "      <td>1107.58</td>\n",
       "      <td>1094.54</td>\n",
       "      <td>-3</td>\n",
       "      <td>AFC</td>\n",
       "      <td>2024-06-20</td>\n",
       "    </tr>\n",
       "    <tr>\n",
       "      <th>67470</th>\n",
       "      <td>133.0</td>\n",
       "      <td>Solomon Islands</td>\n",
       "      <td>SOL</td>\n",
       "      <td>1111.02</td>\n",
       "      <td>1111.02</td>\n",
       "      <td>1</td>\n",
       "      <td>OFC</td>\n",
       "      <td>2024-06-20</td>\n",
       "    </tr>\n",
       "    <tr>\n",
       "      <th>67471</th>\n",
       "      <td>1.0</td>\n",
       "      <td>Argentina</td>\n",
       "      <td>ARG</td>\n",
       "      <td>1860.14</td>\n",
       "      <td>1858.0</td>\n",
       "      <td>0</td>\n",
       "      <td>CONMEBOL</td>\n",
       "      <td>2024-06-20</td>\n",
       "    </tr>\n",
       "  </tbody>\n",
       "</table>\n",
       "<p>211 rows × 8 columns</p>\n",
       "</div>"
      ],
      "text/plain": [
       "        rank          country_full country_abrv total_points previous_points  \\\n",
       "67261   68.0                Jordan          JOR      1374.13         1350.21   \n",
       "67262   69.0  United Arab Emirates          UAE      1368.84         1366.45   \n",
       "67263   70.0               Iceland          ISL      1353.48         1346.82   \n",
       "67264   71.0       North Macedonia          MKD      1348.63         1354.19   \n",
       "67265   74.0               Georgia          GEO      1338.91         1333.76   \n",
       "...      ...                   ...          ...          ...             ...   \n",
       "67467  137.0                Kuwait          KUW      1098.42         1085.46   \n",
       "67468  136.0             Lithuania          LTU      1100.66         1095.23   \n",
       "67469  135.0              Malaysia          MAS      1107.58         1094.54   \n",
       "67470  133.0       Solomon Islands          SOL      1111.02         1111.02   \n",
       "67471    1.0             Argentina          ARG      1860.14          1858.0   \n",
       "\n",
       "      rank_change confederation   rank_date  \n",
       "67261          -3           AFC  2024-06-20  \n",
       "67262           2           AFC  2024-06-20  \n",
       "67263          -2          UEFA  2024-06-20  \n",
       "67264           2          UEFA  2024-06-20  \n",
       "67265          -1          UEFA  2024-06-20  \n",
       "...           ...           ...         ...  \n",
       "67467          -2           AFC  2024-06-20  \n",
       "67468          -1          UEFA  2024-06-20  \n",
       "67469          -3           AFC  2024-06-20  \n",
       "67470           1           OFC  2024-06-20  \n",
       "67471           0      CONMEBOL  2024-06-20  \n",
       "\n",
       "[211 rows x 8 columns]"
      ]
     },
     "execution_count": 59,
     "metadata": {},
     "output_type": "execute_result"
    }
   ],
   "source": [
    "\n",
    "latest_rankings = ranking_ag[ranking_ag['rank_date'] == \"2024-06-20\"]\n",
    "latest_rankings"
   ]
  },
  {
   "cell_type": "code",
   "execution_count": 81,
>>>>>>> e25f1c76b31e8d088e2a7c8a2b1a942c8088a88a
   "metadata": {},
   "outputs": [
    {
     "name": "stderr",
     "output_type": "stream",
     "text": [
<<<<<<< HEAD
      "C:\\Users\\modri\\AppData\\Local\\Temp\\ipykernel_11456\\2361560395.py:4: FutureWarning: A value is trying to be set on a copy of a DataFrame or Series through chained assignment using an inplace method.\n",
      "The behavior will change in pandas 3.0. This inplace method will never work because the intermediate object on which we are setting values always behaves as a copy.\n",
      "\n",
      "For example, when doing 'df[col].method(value, inplace=True)', try using 'df.method({col: value}, inplace=True)' or df[col] = df[col].method(value) instead, to perform the operation inplace on the original object.\n",
      "\n",
      "\n",
      "  FIFA_main['All Players'].fillna(mean_ratio * FIFA_main['2024 Population'] / 100, inplace=True)\n"
=======
      "<>:60: SyntaxWarning: invalid escape sequence '\\d'\n",
      "<>:60: SyntaxWarning: invalid escape sequence '\\d'\n",
      "/var/folders/l4/g8j3y_vx0pq5tl_95dwxp9hr0000gp/T/ipykernel_24068/3587195981.py:60: SyntaxWarning: invalid escape sequence '\\d'\n",
      "  df['Rank'] = df['Rank'].str.extract('(\\d+)').astype(int)\n"
     ]
    },
    {
     "name": "stdout",
     "output_type": "stream",
     "text": [
      "Scraping page 1...\n",
      "Page 1 loaded successfully!\n",
      "Scraping page 2...\n",
      "Page 2 loaded successfully!\n",
      "Scraping page 3...\n",
      "Page 3 loaded successfully!\n",
      "Scraping page 4...\n",
      "Page 4 loaded successfully!\n",
      "Scraping page 5...\n",
      "Page 5 loaded successfully!\n",
      "Scraping page 6...\n",
      "Page 6 loaded successfully!\n",
      "Scraping page 7...\n",
      "Page 7 loaded successfully!\n",
      "Scraping page 8...\n",
      "Page 8 loaded successfully!\n",
      "Scraping page 9...\n",
      "Page 9 loaded successfully!\n",
      "Data types:\n",
      "Rank               int64\n",
      "Nation            object\n",
      "Squad Size          int8\n",
      "Avg Age          float64\n",
      "Total Value      float64\n",
      "Confederation     object\n",
      "Points             int16\n",
      "dtype: object\n",
      "Cleaned DataFrame:\n",
      "   Rank     Nation  Squad Size  Avg Age  Total Value Confederation  Points\n",
      "0     1  Argentina          25     27.5  716500000.0      CONMEBOL    1867\n",
      "1     2     France          23     26.8  978000000.0          UEFA    1860\n",
      "2     3      Spain          24     25.9  890000000.0          UEFA    1853\n",
      "3     4    England          23     25.3  995000000.0          UEFA    1814\n",
      "4     5     Brazil          23     27.0  921800000.0      CONMEBOL    1776\n"
>>>>>>> e25f1c76b31e8d088e2a7c8a2b1a942c8088a88a
     ]
    }
   ],
   "source": [
<<<<<<< HEAD
    "FIFA_main['Player to Population Ratio (%)'] = (FIFA_main['All Players'] / FIFA_main['2024 Population']) * 100\n",
    "FIFA_main['Player to Population Ratio (%)'] = FIFA_main['Player to Population Ratio (%)'].round(1)\n",
    "mean_ratio_all = FIFA_main['Player to Population Ratio (%)'].mean()\n",
    "FIFA_main['All Players'].fillna(mean_ratio_all * FIFA_main['2024 Population'] / 100, inplace=True)\n",
    "FIFA_main['All Players'] = FIFA_main['All Players'].astype(int)"
=======
    "#importing our second dataset from Transfermarekt website through webscrappein\n",
    "import requests\n",
    "from bs4 import BeautifulSoup\n",
    "import pandas as pd\n",
    "import numpy as np\n",
    "\n",
    "# Base URL of the Transfermarkt rankings page\n",
    "url_base = \"https://www.transfermarkt.com/statistik/weltrangliste?page=\"\n",
    "\n",
    "# Set up headers to mimic a real browser request\n",
    "headers = {\n",
    "    'User-Agent': 'Mozilla/5.0 (Windows NT 10.0; Win64; x64) AppleWebKit/537.36 (KHTML, like Gecko) Chrome/91.0.4472.124 Safari/537.36'\n",
    "}\n",
    "\n",
    "# List to hold data from all pages\n",
    "all_data = []\n",
    "\n",
    "# Loop through pages 1 to 9 (since there are 9 pages in total)\n",
    "for page in range(1, 10):  # Scraping 9 pages\n",
    "    print(f\"Scraping page {page}...\")\n",
    "    \n",
    "    # Send a request to the webpage with the custom header\n",
    "    response = requests.get(url_base + str(page), headers=headers)\n",
    "    \n",
    "    # Check if the request was successful\n",
    "    if response.status_code == 200:\n",
    "        print(f\"Page {page} loaded successfully!\")\n",
    "        \n",
    "        # Parse the HTML content of the page\n",
    "        soup = BeautifulSoup(response.content, 'html.parser')\n",
    "        \n",
    "        # Find the table containing the rankings (this can be adjusted if the page structure changes)\n",
    "        table = soup.find('table', {'class': 'items'})  # Look for the table with class \"items\"\n",
    "        \n",
    "        # Extract the rows (data) of the table\n",
    "        rows = table.find_all('tr')[1:]  # Skip the header row\n",
    "        \n",
    "        # Loop through each row and extract the columns\n",
    "        for row in rows:\n",
    "            columns = row.find_all('td')\n",
    "            \n",
    "            # Extract the relevant data from each column and clean it\n",
    "            rank = columns[0].text.strip()\n",
    "            nation = columns[1].find('img')['alt'] if columns[1].find('img') else columns[1].text.strip()\n",
    "            squad_size = columns[2].text.strip()\n",
    "            avg_age = columns[3].text.strip()\n",
    "            total_value = columns[4].text.strip()\n",
    "            confederation = columns[5].text.strip()\n",
    "            points = columns[6].text.strip()\n",
    "            \n",
    "            # Add the data to the list\n",
    "            all_data.append([rank, nation, squad_size, avg_age, total_value, confederation, points])\n",
    "    else:\n",
    "        print(f\"Failed to retrieve page {page}. Status code: {response.status_code}\")\n",
    "\n",
    "# Create a pandas DataFrame from the extracted data with the correct headers\n",
    "headers = ['Rank', 'Nation', 'Squad Size', 'Avg Age', 'Total Value', 'Confederation', 'Points']\n",
    "df = pd.DataFrame(all_data, columns=headers)\n",
    "\n",
    "# Clean the \"Rank\" column: remove non-numeric characters (if any)\n",
    "df['Rank'] = df['Rank'].str.extract('(\\d+)').astype(int)\n",
    "\n",
    "# Convert \"Points\" to numeric (integer)\n",
    "df['Points'] = pd.to_numeric(df['Points'], errors='coerce', downcast='integer')\n",
    "\n",
    "# Convert \"Avg Age\" to float\n",
    "df['Avg Age'] = pd.to_numeric(df['Avg Age'], errors='coerce')\n",
    "\n",
    "# Clean \"Total Value\" column by removing non-numeric characters (€, commas, 'm', 'k', and 'b')\n",
    "def clean_total_value(value):\n",
    "    # If the value is '-', replace with NaN\n",
    "    if value == '-':\n",
    "        return np.nan\n",
    "    \n",
    "    # Remove commas, '€', and strip leading/trailing spaces\n",
    "    value = value.replace('€', '').replace(',', '').strip()\n",
    "    \n",
    "    # Handle 'm' for millions\n",
    "    if 'm' in value.lower():\n",
    "        value = value.replace('m', '').strip()\n",
    "        return float(value) * 1e6  # Convert to millions (multiply by 1,000,000)\n",
    "    \n",
    "    # Handle 'b' for billions\n",
    "    elif 'b' in value.lower():\n",
    "        value = value.replace('b', '').strip()\n",
    "        return float(value) * 1e9  # Convert to billions (multiply by 1,000,000,000)\n",
    "    \n",
    "    # Handle 'k' for thousands\n",
    "    elif 'k' in value.lower():\n",
    "        value = value.replace('k', '').strip()\n",
    "        return float(value) * 1e3  # Convert to thousands (multiply by 1,000)\n",
    "    \n",
    "    # Otherwise, return the value as is (if it's just a plain number)\n",
    "    return float(value)\n",
    "\n",
    "# Apply the function to clean the \"Total Value\" column\n",
    "df['Total Value'] = df['Total Value'].apply(clean_total_value)\n",
    "\n",
    "# Convert \"Squad Size\" to numeric (integer)\n",
    "df['Squad Size'] = pd.to_numeric(df['Squad Size'], errors='coerce', downcast='integer')\n",
    "\n",
    "# Convert \"Confederation\" to object (string), ensuring no unexpected values\n",
    "df['Confederation'] = df['Confederation'].astype(str)\n",
    "\n",
    "# Ensure that the correct data types are set\n",
    "print(f\"Data types:\\n{df.dtypes}\")\n",
    "\n",
    "# Display the cleaned DataFrame\n",
    "print(\"Cleaned DataFrame:\")\n",
    "print(df.head())\n",
    "\n",
    "# Save the cleaned DataFrame to a CSV file\n",
    "#df.to_csv('transfermarkt_rankings.csv', index=False)\n"
>>>>>>> e25f1c76b31e8d088e2a7c8a2b1a942c8088a88a
   ]
  },
  {
   "cell_type": "code",
<<<<<<< HEAD
   "execution_count": 502,
   "metadata": {},
   "outputs": [
    {
     "name": "stderr",
     "output_type": "stream",
     "text": [
      "C:\\Users\\modri\\AppData\\Local\\Temp\\ipykernel_11456\\3141555121.py:4: FutureWarning: A value is trying to be set on a copy of a DataFrame or Series through chained assignment using an inplace method.\n",
      "The behavior will change in pandas 3.0. This inplace method will never work because the intermediate object on which we are setting values always behaves as a copy.\n",
      "\n",
      "For example, when doing 'df[col].method(value, inplace=True)', try using 'df.method({col: value}, inplace=True)' or df[col] = df[col].method(value) instead, to perform the operation inplace on the original object.\n",
      "\n",
      "\n",
      "  FIFA_main['Pro Players'].fillna(mean_ratio_PRO * FIFA_main['All Players'] / 100, inplace=True)\n"
     ]
    }
   ],
   "source": [
    "FIFA_main['Pro to All ratio (%)'] = (FIFA_main['Pro Players'] / FIFA_main['All Players']) * 100\n",
    "FIFA_main['Pro to All ratio (%)'] = FIFA_main['Pro to All ratio (%)'].round(1)\n",
    "mean_ratio_PRO = FIFA_main['Pro to All ratio (%)'].mean()\n",
    "FIFA_main['Pro Players'].fillna(mean_ratio_PRO * FIFA_main['All Players'] / 100, inplace=True)\n",
    "FIFA_main['Pro Players'] = FIFA_main['Pro Players'].astype(int)"
=======
   "execution_count": 83,
   "metadata": {},
   "outputs": [
    {
     "data": {
      "text/html": [
       "<div>\n",
       "<style scoped>\n",
       "    .dataframe tbody tr th:only-of-type {\n",
       "        vertical-align: middle;\n",
       "    }\n",
       "\n",
       "    .dataframe tbody tr th {\n",
       "        vertical-align: top;\n",
       "    }\n",
       "\n",
       "    .dataframe thead th {\n",
       "        text-align: right;\n",
       "    }\n",
       "</style>\n",
       "<table border=\"1\" class=\"dataframe\">\n",
       "  <thead>\n",
       "    <tr style=\"text-align: right;\">\n",
       "      <th></th>\n",
       "      <th>Rank</th>\n",
       "      <th>Nation</th>\n",
       "      <th>Squad Size</th>\n",
       "      <th>Avg Age</th>\n",
       "      <th>Total Value</th>\n",
       "      <th>Confederation</th>\n",
       "      <th>Points</th>\n",
       "    </tr>\n",
       "  </thead>\n",
       "  <tbody>\n",
       "    <tr>\n",
       "      <th>0</th>\n",
       "      <td>1</td>\n",
       "      <td>Argentina</td>\n",
       "      <td>25</td>\n",
       "      <td>27.5</td>\n",
       "      <td>716500000.0</td>\n",
       "      <td>CONMEBOL</td>\n",
       "      <td>1867</td>\n",
       "    </tr>\n",
       "    <tr>\n",
       "      <th>1</th>\n",
       "      <td>2</td>\n",
       "      <td>France</td>\n",
       "      <td>23</td>\n",
       "      <td>26.8</td>\n",
       "      <td>978000000.0</td>\n",
       "      <td>UEFA</td>\n",
       "      <td>1860</td>\n",
       "    </tr>\n",
       "    <tr>\n",
       "      <th>2</th>\n",
       "      <td>3</td>\n",
       "      <td>Spain</td>\n",
       "      <td>24</td>\n",
       "      <td>25.9</td>\n",
       "      <td>890000000.0</td>\n",
       "      <td>UEFA</td>\n",
       "      <td>1853</td>\n",
       "    </tr>\n",
       "    <tr>\n",
       "      <th>3</th>\n",
       "      <td>4</td>\n",
       "      <td>England</td>\n",
       "      <td>23</td>\n",
       "      <td>25.3</td>\n",
       "      <td>995000000.0</td>\n",
       "      <td>UEFA</td>\n",
       "      <td>1814</td>\n",
       "    </tr>\n",
       "    <tr>\n",
       "      <th>4</th>\n",
       "      <td>5</td>\n",
       "      <td>Brazil</td>\n",
       "      <td>23</td>\n",
       "      <td>27.0</td>\n",
       "      <td>921800000.0</td>\n",
       "      <td>CONMEBOL</td>\n",
       "      <td>1776</td>\n",
       "    </tr>\n",
       "  </tbody>\n",
       "</table>\n",
       "</div>"
      ],
      "text/plain": [
       "   Rank     Nation  Squad Size  Avg Age  Total Value Confederation  Points\n",
       "0     1  Argentina          25     27.5  716500000.0      CONMEBOL    1867\n",
       "1     2     France          23     26.8  978000000.0          UEFA    1860\n",
       "2     3      Spain          24     25.9  890000000.0          UEFA    1853\n",
       "3     4    England          23     25.3  995000000.0          UEFA    1814\n",
       "4     5     Brazil          23     27.0  921800000.0      CONMEBOL    1776"
      ]
     },
     "execution_count": 83,
     "metadata": {},
     "output_type": "execute_result"
    }
   ],
   "source": [
    "df.head()"
>>>>>>> e25f1c76b31e8d088e2a7c8a2b1a942c8088a88a
   ]
  },
  {
   "cell_type": "code",
<<<<<<< HEAD
   "execution_count": 508,
   "metadata": {},
   "outputs": [],
   "source": [
    "FIFA_main['Player to Population Ratio (%)'] = FIFA_main['Player to Population Ratio (%)'].fillna(FIFA_main['Player to Population Ratio (%)'].mean()).round(1)\n",
    "FIFA_main['Pro to All ratio (%)'] = FIFA_main['Pro to All ratio (%)'].fillna(FIFA_main['Pro to All ratio (%)'].mean()).round(1)\n",
    "\n"
=======
   "execution_count": 85,
   "metadata": {},
   "outputs": [],
   "source": [
    "#remoing the columns that we dont need!\n",
    "transfer_market_25 = df.drop(columns=['Squad Size', 'Avg Age','Total Value'])"
   ]
  },
  {
   "cell_type": "code",
   "execution_count": 87,
   "metadata": {},
   "outputs": [
    {
     "data": {
      "text/html": [
       "<div>\n",
       "<style scoped>\n",
       "    .dataframe tbody tr th:only-of-type {\n",
       "        vertical-align: middle;\n",
       "    }\n",
       "\n",
       "    .dataframe tbody tr th {\n",
       "        vertical-align: top;\n",
       "    }\n",
       "\n",
       "    .dataframe thead th {\n",
       "        text-align: right;\n",
       "    }\n",
       "</style>\n",
       "<table border=\"1\" class=\"dataframe\">\n",
       "  <thead>\n",
       "    <tr style=\"text-align: right;\">\n",
       "      <th></th>\n",
       "      <th>Rank</th>\n",
       "      <th>Nation</th>\n",
       "      <th>Confederation</th>\n",
       "      <th>Points</th>\n",
       "    </tr>\n",
       "  </thead>\n",
       "  <tbody>\n",
       "    <tr>\n",
       "      <th>0</th>\n",
       "      <td>1</td>\n",
       "      <td>Argentina</td>\n",
       "      <td>CONMEBOL</td>\n",
       "      <td>1867</td>\n",
       "    </tr>\n",
       "    <tr>\n",
       "      <th>1</th>\n",
       "      <td>2</td>\n",
       "      <td>France</td>\n",
       "      <td>UEFA</td>\n",
       "      <td>1860</td>\n",
       "    </tr>\n",
       "    <tr>\n",
       "      <th>2</th>\n",
       "      <td>3</td>\n",
       "      <td>Spain</td>\n",
       "      <td>UEFA</td>\n",
       "      <td>1853</td>\n",
       "    </tr>\n",
       "    <tr>\n",
       "      <th>3</th>\n",
       "      <td>4</td>\n",
       "      <td>England</td>\n",
       "      <td>UEFA</td>\n",
       "      <td>1814</td>\n",
       "    </tr>\n",
       "    <tr>\n",
       "      <th>4</th>\n",
       "      <td>5</td>\n",
       "      <td>Brazil</td>\n",
       "      <td>CONMEBOL</td>\n",
       "      <td>1776</td>\n",
       "    </tr>\n",
       "    <tr>\n",
       "      <th>...</th>\n",
       "      <td>...</td>\n",
       "      <td>...</td>\n",
       "      <td>...</td>\n",
       "      <td>...</td>\n",
       "    </tr>\n",
       "    <tr>\n",
       "      <th>205</th>\n",
       "      <td>206</td>\n",
       "      <td>Turks and Caicos Islands</td>\n",
       "      <td>CONCACAF</td>\n",
       "      <td>804</td>\n",
       "    </tr>\n",
       "    <tr>\n",
       "      <th>206</th>\n",
       "      <td>207</td>\n",
       "      <td>British Virgin Islands</td>\n",
       "      <td>CONCACAF</td>\n",
       "      <td>780</td>\n",
       "    </tr>\n",
       "    <tr>\n",
       "      <th>207</th>\n",
       "      <td>208</td>\n",
       "      <td>United States Virgin Islands</td>\n",
       "      <td>CONCACAF</td>\n",
       "      <td>780</td>\n",
       "    </tr>\n",
       "    <tr>\n",
       "      <th>208</th>\n",
       "      <td>209</td>\n",
       "      <td>Anguilla</td>\n",
       "      <td>CONCACAF</td>\n",
       "      <td>769</td>\n",
       "    </tr>\n",
       "    <tr>\n",
       "      <th>209</th>\n",
       "      <td>210</td>\n",
       "      <td>San Marino</td>\n",
       "      <td>UEFA</td>\n",
       "      <td>747</td>\n",
       "    </tr>\n",
       "  </tbody>\n",
       "</table>\n",
       "<p>210 rows × 4 columns</p>\n",
       "</div>"
      ],
      "text/plain": [
       "     Rank                        Nation Confederation  Points\n",
       "0       1                     Argentina      CONMEBOL    1867\n",
       "1       2                        France          UEFA    1860\n",
       "2       3                         Spain          UEFA    1853\n",
       "3       4                       England          UEFA    1814\n",
       "4       5                        Brazil      CONMEBOL    1776\n",
       "..    ...                           ...           ...     ...\n",
       "205   206      Turks and Caicos Islands      CONCACAF     804\n",
       "206   207        British Virgin Islands      CONCACAF     780\n",
       "207   208  United States Virgin Islands      CONCACAF     780\n",
       "208   209                      Anguilla      CONCACAF     769\n",
       "209   210                    San Marino          UEFA     747\n",
       "\n",
       "[210 rows x 4 columns]"
      ]
     },
     "execution_count": 87,
     "metadata": {},
     "output_type": "execute_result"
    }
   ],
   "source": [
    "transfer_market_25"
   ]
  },
  {
   "cell_type": "code",
   "execution_count": 89,
   "metadata": {},
   "outputs": [
    {
     "data": {
      "text/plain": [
       "Rank             210\n",
       "Nation           210\n",
       "Confederation      6\n",
       "Points           193\n",
       "dtype: int64"
      ]
     },
     "execution_count": 89,
     "metadata": {},
     "output_type": "execute_result"
    }
   ],
   "source": [
    "transfer_market_25.nunique()"
   ]
  },
  {
   "cell_type": "code",
   "execution_count": 91,
   "metadata": {},
   "outputs": [
    {
     "data": {
      "text/html": [
       "<div>\n",
       "<style scoped>\n",
       "    .dataframe tbody tr th:only-of-type {\n",
       "        vertical-align: middle;\n",
       "    }\n",
       "\n",
       "    .dataframe tbody tr th {\n",
       "        vertical-align: top;\n",
       "    }\n",
       "\n",
       "    .dataframe thead th {\n",
       "        text-align: right;\n",
       "    }\n",
       "</style>\n",
       "<table border=\"1\" class=\"dataframe\">\n",
       "  <thead>\n",
       "    <tr style=\"text-align: right;\">\n",
       "      <th></th>\n",
       "      <th>Rank</th>\n",
       "      <th>Nation</th>\n",
       "      <th>Confederation</th>\n",
       "      <th>Points</th>\n",
       "    </tr>\n",
       "  </thead>\n",
       "  <tbody>\n",
       "    <tr>\n",
       "      <th>0</th>\n",
       "      <td>False</td>\n",
       "      <td>False</td>\n",
       "      <td>False</td>\n",
       "      <td>False</td>\n",
       "    </tr>\n",
       "    <tr>\n",
       "      <th>1</th>\n",
       "      <td>False</td>\n",
       "      <td>False</td>\n",
       "      <td>False</td>\n",
       "      <td>False</td>\n",
       "    </tr>\n",
       "    <tr>\n",
       "      <th>2</th>\n",
       "      <td>False</td>\n",
       "      <td>False</td>\n",
       "      <td>False</td>\n",
       "      <td>False</td>\n",
       "    </tr>\n",
       "    <tr>\n",
       "      <th>3</th>\n",
       "      <td>False</td>\n",
       "      <td>False</td>\n",
       "      <td>False</td>\n",
       "      <td>False</td>\n",
       "    </tr>\n",
       "    <tr>\n",
       "      <th>4</th>\n",
       "      <td>False</td>\n",
       "      <td>False</td>\n",
       "      <td>False</td>\n",
       "      <td>False</td>\n",
       "    </tr>\n",
       "    <tr>\n",
       "      <th>...</th>\n",
       "      <td>...</td>\n",
       "      <td>...</td>\n",
       "      <td>...</td>\n",
       "      <td>...</td>\n",
       "    </tr>\n",
       "    <tr>\n",
       "      <th>205</th>\n",
       "      <td>False</td>\n",
       "      <td>False</td>\n",
       "      <td>False</td>\n",
       "      <td>False</td>\n",
       "    </tr>\n",
       "    <tr>\n",
       "      <th>206</th>\n",
       "      <td>False</td>\n",
       "      <td>False</td>\n",
       "      <td>False</td>\n",
       "      <td>False</td>\n",
       "    </tr>\n",
       "    <tr>\n",
       "      <th>207</th>\n",
       "      <td>False</td>\n",
       "      <td>False</td>\n",
       "      <td>False</td>\n",
       "      <td>False</td>\n",
       "    </tr>\n",
       "    <tr>\n",
       "      <th>208</th>\n",
       "      <td>False</td>\n",
       "      <td>False</td>\n",
       "      <td>False</td>\n",
       "      <td>False</td>\n",
       "    </tr>\n",
       "    <tr>\n",
       "      <th>209</th>\n",
       "      <td>False</td>\n",
       "      <td>False</td>\n",
       "      <td>False</td>\n",
       "      <td>False</td>\n",
       "    </tr>\n",
       "  </tbody>\n",
       "</table>\n",
       "<p>210 rows × 4 columns</p>\n",
       "</div>"
      ],
      "text/plain": [
       "      Rank  Nation  Confederation  Points\n",
       "0    False   False          False   False\n",
       "1    False   False          False   False\n",
       "2    False   False          False   False\n",
       "3    False   False          False   False\n",
       "4    False   False          False   False\n",
       "..     ...     ...            ...     ...\n",
       "205  False   False          False   False\n",
       "206  False   False          False   False\n",
       "207  False   False          False   False\n",
       "208  False   False          False   False\n",
       "209  False   False          False   False\n",
       "\n",
       "[210 rows x 4 columns]"
      ]
     },
     "execution_count": 91,
     "metadata": {},
     "output_type": "execute_result"
    }
   ],
   "source": [
    "transfer_market_25.isnull()"
>>>>>>> e25f1c76b31e8d088e2a7c8a2b1a942c8088a88a
   ]
  }
 ],
 "metadata": {
  "kernelspec": {
   "display_name": "Python 3 (ipykernel)",
   "language": "python",
   "name": "python3"
  },
  "language_info": {
   "codemirror_mode": {
    "name": "ipython",
    "version": 3
   },
   "file_extension": ".py",
   "mimetype": "text/x-python",
   "name": "python",
   "nbconvert_exporter": "python",
   "pygments_lexer": "ipython3",
   "version": "3.12.7"
  }
 },
 "nbformat": 4,
 "nbformat_minor": 4
}
