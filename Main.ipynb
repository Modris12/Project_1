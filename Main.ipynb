{
 "cells": [
  {
   "cell_type": "code",
   "execution_count": 216,
   "metadata": {},
   "outputs": [
    {
     "data": {
      "text/plain": [
       "'\\nAsian Football Confederation (AFC): 47 members\\nConfederation of African Football (CAF): 54 members\\nConfederation of North, Central American and Caribbean Association Football (CONCACAF): 41 members\\nConfederación Sudamericana de Fútbol (CONMEBOL): 10 members\\nOceania Football Confederation (OFC): 13 members\\nUnion of European Football Associations (UEFA): 55 members\\n'"
      ]
     },
     "execution_count": 216,
     "metadata": {},
     "output_type": "execute_result"
    }
   ],
   "source": [
    "#tryout\n",
    "\"\"\"\n",
    "Asian Football Confederation (AFC): 47 members\n",
    "Confederation of African Football (CAF): 54 members\n",
    "Confederation of North, Central American and Caribbean Association Football (CONCACAF): 41 members\n",
    "Confederación Sudamericana de Fútbol (CONMEBOL): 10 members\n",
    "Oceania Football Confederation (OFC): 13 members\n",
    "Union of European Football Associations (UEFA): 55 members\n",
    "\"\"\"\n"
   ]
  },
  {
   "cell_type": "code",
   "execution_count": 217,
   "metadata": {},
   "outputs": [],
   "source": [
    "afc_countries = [\n",
    "    \"Afghanistan\", \"Australia\", \"Bahrain\", \"Bangladesh\", \"Bhutan\", \"Brunei Darussalam\",\n",
    "    \"Cambodia\", \"China\", \"Chinese Taipei\", \"Guam\", \"Hong Kong\", \"India\",\n",
    "    \"Indonesia\", \"Iran\", \"Iraq\", \"Japan\", \"Jordan\", \"North Korea\", \"South Korea\",\n",
    "    \"Kuwait\", \"Kyrgyzstan\", \"Laos\", \"Lebanon\", \"Macau\", \"Malaysia\", \"Maldives\",\n",
    "    \"Mongolia\", \"Myanmar\", \"Nepal\", \"Oman\", \"Pakistan\", \"Palestine\", \"Philippines\",\n",
    "    \"Qatar\", \"Saudi Arabia\", \"Singapore\", \"Sri Lanka\", \"Syria\", \"Tajikistan\",\n",
    "    \"Thailand\", \"Timor-Leste\", \"Turkmenistan\", \"United Arab Emirates\", \"Uzbekistan\", \"Vietnam\", \"Yemen\"\n",
    "]\n"
   ]
  },
  {
   "cell_type": "code",
   "execution_count": 218,
   "metadata": {},
   "outputs": [],
   "source": [
    "caf_countries = [\n",
    "    \"Algeria\", \"Angola\", \"Benin\", \"Botswana\", \"Burkina Faso\", \"Burundi\", \"Cameroon\", \"Cape Verde\",\n",
    "    \"Central African Republic\", \"Chad\", \"Comoros\", \"Republic of the Congo\", \"Democratic Republic of the Congo\", \"Djibouti\", \"Egypt\",\n",
    "    \"Equatorial Guinea\", \"Eswatini\", \"Ethiopia\", \"Gabon\", \"The Gambia\", \"Ghana\", \"Guinea\",\n",
    "    \"Guinea-Bissau\", \"Ivory Coast\", \"Kenya\", \"Lesotho\", \"Liberia\", \"Libya\", \"Madagascar\", \"Malawi\",\n",
    "    \"Mali\", \"Mauritania\", \"Mauritius\", \"Morocco\", \"Mozambique\", \"Namibia\", \"Niger\", \"Nigeria\",\n",
    "    \"Rwanda\", \"São Tomé and Príncipe\", \"Senegal\", \"Seychelles\", \"Sierra Leone\", \"South Africa\",\n",
    "    \"South Sudan\", \"Sudan\", \"Tanzania\", \"Togo\", \"Tunisia\", \"Uganda\", \"Zambia\", \"Zimbabwe\", \"Somalia\"\n",
    "]\n"
   ]
  },
  {
   "cell_type": "code",
   "execution_count": 219,
   "metadata": {},
   "outputs": [],
   "source": [
    "concacaf_countries = [\n",
    "    \"Antigua and Barbuda\", \"Bahamas\", \"Barbados\", \"Belize\", \"Canada\", \"Costa Rica\", \"Cuba\",\n",
    "    \"Dominican Republic\", \"El Salvador\", \"Grenada\", \"Guatemala\", \"Guyana\", \"Haiti\", \"Honduras\", \"Jamaica\", \"Mexico\", \"Montserrat\", \"Nicaragua\", \"Panama\", \"Saint Kitts and Nevis\",\n",
    "    \"Saint Lucia\", \"Saint Vincent and the Grenadines\", \"Trinidad and Tobago\", \"United States\",\n",
    "    \"Anguilla\", \"Aruba\", \"Bermuda\", \"British Virgin Islands\", \"Cayman Islands\",\n",
    "    \"Curaçao\", \"Suriname\", \"Turks and Caicos Islands\", \"United States Virgin Islands\", \"Puerto Rico\"\n",
    "]\n"
   ]
  },
  {
   "cell_type": "code",
   "execution_count": 220,
   "metadata": {},
   "outputs": [],
   "source": [
    "conmebol_countries = [\n",
    "    \"Argentina\", \"Bolivia\", \"Brazil\", \"Chile\", \"Colombia\", \"Ecuador\", \"Paraguay\", \"Peru\",\n",
    "    \"Suriname\", \"Uruguay\", \"Venezuela\"\n",
    "]\n"
   ]
  },
  {
   "cell_type": "code",
   "execution_count": 221,
   "metadata": {},
   "outputs": [],
   "source": [
    "ofc_countries = [\n",
    "    \"American Samoa\", \"Cook Islands\", \"Fiji\", \"New Caledonia\", \"New Zealand\", \"Papua New Guinea\",\n",
    "    \"Samoa\", \"Solomon Islands\", \"Tahiti\", \"Tonga\", \"Vanuatu\"\n",
    "]\n"
   ]
  },
  {
   "cell_type": "code",
   "execution_count": 222,
   "metadata": {},
   "outputs": [],
   "source": [
    "uefa_countries = [\n",
    "    \"Albania\", \"Andorra\", \"Armenia\", \"Austria\", \"Azerbaijan\", \"Belarus\", \"Belgium\", \"Bosnia-Herzegovina\",\n",
    "    \"Bulgaria\", \"Croatia\", \"Cyprus\", \"Czech Republic\", \"Denmark\", \"England\", \"Estonia\", \"Faroe Islands\",\n",
    "    \"Finland\", \"France\", \"Georgia\", \"Germany\", \"Gibraltar\", \"Greece\", \"Hungary\", \"Iceland\",\n",
    "    \"Israel\", \"Italy\", \"Kazakhstan\", \"Kosovo\", \"Latvia\", \"Liechtenstein\", \"Lithuania\", \"Luxembourg\",\n",
    "    \"Malta\", \"Moldova\", \"Montenegro\", \"Netherlands\", \"North Macedonia\", \"Northern Ireland\", \"Norway\",\n",
    "    \"Poland\", \"Portugal\", \"Republic of Ireland\", \"Romania\", \"Russia\", \"San Marino\", \"Scotland\", \"Serbia\",\n",
    "    \"Slovakia\", \"Slovenia\", \"Spain\", \"Sweden\", \"Switzerland\", \"Turkiye\", \"Ukraine\", \"Wales\"\n",
    "]\n"
   ]
  },
  {
   "cell_type": "code",
   "execution_count": 223,
   "metadata": {},
   "outputs": [
    {
     "name": "stdout",
     "output_type": "stream",
     "text": [
      "     Nr.         Country\n",
      "0      1     Afghanistan\n",
      "1      2         Albania\n",
      "2      3         Algeria\n",
      "3      4  American Samoa\n",
      "4      5         Andorra\n",
      "..   ...             ...\n",
      "205  206         Vietnam\n",
      "206  207           Wales\n",
      "207  208           Yemen\n",
      "208  209          Zambia\n",
      "209  210        Zimbabwe\n",
      "\n",
      "[210 rows x 2 columns]\n"
     ]
    }
   ],
   "source": [
    "import pandas as pd\n",
    "\n",
    "# Combine all country lists\n",
    "all_countries_MO = afc_countries + caf_countries + concacaf_countries + conmebol_countries + ofc_countries + uefa_countries\n",
    "\n",
    "# Sort the countries alphabetically\n",
    "all_countries_sorted = sorted(all_countries_MO)\n",
    "\n",
    "# Create a DataFrame\n",
    "FIFA = pd.DataFrame({\n",
    "    'Nr.': range(1, len(all_countries_sorted) + 1),\n",
    "    'Country': all_countries_sorted\n",
    "})\n",
    "\n",
    "print(FIFA)"
   ]
  },
  {
   "cell_type": "code",
   "execution_count": 224,
   "metadata": {},
   "outputs": [
    {
     "name": "stdout",
     "output_type": "stream",
     "text": [
      "Scraping page 1...\n"
     ]
    },
    {
     "name": "stderr",
     "output_type": "stream",
     "text": [
      "<>:61: SyntaxWarning: invalid escape sequence '\\d'\n",
      "<>:61: SyntaxWarning: invalid escape sequence '\\d'\n",
      "C:\\Users\\modri\\AppData\\Local\\Temp\\ipykernel_17084\\29973502.py:61: SyntaxWarning: invalid escape sequence '\\d'\n",
      "  df['Rank'] = df['Rank'].str.extract('(\\d+)').astype(int)\n"
     ]
    },
    {
     "name": "stdout",
     "output_type": "stream",
     "text": [
      "Page 1 loaded successfully!\n",
      "Scraping page 2...\n",
      "Page 2 loaded successfully!\n",
      "Scraping page 3...\n",
      "Page 3 loaded successfully!\n",
      "Scraping page 4...\n",
      "Page 4 loaded successfully!\n",
      "Scraping page 5...\n",
      "Page 5 loaded successfully!\n",
      "Scraping page 6...\n",
      "Page 6 loaded successfully!\n",
      "Scraping page 7...\n",
      "Page 7 loaded successfully!\n",
      "Scraping page 8...\n",
      "Page 8 loaded successfully!\n",
      "Scraping page 9...\n",
      "Page 9 loaded successfully!\n",
      "Data types:\n",
      "Rank               int64\n",
      "Nation            object\n",
      "Squad Size          int8\n",
      "Avg Age          float64\n",
      "Total Value      float64\n",
      "Confederation     object\n",
      "Points             int16\n",
      "dtype: object\n",
      "Cleaned DataFrame:\n",
      "   Rank     Nation  Squad Size  Avg Age  Total Value Confederation  Points\n",
      "0     1  Argentina          25     27.5  716500000.0      CONMEBOL    1867\n",
      "1     2     France          23     26.8  978000000.0          UEFA    1860\n",
      "2     3      Spain          24     25.9  890000000.0          UEFA    1853\n",
      "3     4    England          23     25.3  995000000.0          UEFA    1814\n",
      "4     5     Brazil          23     27.0  921800000.0      CONMEBOL    1776\n"
     ]
    }
   ],
   "source": [
    "#importing our second dataset from Transfermarekt website through webscrappein\n",
    "import requests\n",
    "from bs4 import BeautifulSoup\n",
    "import pandas as pd\n",
    "import numpy as np\n",
    "\n",
    "# Base URL of the Transfermarkt rankings page\n",
    "url_base = \"https://www.transfermarkt.com/statistik/weltrangliste?page=\"\n",
    "\n",
    "# Set up headers to mimic a real browser request\n",
    "headers = {\n",
    "    'User-Agent': 'Mozilla/5.0 (Windows NT 10.0; Win64; x64) AppleWebKit/537.36 (KHTML, like Gecko) Chrome/91.0.4472.124 Safari/537.36'\n",
    "}\n",
    "\n",
    "# List to hold data from all pages\n",
    "all_data = []\n",
    "\n",
    "# Loop through pages 1 to 9 (since there are 9 pages in total)\n",
    "for page in range(1, 10):  # Scraping 9 pages\n",
    "    print(f\"Scraping page {page}...\")\n",
    "    \n",
    "    # Send a request to the webpage with the custom header\n",
    "    response = requests.get(url_base + str(page), headers=headers)\n",
    "    \n",
    "    # Check if the request was successful\n",
    "    if response.status_code == 200:\n",
    "        print(f\"Page {page} loaded successfully!\")\n",
    "        \n",
    "        # Parse the HTML content of the page\n",
    "        soup = BeautifulSoup(response.content, 'html.parser')\n",
    "        \n",
    "        # Find the table containing the rankings (this can be adjusted if the page structure changes)\n",
    "        table = soup.find('table', {'class': 'items'})  # Look for the table with class \"items\"\n",
    "        \n",
    "        # Extract the rows (data) of the table\n",
    "        rows = table.find_all('tr')[1:]  # Skip the header row\n",
    "        \n",
    "        # Loop through each row and extract the columns\n",
    "        for row in rows:\n",
    "            columns = row.find_all('td')\n",
    "            \n",
    "            # Extract the relevant data from each column and clean it\n",
    "            rank = columns[0].text.strip()\n",
    "            nation = columns[1].find('img')['alt'] if columns[1].find('img') else columns[1].text.strip()\n",
    "            squad_size = columns[2].text.strip()\n",
    "            avg_age = columns[3].text.strip()\n",
    "            total_value = columns[4].text.strip()\n",
    "            confederation = columns[5].text.strip()\n",
    "            points = columns[6].text.strip()\n",
    "            \n",
    "            # Add the data to the list\n",
    "            all_data.append([rank, nation, squad_size, avg_age, total_value, confederation, points])\n",
    "    else:\n",
    "        print(f\"Failed to retrieve page {page}. Status code: {response.status_code}\")\n",
    "\n",
    "# Create a pandas DataFrame from the extracted data with the correct headers\n",
    "headers = ['Rank', 'Nation', 'Squad Size', 'Avg Age', 'Total Value', 'Confederation', 'Points']\n",
    "df = pd.DataFrame(all_data, columns=headers)\n",
    "\n",
    "# Clean the \"Rank\" column: remove non-numeric characters (if any)\n",
    "df['Rank'] = df['Rank'].str.extract('(\\d+)').astype(int)\n",
    "\n",
    "# Convert \"Points\" to numeric (integer)\n",
    "df['Points'] = pd.to_numeric(df['Points'], errors='coerce', downcast='integer')\n",
    "\n",
    "# Convert \"Avg Age\" to float\n",
    "df['Avg Age'] = pd.to_numeric(df['Avg Age'], errors='coerce')\n",
    "\n",
    "# Clean \"Total Value\" column by removing non-numeric characters (€, commas, 'm', 'k', and 'b')\n",
    "def clean_total_value(value):\n",
    "    # If the value is '-', replace with NaN\n",
    "    if value == '-':\n",
    "        return np.nan\n",
    "    \n",
    "    # Remove commas, '€', and strip leading/trailing spaces\n",
    "    value = value.replace('€', '').replace(',', '').strip()\n",
    "    \n",
    "    # Handle 'm' for millions\n",
    "    if 'm' in value.lower():\n",
    "        value = value.replace('m', '').strip()\n",
    "        return float(value) * 1e6  # Convert to millions (multiply by 1,000,000)\n",
    "    \n",
    "    # Handle 'b' for billions\n",
    "    elif 'b' in value.lower():\n",
    "        value = value.replace('b', '').strip()\n",
    "        return float(value) * 1e9  # Convert to billions (multiply by 1,000,000,000)\n",
    "    \n",
    "    # Handle 'k' for thousands\n",
    "    elif 'k' in value.lower():\n",
    "        value = value.replace('k', '').strip()\n",
    "        return float(value) * 1e3  # Convert to thousands (multiply by 1,000)\n",
    "    \n",
    "    # Otherwise, return the value as is (if it's just a plain number)\n",
    "    return float(value)\n",
    "\n",
    "# Apply the function to clean the \"Total Value\" column\n",
    "df['Total Value'] = df['Total Value'].apply(clean_total_value)\n",
    "\n",
    "# Convert \"Squad Size\" to numeric (integer)\n",
    "df['Squad Size'] = pd.to_numeric(df['Squad Size'], errors='coerce', downcast='integer')\n",
    "\n",
    "# Convert \"Confederation\" to object (string), ensuring no unexpected values\n",
    "df['Confederation'] = df['Confederation'].astype(str)\n",
    "\n",
    "# Ensure that the correct data types are set\n",
    "print(f\"Data types:\\n{df.dtypes}\")\n",
    "\n",
    "# Display the cleaned DataFrame\n",
    "print(\"Cleaned DataFrame:\")\n",
    "print(df.head())\n",
    "\n",
    "# Save the cleaned DataFrame to a CSV file\n",
    "#df.to_csv('transfermarkt_rankings.csv', index=False)\n"
   ]
  },
  {
   "cell_type": "code",
   "execution_count": 225,
   "metadata": {},
   "outputs": [
    {
     "data": {
      "application/vnd.microsoft.datawrangler.viewer.v0+json": {
       "columns": [
        {
         "name": "index",
         "rawType": "int64",
         "type": "integer"
        },
        {
         "name": "Rank",
         "rawType": "int64",
         "type": "integer"
        },
        {
         "name": "Nation",
         "rawType": "object",
         "type": "string"
        },
        {
         "name": "Squad Size",
         "rawType": "int8",
         "type": "integer"
        },
        {
         "name": "Avg Age",
         "rawType": "float64",
         "type": "float"
        },
        {
         "name": "Total Value",
         "rawType": "float64",
         "type": "float"
        },
        {
         "name": "Confederation",
         "rawType": "object",
         "type": "string"
        },
        {
         "name": "Points",
         "rawType": "int16",
         "type": "integer"
        }
       ],
       "conversionMethod": "pd.DataFrame",
       "ref": "2c3d9a79-285a-4508-911c-eee4bfeae0a4",
       "rows": [
        [
         "0",
         "1",
         "Argentina",
         "25",
         "27.5",
         "716500000.0",
         "CONMEBOL",
         "1867"
        ],
        [
         "1",
         "2",
         "France",
         "23",
         "26.8",
         "978000000.0",
         "UEFA",
         "1860"
        ],
        [
         "2",
         "3",
         "Spain",
         "24",
         "25.9",
         "890000000.0",
         "UEFA",
         "1853"
        ],
        [
         "3",
         "4",
         "England",
         "23",
         "25.3",
         "995000000.0",
         "UEFA",
         "1814"
        ],
        [
         "4",
         "5",
         "Brazil",
         "23",
         "27.0",
         "921800000.0",
         "CONMEBOL",
         "1776"
        ]
       ],
       "shape": {
        "columns": 7,
        "rows": 5
       }
      },
      "text/html": [
       "<div>\n",
       "<style scoped>\n",
       "    .dataframe tbody tr th:only-of-type {\n",
       "        vertical-align: middle;\n",
       "    }\n",
       "\n",
       "    .dataframe tbody tr th {\n",
       "        vertical-align: top;\n",
       "    }\n",
       "\n",
       "    .dataframe thead th {\n",
       "        text-align: right;\n",
       "    }\n",
       "</style>\n",
       "<table border=\"1\" class=\"dataframe\">\n",
       "  <thead>\n",
       "    <tr style=\"text-align: right;\">\n",
       "      <th></th>\n",
       "      <th>Rank</th>\n",
       "      <th>Nation</th>\n",
       "      <th>Squad Size</th>\n",
       "      <th>Avg Age</th>\n",
       "      <th>Total Value</th>\n",
       "      <th>Confederation</th>\n",
       "      <th>Points</th>\n",
       "    </tr>\n",
       "  </thead>\n",
       "  <tbody>\n",
       "    <tr>\n",
       "      <th>0</th>\n",
       "      <td>1</td>\n",
       "      <td>Argentina</td>\n",
       "      <td>25</td>\n",
       "      <td>27.5</td>\n",
       "      <td>716500000.0</td>\n",
       "      <td>CONMEBOL</td>\n",
       "      <td>1867</td>\n",
       "    </tr>\n",
       "    <tr>\n",
       "      <th>1</th>\n",
       "      <td>2</td>\n",
       "      <td>France</td>\n",
       "      <td>23</td>\n",
       "      <td>26.8</td>\n",
       "      <td>978000000.0</td>\n",
       "      <td>UEFA</td>\n",
       "      <td>1860</td>\n",
       "    </tr>\n",
       "    <tr>\n",
       "      <th>2</th>\n",
       "      <td>3</td>\n",
       "      <td>Spain</td>\n",
       "      <td>24</td>\n",
       "      <td>25.9</td>\n",
       "      <td>890000000.0</td>\n",
       "      <td>UEFA</td>\n",
       "      <td>1853</td>\n",
       "    </tr>\n",
       "    <tr>\n",
       "      <th>3</th>\n",
       "      <td>4</td>\n",
       "      <td>England</td>\n",
       "      <td>23</td>\n",
       "      <td>25.3</td>\n",
       "      <td>995000000.0</td>\n",
       "      <td>UEFA</td>\n",
       "      <td>1814</td>\n",
       "    </tr>\n",
       "    <tr>\n",
       "      <th>4</th>\n",
       "      <td>5</td>\n",
       "      <td>Brazil</td>\n",
       "      <td>23</td>\n",
       "      <td>27.0</td>\n",
       "      <td>921800000.0</td>\n",
       "      <td>CONMEBOL</td>\n",
       "      <td>1776</td>\n",
       "    </tr>\n",
       "  </tbody>\n",
       "</table>\n",
       "</div>"
      ],
      "text/plain": [
       "   Rank     Nation  Squad Size  Avg Age  Total Value Confederation  Points\n",
       "0     1  Argentina          25     27.5  716500000.0      CONMEBOL    1867\n",
       "1     2     France          23     26.8  978000000.0          UEFA    1860\n",
       "2     3      Spain          24     25.9  890000000.0          UEFA    1853\n",
       "3     4    England          23     25.3  995000000.0          UEFA    1814\n",
       "4     5     Brazil          23     27.0  921800000.0      CONMEBOL    1776"
      ]
     },
     "execution_count": 225,
     "metadata": {},
     "output_type": "execute_result"
    }
   ],
   "source": [
    "df.head()"
   ]
  },
  {
   "cell_type": "code",
   "execution_count": 226,
   "metadata": {},
   "outputs": [],
   "source": [
    "#remoing the columns that we dont need!\n",
    "transfer_market_25 = df.drop(columns=['Squad Size', 'Avg Age','Total Value'])"
   ]
  },
  {
   "cell_type": "code",
   "execution_count": 227,
   "metadata": {},
   "outputs": [
    {
     "data": {
      "application/vnd.microsoft.datawrangler.viewer.v0+json": {
       "columns": [
        {
         "name": "index",
         "rawType": "int64",
         "type": "integer"
        },
        {
         "name": "Rank",
         "rawType": "int64",
         "type": "integer"
        },
        {
         "name": "Nation",
         "rawType": "object",
         "type": "string"
        },
        {
         "name": "Confederation",
         "rawType": "object",
         "type": "string"
        },
        {
         "name": "Points",
         "rawType": "int16",
         "type": "integer"
        }
       ],
       "conversionMethod": "pd.DataFrame",
       "ref": "01a6c095-25e7-4e70-8d0d-45fc5ba227f2",
       "rows": [
        [
         "0",
         "1",
         "Argentina",
         "CONMEBOL",
         "1867"
        ],
        [
         "1",
         "2",
         "France",
         "UEFA",
         "1860"
        ],
        [
         "2",
         "3",
         "Spain",
         "UEFA",
         "1853"
        ],
        [
         "3",
         "4",
         "England",
         "UEFA",
         "1814"
        ],
        [
         "4",
         "5",
         "Brazil",
         "CONMEBOL",
         "1776"
        ],
        [
         "5",
         "6",
         "Portugal",
         "UEFA",
         "1756"
        ],
        [
         "6",
         "7",
         "Netherlands",
         "UEFA",
         "1748"
        ],
        [
         "7",
         "8",
         "Belgium",
         "UEFA",
         "1741"
        ],
        [
         "8",
         "9",
         "Italy",
         "UEFA",
         "1732"
        ],
        [
         "9",
         "10",
         "Germany",
         "UEFA",
         "1704"
        ],
        [
         "10",
         "11",
         "Uruguay",
         "CONMEBOL",
         "1696"
        ],
        [
         "11",
         "12",
         "Colombia",
         "CONMEBOL",
         "1694"
        ],
        [
         "12",
         "13",
         "Croatia",
         "UEFA",
         "1692"
        ],
        [
         "13",
         "14",
         "Morocco",
         "CAF",
         "1688"
        ],
        [
         "14",
         "15",
         "Japan",
         "AFC",
         "1653"
        ],
        [
         "15",
         "16",
         "United States",
         "CONCACAF",
         "1645"
        ],
        [
         "16",
         "17",
         "Senegal",
         "CAF",
         "1637"
        ],
        [
         "17",
         "18",
         "Iran",
         "AFC",
         "1635"
        ],
        [
         "18",
         "19",
         "Mexico",
         "CONCACAF",
         "1627"
        ],
        [
         "19",
         "20",
         "Switzerland",
         "UEFA",
         "1625"
        ],
        [
         "20",
         "21",
         "Denmark",
         "UEFA",
         "1611"
        ],
        [
         "21",
         "22",
         "Austria",
         "UEFA",
         "1590"
        ],
        [
         "22",
         "23",
         "South Korea",
         "AFC",
         "1585"
        ],
        [
         "23",
         "24",
         "Ecuador",
         "CONMEBOL",
         "1560"
        ],
        [
         "24",
         "25",
         "Ukraine",
         "UEFA",
         "1555"
        ],
        [
         "25",
         "26",
         "Australia",
         "AFC",
         "1544"
        ],
        [
         "26",
         "27",
         "Sweden",
         "UEFA",
         "1540"
        ],
        [
         "27",
         "28",
         "Turkiye",
         "UEFA",
         "1537"
        ],
        [
         "28",
         "29",
         "Wales",
         "UEFA",
         "1534"
        ],
        [
         "29",
         "30",
         "Hungary",
         "UEFA",
         "1518"
        ],
        [
         "30",
         "31",
         "Canada",
         "CONCACAF",
         "1516"
        ],
        [
         "31",
         "32",
         "Serbia",
         "UEFA",
         "1514"
        ],
        [
         "32",
         "33",
         "Egypt",
         "CAF",
         "1513"
        ],
        [
         "33",
         "34",
         "Russia",
         "UEFA",
         "1512"
        ],
        [
         "34",
         "35",
         "Poland",
         "UEFA",
         "1511"
        ],
        [
         "35",
         "36",
         "Panama",
         "CONCACAF",
         "1504"
        ],
        [
         "36",
         "37",
         "Algeria",
         "CAF",
         "1496"
        ],
        [
         "37",
         "38",
         "Romania",
         "UEFA",
         "1494"
        ],
        [
         "38",
         "39",
         "Greece",
         "UEFA",
         "1490"
        ],
        [
         "39",
         "40",
         "Peru",
         "CONMEBOL",
         "1488"
        ],
        [
         "40",
         "41",
         "Slovakia",
         "UEFA",
         "1486"
        ],
        [
         "41",
         "42",
         "Czech Republic",
         "UEFA",
         "1485"
        ],
        [
         "42",
         "43",
         "Norway",
         "UEFA",
         "1484"
        ],
        [
         "43",
         "44",
         "Nigeria",
         "CAF",
         "1482"
        ],
        [
         "44",
         "45",
         "Scotland",
         "UEFA",
         "1480"
        ],
        [
         "45",
         "46",
         "Ivory Coast",
         "CAF",
         "1478"
        ],
        [
         "46",
         "47",
         "Venezuela",
         "CONMEBOL",
         "1476"
        ],
        [
         "47",
         "48",
         "Qatar",
         "AFC",
         "1475"
        ],
        [
         "48",
         "49",
         "Cameroon",
         "CAF",
         "1471"
        ],
        [
         "49",
         "50",
         "Chile",
         "CONMEBOL",
         "1469"
        ]
       ],
       "shape": {
        "columns": 4,
        "rows": 210
       }
      },
      "text/html": [
       "<div>\n",
       "<style scoped>\n",
       "    .dataframe tbody tr th:only-of-type {\n",
       "        vertical-align: middle;\n",
       "    }\n",
       "\n",
       "    .dataframe tbody tr th {\n",
       "        vertical-align: top;\n",
       "    }\n",
       "\n",
       "    .dataframe thead th {\n",
       "        text-align: right;\n",
       "    }\n",
       "</style>\n",
       "<table border=\"1\" class=\"dataframe\">\n",
       "  <thead>\n",
       "    <tr style=\"text-align: right;\">\n",
       "      <th></th>\n",
       "      <th>Rank</th>\n",
       "      <th>Nation</th>\n",
       "      <th>Confederation</th>\n",
       "      <th>Points</th>\n",
       "    </tr>\n",
       "  </thead>\n",
       "  <tbody>\n",
       "    <tr>\n",
       "      <th>0</th>\n",
       "      <td>1</td>\n",
       "      <td>Argentina</td>\n",
       "      <td>CONMEBOL</td>\n",
       "      <td>1867</td>\n",
       "    </tr>\n",
       "    <tr>\n",
       "      <th>1</th>\n",
       "      <td>2</td>\n",
       "      <td>France</td>\n",
       "      <td>UEFA</td>\n",
       "      <td>1860</td>\n",
       "    </tr>\n",
       "    <tr>\n",
       "      <th>2</th>\n",
       "      <td>3</td>\n",
       "      <td>Spain</td>\n",
       "      <td>UEFA</td>\n",
       "      <td>1853</td>\n",
       "    </tr>\n",
       "    <tr>\n",
       "      <th>3</th>\n",
       "      <td>4</td>\n",
       "      <td>England</td>\n",
       "      <td>UEFA</td>\n",
       "      <td>1814</td>\n",
       "    </tr>\n",
       "    <tr>\n",
       "      <th>4</th>\n",
       "      <td>5</td>\n",
       "      <td>Brazil</td>\n",
       "      <td>CONMEBOL</td>\n",
       "      <td>1776</td>\n",
       "    </tr>\n",
       "    <tr>\n",
       "      <th>...</th>\n",
       "      <td>...</td>\n",
       "      <td>...</td>\n",
       "      <td>...</td>\n",
       "      <td>...</td>\n",
       "    </tr>\n",
       "    <tr>\n",
       "      <th>205</th>\n",
       "      <td>206</td>\n",
       "      <td>Turks and Caicos Islands</td>\n",
       "      <td>CONCACAF</td>\n",
       "      <td>804</td>\n",
       "    </tr>\n",
       "    <tr>\n",
       "      <th>206</th>\n",
       "      <td>207</td>\n",
       "      <td>British Virgin Islands</td>\n",
       "      <td>CONCACAF</td>\n",
       "      <td>780</td>\n",
       "    </tr>\n",
       "    <tr>\n",
       "      <th>207</th>\n",
       "      <td>208</td>\n",
       "      <td>United States Virgin Islands</td>\n",
       "      <td>CONCACAF</td>\n",
       "      <td>780</td>\n",
       "    </tr>\n",
       "    <tr>\n",
       "      <th>208</th>\n",
       "      <td>209</td>\n",
       "      <td>Anguilla</td>\n",
       "      <td>CONCACAF</td>\n",
       "      <td>769</td>\n",
       "    </tr>\n",
       "    <tr>\n",
       "      <th>209</th>\n",
       "      <td>210</td>\n",
       "      <td>San Marino</td>\n",
       "      <td>UEFA</td>\n",
       "      <td>747</td>\n",
       "    </tr>\n",
       "  </tbody>\n",
       "</table>\n",
       "<p>210 rows × 4 columns</p>\n",
       "</div>"
      ],
      "text/plain": [
       "     Rank                        Nation Confederation  Points\n",
       "0       1                     Argentina      CONMEBOL    1867\n",
       "1       2                        France          UEFA    1860\n",
       "2       3                         Spain          UEFA    1853\n",
       "3       4                       England          UEFA    1814\n",
       "4       5                        Brazil      CONMEBOL    1776\n",
       "..    ...                           ...           ...     ...\n",
       "205   206      Turks and Caicos Islands      CONCACAF     804\n",
       "206   207        British Virgin Islands      CONCACAF     780\n",
       "207   208  United States Virgin Islands      CONCACAF     780\n",
       "208   209                      Anguilla      CONCACAF     769\n",
       "209   210                    San Marino          UEFA     747\n",
       "\n",
       "[210 rows x 4 columns]"
      ]
     },
     "execution_count": 227,
     "metadata": {},
     "output_type": "execute_result"
    }
   ],
   "source": [
    "transfer_market_25"
   ]
  },
  {
   "cell_type": "code",
   "execution_count": 228,
   "metadata": {},
   "outputs": [
    {
     "data": {
      "text/plain": [
       "Rank             210\n",
       "Nation           210\n",
       "Confederation      6\n",
       "Points           193\n",
       "dtype: int64"
      ]
     },
     "execution_count": 228,
     "metadata": {},
     "output_type": "execute_result"
    }
   ],
   "source": [
    "transfer_market_25.nunique()"
   ]
  },
  {
   "cell_type": "code",
   "execution_count": 229,
   "metadata": {},
   "outputs": [
    {
     "name": "stdout",
     "output_type": "stream",
     "text": [
      "           Nation  Pro Players  All Players\n",
      "0     Afghanistan          NaN          NaN\n",
      "1         Albania          NaN      17500.0\n",
      "2         Algeria          NaN          NaN\n",
      "3  American Samoa          NaN          NaN\n",
      "4         Andorra          NaN          NaN\n"
     ]
    }
   ],
   "source": [
    "import pandas as pd\n",
    "\n",
    "\n",
    "# Read the FIFA.csv file into a DataFrame\n",
    "fifa_TP = pd.read_excel('FIFA.xlsx')\n",
    "\n",
    "# Display the first few rows of the DataFrame\n",
    "print(fifa_TP.head())\n"
   ]
  },
  {
   "cell_type": "code",
   "execution_count": 230,
   "metadata": {},
   "outputs": [
    {
     "name": "stdout",
     "output_type": "stream",
     "text": [
      "     Rank                        Nation Confederation  Points          Nation  \\\n",
      "0       1                     Argentina      CONMEBOL    1867     Afghanistan   \n",
      "1       2                        France          UEFA    1860         Albania   \n",
      "2       3                         Spain          UEFA    1853         Algeria   \n",
      "3       4                       England          UEFA    1814  American Samoa   \n",
      "4       5                        Brazil      CONMEBOL    1776         Andorra   \n",
      "..    ...                           ...           ...     ...             ...   \n",
      "205   206      Turks and Caicos Islands      CONCACAF     804        Tanzania   \n",
      "206   207        British Virgin Islands      CONCACAF     780    Turkmenistan   \n",
      "207   208  United States Virgin Islands      CONCACAF     780       Venezuela   \n",
      "208   209                      Anguilla      CONCACAF     769         Lebanon   \n",
      "209   210                    San Marino          UEFA     747        Dominica   \n",
      "\n",
      "     Pro Players  All Players  \n",
      "0            NaN          NaN  \n",
      "1            NaN      17500.0  \n",
      "2            NaN          NaN  \n",
      "3            NaN          NaN  \n",
      "4            NaN          NaN  \n",
      "..           ...          ...  \n",
      "205          NaN          NaN  \n",
      "206          NaN          NaN  \n",
      "207          NaN          NaN  \n",
      "208        200.0       5000.0  \n",
      "209          NaN          NaN  \n",
      "\n",
      "[210 rows x 7 columns]\n"
     ]
    }
   ],
   "source": [
    "# Combine the two data frames next to each other\n",
    "combined_df = pd.concat([transfer_market_25, fifa_TP], axis=1)\n",
    "\n",
    "# Display the combined data frame\n",
    "print(combined_df)"
   ]
  },
  {
   "cell_type": "code",
   "execution_count": 231,
   "metadata": {},
   "outputs": [
    {
     "name": "stdout",
     "output_type": "stream",
     "text": [
      "             Nation  Pro Players  All Players  Rank Confederation  Points\n",
      "0       Afghanistan          NaN          NaN   156           AFC    1025\n",
      "1           Albania          NaN      17500.0    65          UEFA    1376\n",
      "2           Algeria          NaN          NaN    37           CAF    1496\n",
      "3    American Samoa          NaN          NaN   187           OFC     883\n",
      "4           Andorra          NaN          NaN   171          UEFA     972\n",
      "..              ...          ...          ...   ...           ...     ...\n",
      "205        Tanzania          NaN          NaN   106           CAF    1199\n",
      "206    Turkmenistan          NaN          NaN   143           AFC    1065\n",
      "207       Venezuela          NaN          NaN    47      CONMEBOL    1476\n",
      "208         Lebanon        200.0       5000.0   112           AFC    1171\n",
      "209        Dominica          NaN          NaN   183      CONCACAF     900\n",
      "\n",
      "[210 rows x 6 columns]\n"
     ]
    }
   ],
   "source": [
    "# Combine the two data frames on the 'Nation' column\n",
    "combined_df = pd.merge(fifa_TP, transfer_market_25, on='Nation', how='inner')\n",
    "\n",
    "# Display the combined data frame\n",
    "print(combined_df)"
   ]
  },
  {
   "cell_type": "code",
   "execution_count": 232,
   "metadata": {},
   "outputs": [
    {
     "name": "stdout",
     "output_type": "stream",
     "text": [
      "                           Nation  Pro Players  All Players  Rank  \\\n",
      "8                       Argentina          NaN    4928574.0     1   \n",
      "68                         France       4000.0    2200000.0     2   \n",
      "172                         Spain       8560.0    4107300.0     3   \n",
      "60                        England       5582.0   11800000.0     4   \n",
      "27                         Brazil          NaN   12000000.0     5   \n",
      "..                            ...          ...          ...   ...   \n",
      "189      Turks and Caicos Islands          NaN          NaN   206   \n",
      "28         British Virgin Islands          NaN          NaN   207   \n",
      "194  United States Virgin Islands          NaN          NaN   208   \n",
      "6                        Anguilla          NaN          NaN   209   \n",
      "159                    San Marino          NaN          NaN   210   \n",
      "\n",
      "    Confederation  Points  \n",
      "8        CONMEBOL    1867  \n",
      "68           UEFA    1860  \n",
      "172          UEFA    1853  \n",
      "60           UEFA    1814  \n",
      "27       CONMEBOL    1776  \n",
      "..            ...     ...  \n",
      "189      CONCACAF     804  \n",
      "28       CONCACAF     780  \n",
      "194      CONCACAF     780  \n",
      "6        CONCACAF     769  \n",
      "159          UEFA     747  \n",
      "\n",
      "[210 rows x 6 columns]\n"
     ]
    }
   ],
   "source": [
    "combined_df_sorted = combined_df.sort_values(by='Rank')\n",
    "print(combined_df_sorted)"
   ]
  },
  {
   "cell_type": "code",
   "execution_count": null,
   "metadata": {},
   "outputs": [],
   "source": []
  },
  {
   "cell_type": "code",
   "execution_count": 233,
   "metadata": {},
   "outputs": [
    {
     "name": "stdout",
     "output_type": "stream",
     "text": [
      "           Country  2024 Population\n",
      "0            India       1450940000\n",
      "1            China       1419320000\n",
      "2    United States        345427000\n",
      "3        Indonesia        283488000\n",
      "4         Pakistan        251269000\n",
      "..             ...              ...\n",
      "216      Gibraltar            39329\n",
      "219     San Marino            33581\n",
      "222       Anguilla            14598\n",
      "223   Cook Islands            13729\n",
      "229     Montserrat             4389\n",
      "\n",
      "[192 rows x 2 columns]\n"
     ]
    },
    {
     "name": "stderr",
     "output_type": "stream",
     "text": [
      "C:\\Users\\modri\\AppData\\Local\\Temp\\ipykernel_17084\\3115633898.py:46: FutureWarning: Passing literal html to 'read_html' is deprecated and will be removed in a future version. To read from a literal string, wrap it in a 'StringIO' object.\n",
      "  tables = pd.read_html(response.text)\n"
     ]
    }
   ],
   "source": [
    "import requests\n",
    "import pandas as pd\n",
    "# List of countries you’re interested in\n",
    "countries = [\"Afghanistan\", \"Albania\", \"Algeria\", \"American Samoa\", \"Andorra\", \"Angola\",\n",
    " \"Anguilla\", \"Antigua and Barbuda\", \"Argentina\", \"Armenia\", \"Aruba\", \"Australia\",\n",
    " \"Austria\", \"Azerbaijan\", \"Bahamas\", \"Bahrain\", \"Bangladesh\", \"Barbados\",\n",
    " \"Belarus\", \"Belgium\", \"Belize\", \"Benin\", \"Bermuda\", \"Bhutan\", \"Bolivia\",\n",
    " \"Bosnia-Herzegovina\", \"Botswana\", \"Brazil\", \"British Virgin Islands\",\n",
    " \"Brunei Darussalam\", \"Bulgaria\", \"Burkina Faso\", \"Burundi\", \"Cambodia\",\n",
    " \"Cameroon\", \"Canada\", \"Cape Verde\", \"Cayman Islands\", \"Central African Republic\",\n",
    " \"Chad\", \"Chile\", \"China\", \"Chinese Taipei\", \"Colombia\", \"Comoros\",\n",
    " \"Republic of the Congo\", \"Democratic Republic of the Congo\", \"Cook Islands\",\n",
    " \"Costa Rica\", \"Croatia\", \"Cuba\", \"Curaçao\", \"Cyprus\", \"Czech Republic\",\n",
    " \"Denmark\", \"Djibouti\", \"Dominican Republic\", \"Ecuador\", \"Egypt\", \"El Salvador\",\n",
    " \"England\", \"Equatorial Guinea\", \"Estonia\", \"Eswatini\", \"Ethiopia\", \"Faroe Islands\",\n",
    " \"Fiji\", \"Finland\", \"France\", \"Gabon\", \"The Gambia\", \"Georgia\", \"Germany\",\n",
    " \"Ghana\", \"Gibraltar\", \"Greece\", \"Grenada\", \"Guam\", \"Guatemala\", \"Guinea\",\n",
    " \"Guinea-Bissau\", \"Guyana\", \"Haiti\", \"Honduras\", \"Hong Kong\", \"Hungary\", \"Iran\",\n",
    " \"Iceland\", \"India\", \"Indonesia\", \"Iraq\", \"Republic of Ireland\", \"Israel\", \"Italy\",\n",
    " \"Ivory Coast\", \"Jamaica\", \"Japan\", \"Jordan\", \"Kazakhstan\", \"Kenya\", \"North Korea\",\n",
    " \"South Korea\", \"Kosovo\", \"Kuwait\", \"Kyrgyzstan\", \"Laos\", \"Latvia\", \"Lebanon\",\n",
    " \"Lesotho\", \"Liberia\", \"Libya\", \"Liechtenstein\", \"Lithuania\", \"Luxembourg\", \"Macau\",\n",
    " \"Madagascar\", \"Malawi\", \"Malaysia\", \"Maldives\", \"Mali\", \"Malta\", \"Mauritania\",\n",
    " \"Mauritius\", \"Mexico\", \"Moldova\", \"Mongolia\", \"Montenegro\", \"Montserrat\",\n",
    " \"Morocco\", \"Mozambique\", \"Myanmar\", \"Namibia\", \"Nepal\", \"Netherlands\",\n",
    " \"New Caledonia\", \"New Zealand\", \"Nicaragua\", \"Niger\", \"Nigeria\", \"North Macedonia\",\n",
    " \"Northern Ireland\", \"Norway\", \"Oman\", \"Pakistan\", \"Palestine\", \"Panama\",\n",
    " \"Papua New Guinea\", \"Paraguay\", \"Peru\", \"Philippines\", \"Poland\", \"Portugal\",\n",
    " \"Qatar\", \"Romania\", \"Russia\", \"Rwanda\", \"Saint Kitts and Nevis\", \"Saint Lucia\",\n",
    " \"Saint Vincent and the Grenadines\", \"Samoa\", \"San Marino\", \"Saudi Arabia\",\n",
    " \"Scotland\", \"Senegal\", \"Serbia\", \"Seychelles\", \"Sierra Leone\", \"Singapore\",\n",
    " \"Slovakia\", \"Slovenia\", \"Solomon Islands\", \"South Africa\", \"South Sudan\", \"Spain\",\n",
    " \"Sri Lanka\", \"Sudan\", \"Suriname\", \"Sweden\", \"Switzerland\", \"Syria\",\n",
    " \"São Tomé and Príncipe\", \"Tahiti\", \"Tajikistan\", \"Thailand\", \"Timor-Leste\", \"Togo\",\n",
    " \"Tonga\", \"Trinidad and Tobago\", \"Tunisia\", \"Turkiye\", \"Turks and Caicos Islands\",\n",
    " \"Uganda\", \"Ukraine\", \"United Arab Emirates\", \"United States\", \"United States Virgin Islands\",\n",
    " \"Uruguay\", \"Uzbekistan\", \"Vanuatu\", \"Vietnam\", \"Wales\", \"Yemen\", \"Zambia\", \"Zimbabwe\",\n",
    " \"Puerto Rico\", \"Somalia\", \"Tanzania\", \"Turkmenistan\", \"Venezuela\"]\n",
    "\n",
    "# Base URL for World Population Review\n",
    "base_url = \"https://worldpopulationreview.com/\"\n",
    "# Fetch the population data\n",
    "response = requests.get(base_url)\n",
    "if response.status_code == 200:\n",
    "    # Parse the data into a DataFrame\n",
    "    tables = pd.read_html(response.text)\n",
    "    # The first table contains the population data\n",
    "    population_df = tables[0]\n",
    "    # Filter the DataFrame for the countries of interest\n",
    "    filtered_df = population_df[population_df['Country'].isin(countries)]\n",
    "    # Display only the 'Country' and '2024 Population' columns\n",
    "    result_df = filtered_df[['Country', '2024 Population']]\n",
    "    # result_df = result_df.sort_values(by=\"Country\", ascending=True)\n",
    "    # Display the result\n",
    "    print(result_df)\n",
    "else:\n",
    "    print(\"Failed to retrieve data.\")"
   ]
  },
  {
   "cell_type": "code",
   "execution_count": 234,
   "metadata": {},
   "outputs": [],
   "source": [
    "missing_countries = ['Bosnia-Herzegovina', 'Brunei Darussalam', 'Chinese Taipei', 'Democratic Republic of the Congo', 'Curaçao', 'England', 'The Gambia', 'Guinea-Bissau', 'Republic of Ireland', 'Kosovo', 'Northern Ireland', 'Scotland', 'São Tomé and Príncipe', 'Timor-Leste', 'Turkiye', 'Tahiti', 'Wales', 'Dominica']\n",
    "populations_MO = {\n",
    "    'Bosnia-Herzegovina': 3280819,\n",
    "    'Brunei Darussalam': 441500,\n",
    "    'Chinese Taipei': 23000000,\n",
    "    'Democratic Republic of the Congo': 108113150,\n",
    "    'Curaçao': 123132,\n",
    "    'England': 56000000,\n",
    "    'The Gambia': 2416668,\n",
    "    'Guinea-Bissau': 1726170,\n",
    "    'Republic of Ireland': 5176569,\n",
    "    'Kosovo': 1935259,\n",
    "    'Northern Ireland': 1900000,\n",
    "    'Scotland': 5500000,\n",
    "    'São Tomé and Príncipe': 175808,\n",
    "    'Timor-Leste': 1154625,\n",
    "    'Turkey': 85028800,\n",
    "    'Tahiti': 291000,\n",
    "    'Wales': 3100000,\n",
    "    'Dominica': 74243\n",
    "}"
   ]
  },
  {
   "cell_type": "code",
   "execution_count": 235,
   "metadata": {},
   "outputs": [
    {
     "name": "stdout",
     "output_type": "stream",
     "text": [
      "                              Nation  2024 Population\n",
      "0                 Bosnia-Herzegovina          3280819\n",
      "1                  Brunei Darussalam           441500\n",
      "2                     Chinese Taipei         23000000\n",
      "3   Democratic Republic of the Congo        108113150\n",
      "4                            Curaçao           123132\n",
      "5                            England         56000000\n",
      "6                         The Gambia          2416668\n",
      "7                      Guinea-Bissau          1726170\n",
      "8                Republic of Ireland          5176569\n",
      "9                             Kosovo          1935259\n",
      "10                  Northern Ireland          1900000\n",
      "11                          Scotland          5500000\n",
      "12             São Tomé and Príncipe           175808\n",
      "13                       Timor-Leste          1154625\n",
      "14                            Turkey         85028800\n",
      "15                            Tahiti           291000\n",
      "16                             Wales          3100000\n",
      "17                          Dominica            74243\n"
     ]
    }
   ],
   "source": [
    "# Create a DataFrame from the populations_MO dictionary\n",
    "populations_df = pd.DataFrame(list(populations_MO.items()), columns=['Nation', '2024 Population'])\n",
    "\n",
    "# Display the DataFrame\n",
    "print(populations_df)\n",
    "\n",
    "\n"
   ]
  },
  {
   "cell_type": "code",
   "execution_count": 236,
   "metadata": {},
   "outputs": [],
   "source": [
    "result_df = result_df.sort_values(by=\"Country\", ascending=True)\n",
    "result_df.rename(columns={\"Country\": \"Nation\"}, inplace=True)"
   ]
  },
  {
   "cell_type": "code",
   "execution_count": 237,
   "metadata": {},
   "outputs": [],
   "source": [
    "# Concatenate populations_df and result_df\n",
    "combined_populations_df = pd.concat([populations_df, result_df], ignore_index=True)\n",
    "result_df = combined_populations_df"
   ]
  },
  {
   "cell_type": "code",
   "execution_count": 238,
   "metadata": {},
   "outputs": [],
   "source": [
    "# Combine the two data frames on the 'Nation' column\n",
    "final_combined_df = pd.merge(combined_df_sorted, result_df, on='Nation', how='inner')\n",
    "FIFA_main = final_combined_df"
   ]
  },
  {
   "cell_type": "code",
   "execution_count": 239,
   "metadata": {},
   "outputs": [
    {
     "name": "stderr",
     "output_type": "stream",
     "text": [
      "C:\\Users\\modri\\AppData\\Local\\Temp\\ipykernel_17084\\3002081339.py:4: FutureWarning: A value is trying to be set on a copy of a DataFrame or Series through chained assignment using an inplace method.\n",
      "The behavior will change in pandas 3.0. This inplace method will never work because the intermediate object on which we are setting values always behaves as a copy.\n",
      "\n",
      "For example, when doing 'df[col].method(value, inplace=True)', try using 'df.method({col: value}, inplace=True)' or df[col] = df[col].method(value) instead, to perform the operation inplace on the original object.\n",
      "\n",
      "\n",
      "  FIFA_main['All Players'].fillna(mean_ratio_all * FIFA_main['2024 Population'] / 100, inplace=True)\n"
     ]
    }
   ],
   "source": [
    "FIFA_main['Player to Population Ratio (%)'] = (FIFA_main['All Players'] / FIFA_main['2024 Population']) * 100\n",
    "FIFA_main['Player to Population Ratio (%)'] = FIFA_main['Player to Population Ratio (%)'].round(1)\n",
    "mean_ratio_all = FIFA_main['Player to Population Ratio (%)'].mean()\n",
    "FIFA_main['All Players'].fillna(mean_ratio_all * FIFA_main['2024 Population'] / 100, inplace=True)\n",
    "FIFA_main['All Players'] = FIFA_main['All Players'].astype(int)\n"
   ]
  },
  {
   "cell_type": "code",
   "execution_count": 240,
   "metadata": {},
   "outputs": [
    {
     "name": "stderr",
     "output_type": "stream",
     "text": [
      "C:\\Users\\modri\\AppData\\Local\\Temp\\ipykernel_17084\\606280988.py:4: FutureWarning: A value is trying to be set on a copy of a DataFrame or Series through chained assignment using an inplace method.\n",
      "The behavior will change in pandas 3.0. This inplace method will never work because the intermediate object on which we are setting values always behaves as a copy.\n",
      "\n",
      "For example, when doing 'df[col].method(value, inplace=True)', try using 'df.method({col: value}, inplace=True)' or df[col] = df[col].method(value) instead, to perform the operation inplace on the original object.\n",
      "\n",
      "\n",
      "  FIFA_main['Pro Players'].fillna(mean_ratio_PRO * FIFA_main['All Players'] / 100, inplace=True)\n"
     ]
    }
   ],
   "source": [
    "FIFA_main['Pro to All ratio (%)'] = (FIFA_main['Pro Players'] / FIFA_main['All Players']) * 100\n",
    "FIFA_main['Pro to All ratio (%)'] = FIFA_main['Pro to All ratio (%)'].round(1)\n",
    "mean_ratio_PRO = FIFA_main['Pro to All ratio (%)'].mean()\n",
    "FIFA_main['Pro Players'].fillna(mean_ratio_PRO * FIFA_main['All Players'] / 100, inplace=True)\n",
    "FIFA_main['Pro Players'] = FIFA_main['Pro Players'].astype(int)\n",
    "\n",
    "FIFA_main['Player to Population Ratio (%)'] = FIFA_main['Player to Population Ratio (%)'].fillna(FIFA_main['Player to Population Ratio (%)'].mean()).round(1)\n",
    "FIFA_main['Pro to All ratio (%)'] = FIFA_main['Pro to All ratio (%)'].fillna(FIFA_main['Pro to All ratio (%)'].mean()).round(1)\n",
    "\n"
   ]
  },
  {
   "cell_type": "code",
   "execution_count": 241,
   "metadata": {},
   "outputs": [],
   "source": [
    "# Create separate dataframes for each confederation\n",
    "FIFA_CONMEBOL = FIFA_main[FIFA_main['Confederation'] == 'CONMEBOL']\n",
    "FIFA_UEFA = FIFA_main[FIFA_main['Confederation'] == 'UEFA']\n",
    "FIFA_AFC = FIFA_main[FIFA_main['Confederation'] == 'AFC']\n",
    "FIFA_CAF = FIFA_main[FIFA_main['Confederation'] == 'CAF']\n",
    "FIFA_CONCACAF = FIFA_main[FIFA_main['Confederation'] == 'CONCACAF']\n",
    "FIFA_OFC = FIFA_main[FIFA_main['Confederation'] == 'OFC']\n"
   ]
  },
  {
   "cell_type": "code",
   "execution_count": null,
   "metadata": {},
   "outputs": [],
   "source": [
    "FIFA_OFC['Player to Population Ratio (%)'] = (FIFA_OFC['All Players'] / FIFA_OFC['2024 Population']) * 100\n",
    "FIFA_OFC['Player to Population Ratio (%)'] = FIFA_OFC['Player to Population Ratio (%)'].round(1)\n",
    "mean_ratio_all_OFC = FIFA_OFC['Player to Population Ratio (%)'].mean()\n",
    "FIFA_OFC['All Players'].fillna(mean_ratio_all_OFC * FIFA_OFC['2024 Population'] / 100, inplace=True)\n",
    "FIFA_OFC['All Players'] = FIFA_OFC['All Players'].astype(int)\n",
    "\n",
    "FIFA_OFC['Pro to All ratio (%)'] = (FIFA_OFC['Pro Players'] / FIFA_OFC['All Players']) * 100\n",
    "FIFA_OFC['Pro to All ratio (%)'] = FIFA_OFC['Pro to All ratio (%)'].round(1)\n",
    "mean_ratio_PRO_OFC = FIFA_OFC['Pro to All ratio (%)'].mean()\n",
    "FIFA_OFC['Pro Players'].fillna(mean_ratio_PRO_OFC * FIFA_OFC['All Players'] / 100, inplace=True)\n",
    "FIFA_OFC['Pro Players'] = FIFA_OFC['Pro Players'].astype(int)\n",
    "\n",
    "FIFA_OFC['Player to Population Ratio (%)'] = FIFA_OFC['Player to Population Ratio (%)'].fillna(FIFA_OFC['Player to Population Ratio (%)'].mean()).round(1)\n",
    "FIFA_OFC['Pro to All ratio (%)'] = FIFA_OFC['Pro to All ratio (%)'].fillna(FIFA_OFC['Pro to All ratio (%)'].mean()).round(1)\n"
   ]
  },
  {
   "cell_type": "code",
   "execution_count": null,
   "metadata": {},
   "outputs": [],
   "source": [
    "FIFA_CONCACAF['Player to Population Ratio (%)'] = (FIFA_CONCACAF['All Players'] / FIFA_CONCACAF['2024 Population']) * 100\n",
    "FIFA_CONCACAF['Player to Population Ratio (%)'] = FIFA_CONCACAF['Player to Population Ratio (%)'].round(1)\n",
    "mean_ratio_all_CONCACAF = FIFA_CONCACAF['Player to Population Ratio (%)'].mean()\n",
    "FIFA_CONCACAF['All Players'].fillna(mean_ratio_all_CONCACAF * FIFA_CONCACAF['2024 Population'] / 100, inplace=True)\n",
    "FIFA_CONCACAF['All Players'] = FIFA_CONCACAF['All Players'].astype(int)\n",
    "\n",
    "FIFA_CONCACAF['Pro to All ratio (%)'] = (FIFA_CONCACAF['Pro Players'] / FIFA_CONCACAF['All Players']) * 100\n",
    "FIFA_CONCACAF['Pro to All ratio (%)'] = FIFA_CONCACAF['Pro to All ratio (%)'].round(1)\n",
    "mean_ratio_PRO_CONCACAF = FIFA_CONCACAF['Pro to All ratio (%)'].mean()\n",
    "FIFA_CONCACAF['Pro Players'].fillna(mean_ratio_PRO_CONCACAF * FIFA_CONCACAF['All Players'] / 100, inplace=True)\n",
    "FIFA_CONCACAF['Pro Players'] = FIFA_CONCACAF['Pro Players'].astype(int)\n",
    "\n",
    "FIFA_CONCACAF['Player to Population Ratio (%)'] = FIFA_CONCACAF['Player to Population Ratio (%)'].fillna(FIFA_CONCACAF['Player to Population Ratio (%)'].mean()).round(1)\n",
    "FIFA_CONCACAF['Pro to All ratio (%)'] = FIFA_CONCACAF['Pro to All ratio (%)'].fillna(FIFA_CONCACAF['Pro to All ratio (%)'].mean()).round(1)\n"
   ]
  },
  {
   "cell_type": "code",
   "execution_count": null,
   "metadata": {},
   "outputs": [],
   "source": [
    "FIFA_CAF['Player to Population Ratio (%)'] = (FIFA_CAF['All Players'] / FIFA_CAF['2024 Population']) * 100\n",
    "FIFA_CAF['Player to Population Ratio (%)'] = FIFA_CAF['Player to Population Ratio (%)'].round(1)\n",
    "mean_ratio_all_CAF = FIFA_CAF['Player to Population Ratio (%)'].mean()\n",
    "FIFA_CAF['All Players'].fillna(mean_ratio_all_CAF * FIFA_CAF['2024 Population'] / 100, inplace=True)\n",
    "FIFA_CAF['All Players'] = FIFA_CAF['All Players'].astype(int)\n",
    "\n",
    "FIFA_CAF['Pro to All ratio (%)'] = (FIFA_CAF['Pro Players'] / FIFA_CAF['All Players']) * 100\n",
    "FIFA_CAF['Pro to All ratio (%)'] = FIFA_CAF['Pro to All ratio (%)'].round(1)\n",
    "mean_ratio_PRO_CAF = FIFA_CAF['Pro to All ratio (%)'].mean()\n",
    "FIFA_CAF['Pro Players'].fillna(mean_ratio_PRO_CAF * FIFA_CAF['All Players'] / 100, inplace=True)\n",
    "FIFA_CAF['Pro Players'] = FIFA_CAF['Pro Players'].astype(int)\n",
    "\n",
    "FIFA_CAF['Player to Population Ratio (%)'] = FIFA_CAF['Player to Population Ratio (%)'].fillna(FIFA_CAF['Player to Population Ratio (%)'].mean()).round(1)\n",
    "FIFA_CAF['Pro to All ratio (%)'] = FIFA_CAF['Pro to All ratio (%)'].fillna(FIFA_CAF['Pro to All ratio (%)'].mean()).round(1)\n"
   ]
  },
  {
   "cell_type": "code",
   "execution_count": null,
   "metadata": {},
   "outputs": [],
   "source": [
    "FIFA_UEFA['Player to Population Ratio (%)'] = (FIFA_UEFA['All Players'] / FIFA_UEFA['2024 Population']) * 100\n",
    "FIFA_UEFA['Player to Population Ratio (%)'] = FIFA_UEFA['Player to Population Ratio (%)'].round(1)\n",
    "mean_ratio_all_UEFA = FIFA_UEFA['Player to Population Ratio (%)'].mean()\n",
    "FIFA_UEFA['All Players'].fillna(mean_ratio_all_UEFA * FIFA_UEFA['2024 Population'] / 100, inplace=True)\n",
    "FIFA_UEFA['All Players'] = FIFA_UEFA['All Players'].astype(int)\n",
    "\n",
    "FIFA_UEFA['Pro to All ratio (%)'] = (FIFA_UEFA['Pro Players'] / FIFA_UEFA['All Players']) * 100\n",
    "FIFA_UEFA['Pro to All ratio (%)'] = FIFA_UEFA['Pro to All ratio (%)'].round(1)\n",
    "mean_ratio_PRO_UEFA = FIFA_UEFA['Pro to All ratio (%)'].mean()\n",
    "FIFA_UEFA['Pro Players'].fillna(mean_ratio_PRO_UEFA * FIFA_UEFA['All Players'] / 100, inplace=True)\n",
    "FIFA_UEFA['Pro Players'] = FIFA_UEFA['Pro Players'].astype(int)\n",
    "\n",
    "FIFA_UEFA['Player to Population Ratio (%)'] = FIFA_UEFA['Player to Population Ratio (%)'].fillna(FIFA_UEFA['Player to Population Ratio (%)'].mean()).round(1)\n",
    "FIFA_UEFA['Pro to All ratio (%)'] = FIFA_UEFA['Pro to All ratio (%)'].fillna(FIFA_UEFA['Pro to All ratio (%)'].mean()).round(1)\n"
   ]
  },
  {
   "cell_type": "code",
   "execution_count": null,
   "metadata": {},
   "outputs": [],
   "source": [
    "FIFA_AFC['Player to Population Ratio (%)'] = (FIFA_AFC['All Players'] / FIFA_AFC['2024 Population']) * 100\n",
    "FIFA_AFC['Player to Population Ratio (%)'] = FIFA_AFC['Player to Population Ratio (%)'].round(1)\n",
    "mean_ratio_all_AFC = FIFA_AFC['Player to Population Ratio (%)'].mean()\n",
    "FIFA_AFC['All Players'].fillna(mean_ratio_all_AFC * FIFA_AFC['2024 Population'] / 100, inplace=True)\n",
    "FIFA_AFC['All Players'] = FIFA_AFC['All Players'].astype(int)\n",
    "\n",
    "FIFA_AFC['Pro to All ratio (%)'] = (FIFA_AFC['Pro Players'] / FIFA_AFC['All Players']) * 100\n",
    "FIFA_AFC['Pro to All ratio (%)'] = FIFA_AFC['Pro to All ratio (%)'].round(1)\n",
    "mean_ratio_PRO_AFC = FIFA_AFC['Pro to All ratio (%)'].mean()\n",
    "FIFA_AFC['Pro Players'].fillna(mean_ratio_PRO_AFC * FIFA_AFC['All Players'] / 100, inplace=True)\n",
    "FIFA_AFC['Pro Players'] = FIFA_AFC['Pro Players'].astype(int)\n",
    "\n",
    "FIFA_AFC['Player to Population Ratio (%)'] = FIFA_AFC['Player to Population Ratio (%)'].fillna(FIFA_AFC['Player to Population Ratio (%)'].mean()).round(1)\n",
    "FIFA_AFC['Pro to All ratio (%)'] = FIFA_AFC['Pro to All ratio (%)'].fillna(FIFA_AFC['Pro to All ratio (%)'].mean()).round(1)\n"
   ]
  },
  {
   "cell_type": "code",
   "execution_count": null,
   "metadata": {},
   "outputs": [],
   "source": [
    "FIFA_CONMEBOL['Player to Population Ratio (%)'] = (FIFA_CONMEBOL['All Players'] / FIFA_CONMEBOL['2024 Population']) * 100\n",
    "FIFA_CONMEBOL['Player to Population Ratio (%)'] = FIFA_CONMEBOL['Player to Population Ratio (%)'].round(1)\n",
    "mean_ratio_all_CONMEBOL = FIFA_CONMEBOL['Player to Population Ratio (%)'].mean()\n",
    "FIFA_CONMEBOL['All Players'].fillna(mean_ratio_all_CONMEBOL * FIFA_CONMEBOL['2024 Population'] / 100, inplace=True)\n",
    "FIFA_CONMEBOL['All Players'] = FIFA_CONMEBOL['All Players'].astype(int)\n",
    "\n",
    "FIFA_CONMEBOL['Pro to All ratio (%)'] = (FIFA_CONMEBOL['Pro Players'] / FIFA_CONMEBOL['All Players']) * 100\n",
    "FIFA_CONMEBOL['Pro to All ratio (%)'] = FIFA_CONMEBOL['Pro to All ratio (%)'].round(1)\n",
    "mean_ratio_PRO_CONMEBOL = FIFA_CONMEBOL['Pro to All ratio (%)'].mean()\n",
    "FIFA_CONMEBOL['Pro Players'].fillna(mean_ratio_PRO_CONMEBOL * FIFA_CONMEBOL['All Players'] / 100, inplace=True)\n",
    "FIFA_CONMEBOL['Pro Players'] = FIFA_CONMEBOL['Pro Players'].astype(int)\n",
    "\n",
    "FIFA_CONMEBOL['Player to Population Ratio (%)'] = FIFA_CONMEBOL['Player to Population Ratio (%)'].fillna(FIFA_CONMEBOL['Player to Population Ratio (%)'].mean()).round(1)\n",
    "FIFA_CONMEBOL['Pro to All ratio (%)'] = FIFA_CONMEBOL['Pro to All ratio (%)'].fillna(FIFA_CONMEBOL['Pro to All ratio (%)'].mean()).round(1)\n",
    "\n",
    "\n"
   ]
  },
  {
   "cell_type": "code",
   "execution_count": null,
   "metadata": {},
   "outputs": [],
   "source": [
    "FIFA_UEFA"
   ]
  }
 ],
 "metadata": {
  "kernelspec": {
   "display_name": "Python 3",
   "language": "python",
   "name": "python3"
  },
  "language_info": {
   "codemirror_mode": {
    "name": "ipython",
    "version": 3
   },
   "file_extension": ".py",
   "mimetype": "text/x-python",
   "name": "python",
   "nbconvert_exporter": "python",
   "pygments_lexer": "ipython3",
   "version": "3.13.1"
  }
 },
 "nbformat": 4,
 "nbformat_minor": 4
}
