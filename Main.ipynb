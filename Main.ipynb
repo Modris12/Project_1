{
 "cells": [
  {
   "cell_type": "code",
   "execution_count": 1,
   "metadata": {},
   "outputs": [
    {
     "data": {
      "text/plain": [
       "'\\nAsian Football Confederation (AFC): 47 members\\nConfederation of African Football (CAF): 54 members\\nConfederation of North, Central American and Caribbean Association Football (CONCACAF): 41 members\\nConfederación Sudamericana de Fútbol (CONMEBOL): 10 members\\nOceania Football Confederation (OFC): 13 members\\nUnion of European Football Associations (UEFA): 55 members\\n'"
      ]
     },
     "execution_count": 1,
     "metadata": {},
     "output_type": "execute_result"
    }
   ],
   "source": [
    "#tryout\n",
    "\"\"\"\n",
    "Asian Football Confederation (AFC): 47 members\n",
    "Confederation of African Football (CAF): 54 members\n",
    "Confederation of North, Central American and Caribbean Association Football (CONCACAF): 41 members\n",
    "Confederación Sudamericana de Fútbol (CONMEBOL): 10 members\n",
    "Oceania Football Confederation (OFC): 13 members\n",
    "Union of European Football Associations (UEFA): 55 members\n",
    "\"\"\"\n"
   ]
  },
  {
   "cell_type": "code",
   "execution_count": 2,
   "metadata": {},
   "outputs": [],
   "source": [
    "afc_countries = [\n",
    "    \"Afghanistan\", \"Australia\", \"Bahrain\", \"Bangladesh\", \"Bhutan\", \"Brunei Darussalam\",\n",
    "    \"Cambodia\", \"China\", \"Chinese Taipei\", \"Guam\", \"Hong Kong\", \"India\",\n",
    "    \"Indonesia\", \"Iran\", \"Iraq\", \"Japan\", \"Jordan\", \"North Korea\", \"South Korea\",\n",
    "    \"Kuwait\", \"Kyrgyzstan\", \"Laos\", \"Lebanon\", \"Macau\", \"Malaysia\", \"Maldives\",\n",
    "    \"Mongolia\", \"Myanmar\", \"Nepal\", \"Oman\", \"Pakistan\", \"Palestine\", \"Philippines\",\n",
    "    \"Qatar\", \"Saudi Arabia\", \"Singapore\", \"Sri Lanka\", \"Syria\", \"Tajikistan\",\n",
    "    \"Thailand\", \"Timor-Leste\", \"Turkmenistan\", \"United Arab Emirates\", \"Uzbekistan\", \"Vietnam\", \"Yemen\"\n",
    "]\n"
   ]
  },
  {
   "cell_type": "code",
   "execution_count": 3,
   "metadata": {},
   "outputs": [],
   "source": [
    "caf_countries = [\n",
    "    \"Algeria\", \"Angola\", \"Benin\", \"Botswana\", \"Burkina Faso\", \"Burundi\", \"Cameroon\", \"Cape Verde\",\n",
    "    \"Central African Republic\", \"Chad\", \"Comoros\", \"Republic of the Congo\", \"Democratic Republic of the Congo\", \"Djibouti\", \"Egypt\",\n",
    "    \"Equatorial Guinea\", \"Eswatini\", \"Ethiopia\", \"Gabon\", \"The Gambia\", \"Ghana\", \"Guinea\",\n",
    "    \"Guinea-Bissau\", \"Ivory Coast\", \"Kenya\", \"Lesotho\", \"Liberia\", \"Libya\", \"Madagascar\", \"Malawi\",\n",
    "    \"Mali\", \"Mauritania\", \"Mauritius\", \"Morocco\", \"Mozambique\", \"Namibia\", \"Niger\", \"Nigeria\",\n",
    "    \"Rwanda\", \"São Tomé and Príncipe\", \"Senegal\", \"Seychelles\", \"Sierra Leone\", \"South Africa\",\n",
    "    \"South Sudan\", \"Sudan\", \"Tanzania\", \"Togo\", \"Tunisia\", \"Uganda\", \"Zambia\", \"Zimbabwe\", \"Somalia\"\n",
    "]\n"
   ]
  },
  {
   "cell_type": "code",
   "execution_count": 4,
   "metadata": {},
   "outputs": [],
   "source": [
    "concacaf_countries = [\n",
    "    \"Antigua and Barbuda\", \"Bahamas\", \"Barbados\", \"Belize\", \"Canada\", \"Costa Rica\", \"Cuba\",\n",
    "    \"Dominican Republic\", \"El Salvador\", \"Grenada\", \"Guatemala\", \"Guyana\", \"Haiti\", \"Honduras\", \"Jamaica\", \"Mexico\", \"Montserrat\", \"Nicaragua\", \"Panama\", \"Saint Kitts and Nevis\",\n",
    "    \"Saint Lucia\", \"Saint Vincent and the Grenadines\", \"Trinidad and Tobago\", \"United States\",\n",
    "    \"Anguilla\", \"Aruba\", \"Bermuda\", \"British Virgin Islands\", \"Cayman Islands\",\n",
    "    \"Curaçao\", \"Suriname\", \"Turks and Caicos Islands\", \"United States Virgin Islands\", \"Puerto Rico\"\n",
    "]\n"
   ]
  },
  {
   "cell_type": "code",
   "execution_count": 5,
   "metadata": {},
   "outputs": [],
   "source": [
    "conmebol_countries = [\n",
    "    \"Argentina\", \"Bolivia\", \"Brazil\", \"Chile\", \"Colombia\", \"Ecuador\", \"Paraguay\", \"Peru\",\n",
    "    \"Suriname\", \"Uruguay\", \"Venezuela\"\n",
    "]\n"
   ]
  },
  {
   "cell_type": "code",
   "execution_count": 6,
   "metadata": {},
   "outputs": [],
   "source": [
    "ofc_countries = [\n",
    "    \"American Samoa\", \"Cook Islands\", \"Fiji\", \"New Caledonia\", \"New Zealand\", \"Papua New Guinea\",\n",
    "    \"Samoa\", \"Solomon Islands\", \"Tahiti\", \"Tonga\", \"Vanuatu\"\n",
    "]\n"
   ]
  },
  {
   "cell_type": "code",
   "execution_count": 7,
   "metadata": {},
   "outputs": [],
   "source": [
    "uefa_countries = [\n",
    "    \"Albania\", \"Andorra\", \"Armenia\", \"Austria\", \"Azerbaijan\", \"Belarus\", \"Belgium\", \"Bosnia-Herzegovina\",\n",
    "    \"Bulgaria\", \"Croatia\", \"Cyprus\", \"Czech Republic\", \"Denmark\", \"England\", \"Estonia\", \"Faroe Islands\",\n",
    "    \"Finland\", \"France\", \"Georgia\", \"Germany\", \"Gibraltar\", \"Greece\", \"Hungary\", \"Iceland\",\n",
    "    \"Israel\", \"Italy\", \"Kazakhstan\", \"Kosovo\", \"Latvia\", \"Liechtenstein\", \"Lithuania\", \"Luxembourg\",\n",
    "    \"Malta\", \"Moldova\", \"Montenegro\", \"Netherlands\", \"North Macedonia\", \"Northern Ireland\", \"Norway\",\n",
    "    \"Poland\", \"Portugal\", \"Republic of Ireland\", \"Romania\", \"Russia\", \"San Marino\", \"Scotland\", \"Serbia\",\n",
    "    \"Slovakia\", \"Slovenia\", \"Spain\", \"Sweden\", \"Switzerland\", \"Turkiye\", \"Ukraine\", \"Wales\"\n",
    "]\n"
   ]
  },
  {
   "cell_type": "code",
   "execution_count": 8,
   "metadata": {},
   "outputs": [
    {
     "name": "stdout",
     "output_type": "stream",
     "text": [
      "     Nr.         Country\n",
      "0      1     Afghanistan\n",
      "1      2         Albania\n",
      "2      3         Algeria\n",
      "3      4  American Samoa\n",
      "4      5         Andorra\n",
      "..   ...             ...\n",
      "205  206         Vietnam\n",
      "206  207           Wales\n",
      "207  208           Yemen\n",
      "208  209          Zambia\n",
      "209  210        Zimbabwe\n",
      "\n",
      "[210 rows x 2 columns]\n"
     ]
    }
   ],
   "source": [
    "import pandas as pd\n",
    "\n",
    "# Combine all country lists\n",
    "all_countries_MO = afc_countries + caf_countries + concacaf_countries + conmebol_countries + ofc_countries + uefa_countries\n",
    "\n",
    "# Sort the countries alphabetically\n",
    "all_countries_sorted = sorted(all_countries_MO)\n",
    "\n",
    "# Create a DataFrame\n",
    "FIFA = pd.DataFrame({\n",
    "    'Nr.': range(1, len(all_countries_sorted) + 1),\n",
    "    'Country': all_countries_sorted\n",
    "})\n",
    "\n",
    "print(FIFA)"
   ]
  },
  {
   "cell_type": "code",
   "execution_count": 9,
   "metadata": {},
   "outputs": [
    {
     "name": "stderr",
     "output_type": "stream",
     "text": [
      "<>:61: SyntaxWarning: invalid escape sequence '\\d'\n",
      "<>:61: SyntaxWarning: invalid escape sequence '\\d'\n",
      "/var/folders/l4/g8j3y_vx0pq5tl_95dwxp9hr0000gp/T/ipykernel_33954/29973502.py:61: SyntaxWarning: invalid escape sequence '\\d'\n",
      "  df['Rank'] = df['Rank'].str.extract('(\\d+)').astype(int)\n"
     ]
    },
    {
     "name": "stdout",
     "output_type": "stream",
     "text": [
      "Scraping page 1...\n",
      "Page 1 loaded successfully!\n",
      "Scraping page 2...\n",
      "Page 2 loaded successfully!\n",
      "Scraping page 3...\n",
      "Page 3 loaded successfully!\n",
      "Scraping page 4...\n",
      "Page 4 loaded successfully!\n",
      "Scraping page 5...\n",
      "Page 5 loaded successfully!\n",
      "Scraping page 6...\n",
      "Page 6 loaded successfully!\n",
      "Scraping page 7...\n",
      "Page 7 loaded successfully!\n",
      "Scraping page 8...\n",
      "Page 8 loaded successfully!\n",
      "Scraping page 9...\n",
      "Page 9 loaded successfully!\n",
      "Data types:\n",
      "Rank               int64\n",
      "Nation            object\n",
      "Squad Size          int8\n",
      "Avg Age          float64\n",
      "Total Value      float64\n",
      "Confederation     object\n",
      "Points             int16\n",
      "dtype: object\n",
      "Cleaned DataFrame:\n",
      "   Rank     Nation  Squad Size  Avg Age  Total Value Confederation  Points\n",
      "0     1  Argentina          25     27.5  716500000.0      CONMEBOL    1867\n",
      "1     2     France          23     26.8  978000000.0          UEFA    1860\n",
      "2     3      Spain          24     25.9  890000000.0          UEFA    1853\n",
      "3     4    England          23     25.4  995000000.0          UEFA    1814\n",
      "4     5     Brazil          23     27.0  921800000.0      CONMEBOL    1776\n"
     ]
    }
   ],
   "source": [
    "#importing our second dataset from Transfermarekt website through webscrappein\n",
    "import requests\n",
    "from bs4 import BeautifulSoup\n",
    "import pandas as pd\n",
    "import numpy as np\n",
    "\n",
    "# Base URL of the Transfermarkt rankings page\n",
    "url_base = \"https://www.transfermarkt.com/statistik/weltrangliste?page=\"\n",
    "\n",
    "# Set up headers to mimic a real browser request\n",
    "headers = {\n",
    "    'User-Agent': 'Mozilla/5.0 (Windows NT 10.0; Win64; x64) AppleWebKit/537.36 (KHTML, like Gecko) Chrome/91.0.4472.124 Safari/537.36'\n",
    "}\n",
    "\n",
    "# List to hold data from all pages\n",
    "all_data = []\n",
    "\n",
    "# Loop through pages 1 to 9 (since there are 9 pages in total)\n",
    "for page in range(1, 10):  # Scraping 9 pages\n",
    "    print(f\"Scraping page {page}...\")\n",
    "    \n",
    "    # Send a request to the webpage with the custom header\n",
    "    response = requests.get(url_base + str(page), headers=headers)\n",
    "    \n",
    "    # Check if the request was successful\n",
    "    if response.status_code == 200:\n",
    "        print(f\"Page {page} loaded successfully!\")\n",
    "        \n",
    "        # Parse the HTML content of the page\n",
    "        soup = BeautifulSoup(response.content, 'html.parser')\n",
    "        \n",
    "        # Find the table containing the rankings (this can be adjusted if the page structure changes)\n",
    "        table = soup.find('table', {'class': 'items'})  # Look for the table with class \"items\"\n",
    "        \n",
    "        # Extract the rows (data) of the table\n",
    "        rows = table.find_all('tr')[1:]  # Skip the header row\n",
    "        \n",
    "        # Loop through each row and extract the columns\n",
    "        for row in rows:\n",
    "            columns = row.find_all('td')\n",
    "            \n",
    "            # Extract the relevant data from each column and clean it\n",
    "            rank = columns[0].text.strip()\n",
    "            nation = columns[1].find('img')['alt'] if columns[1].find('img') else columns[1].text.strip()\n",
    "            squad_size = columns[2].text.strip()\n",
    "            avg_age = columns[3].text.strip()\n",
    "            total_value = columns[4].text.strip()\n",
    "            confederation = columns[5].text.strip()\n",
    "            points = columns[6].text.strip()\n",
    "            \n",
    "            # Add the data to the list\n",
    "            all_data.append([rank, nation, squad_size, avg_age, total_value, confederation, points])\n",
    "    else:\n",
    "        print(f\"Failed to retrieve page {page}. Status code: {response.status_code}\")\n",
    "\n",
    "# Create a pandas DataFrame from the extracted data with the correct headers\n",
    "headers = ['Rank', 'Nation', 'Squad Size', 'Avg Age', 'Total Value', 'Confederation', 'Points']\n",
    "df = pd.DataFrame(all_data, columns=headers)\n",
    "\n",
    "# Clean the \"Rank\" column: remove non-numeric characters (if any)\n",
    "df['Rank'] = df['Rank'].str.extract('(\\d+)').astype(int)\n",
    "\n",
    "# Convert \"Points\" to numeric (integer)\n",
    "df['Points'] = pd.to_numeric(df['Points'], errors='coerce', downcast='integer')\n",
    "\n",
    "# Convert \"Avg Age\" to float\n",
    "df['Avg Age'] = pd.to_numeric(df['Avg Age'], errors='coerce')\n",
    "\n",
    "# Clean \"Total Value\" column by removing non-numeric characters (€, commas, 'm', 'k', and 'b')\n",
    "def clean_total_value(value):\n",
    "    # If the value is '-', replace with NaN\n",
    "    if value == '-':\n",
    "        return np.nan\n",
    "    \n",
    "    # Remove commas, '€', and strip leading/trailing spaces\n",
    "    value = value.replace('€', '').replace(',', '').strip()\n",
    "    \n",
    "    # Handle 'm' for millions\n",
    "    if 'm' in value.lower():\n",
    "        value = value.replace('m', '').strip()\n",
    "        return float(value) * 1e6  # Convert to millions (multiply by 1,000,000)\n",
    "    \n",
    "    # Handle 'b' for billions\n",
    "    elif 'b' in value.lower():\n",
    "        value = value.replace('b', '').strip()\n",
    "        return float(value) * 1e9  # Convert to billions (multiply by 1,000,000,000)\n",
    "    \n",
    "    # Handle 'k' for thousands\n",
    "    elif 'k' in value.lower():\n",
    "        value = value.replace('k', '').strip()\n",
    "        return float(value) * 1e3  # Convert to thousands (multiply by 1,000)\n",
    "    \n",
    "    # Otherwise, return the value as is (if it's just a plain number)\n",
    "    return float(value)\n",
    "\n",
    "# Apply the function to clean the \"Total Value\" column\n",
    "df['Total Value'] = df['Total Value'].apply(clean_total_value)\n",
    "\n",
    "# Convert \"Squad Size\" to numeric (integer)\n",
    "df['Squad Size'] = pd.to_numeric(df['Squad Size'], errors='coerce', downcast='integer')\n",
    "\n",
    "# Convert \"Confederation\" to object (string), ensuring no unexpected values\n",
    "df['Confederation'] = df['Confederation'].astype(str)\n",
    "\n",
    "# Ensure that the correct data types are set\n",
    "print(f\"Data types:\\n{df.dtypes}\")\n",
    "\n",
    "# Display the cleaned DataFrame\n",
    "print(\"Cleaned DataFrame:\")\n",
    "print(df.head())\n",
    "\n",
    "# Save the cleaned DataFrame to a CSV file\n",
    "#df.to_csv('transfermarkt_rankings.csv', index=False)\n"
   ]
  },
  {
   "cell_type": "code",
   "execution_count": 10,
   "metadata": {},
   "outputs": [
    {
     "data": {
      "text/html": [
       "<div>\n",
       "<style scoped>\n",
       "    .dataframe tbody tr th:only-of-type {\n",
       "        vertical-align: middle;\n",
       "    }\n",
       "\n",
       "    .dataframe tbody tr th {\n",
       "        vertical-align: top;\n",
       "    }\n",
       "\n",
       "    .dataframe thead th {\n",
       "        text-align: right;\n",
       "    }\n",
       "</style>\n",
       "<table border=\"1\" class=\"dataframe\">\n",
       "  <thead>\n",
       "    <tr style=\"text-align: right;\">\n",
       "      <th></th>\n",
       "      <th>Rank</th>\n",
       "      <th>Nation</th>\n",
       "      <th>Squad Size</th>\n",
       "      <th>Avg Age</th>\n",
       "      <th>Total Value</th>\n",
       "      <th>Confederation</th>\n",
       "      <th>Points</th>\n",
       "    </tr>\n",
       "  </thead>\n",
       "  <tbody>\n",
       "    <tr>\n",
       "      <th>0</th>\n",
       "      <td>1</td>\n",
       "      <td>Argentina</td>\n",
       "      <td>25</td>\n",
       "      <td>27.5</td>\n",
       "      <td>716500000.0</td>\n",
       "      <td>CONMEBOL</td>\n",
       "      <td>1867</td>\n",
       "    </tr>\n",
       "    <tr>\n",
       "      <th>1</th>\n",
       "      <td>2</td>\n",
       "      <td>France</td>\n",
       "      <td>23</td>\n",
       "      <td>26.8</td>\n",
       "      <td>978000000.0</td>\n",
       "      <td>UEFA</td>\n",
       "      <td>1860</td>\n",
       "    </tr>\n",
       "    <tr>\n",
       "      <th>2</th>\n",
       "      <td>3</td>\n",
       "      <td>Spain</td>\n",
       "      <td>24</td>\n",
       "      <td>25.9</td>\n",
       "      <td>890000000.0</td>\n",
       "      <td>UEFA</td>\n",
       "      <td>1853</td>\n",
       "    </tr>\n",
       "    <tr>\n",
       "      <th>3</th>\n",
       "      <td>4</td>\n",
       "      <td>England</td>\n",
       "      <td>23</td>\n",
       "      <td>25.4</td>\n",
       "      <td>995000000.0</td>\n",
       "      <td>UEFA</td>\n",
       "      <td>1814</td>\n",
       "    </tr>\n",
       "    <tr>\n",
       "      <th>4</th>\n",
       "      <td>5</td>\n",
       "      <td>Brazil</td>\n",
       "      <td>23</td>\n",
       "      <td>27.0</td>\n",
       "      <td>921800000.0</td>\n",
       "      <td>CONMEBOL</td>\n",
       "      <td>1776</td>\n",
       "    </tr>\n",
       "  </tbody>\n",
       "</table>\n",
       "</div>"
      ],
      "text/plain": [
       "   Rank     Nation  Squad Size  Avg Age  Total Value Confederation  Points\n",
       "0     1  Argentina          25     27.5  716500000.0      CONMEBOL    1867\n",
       "1     2     France          23     26.8  978000000.0          UEFA    1860\n",
       "2     3      Spain          24     25.9  890000000.0          UEFA    1853\n",
       "3     4    England          23     25.4  995000000.0          UEFA    1814\n",
       "4     5     Brazil          23     27.0  921800000.0      CONMEBOL    1776"
      ]
     },
     "execution_count": 10,
     "metadata": {},
     "output_type": "execute_result"
    }
   ],
   "source": [
    "df.head()"
   ]
  },
  {
   "cell_type": "code",
   "execution_count": 11,
   "metadata": {},
   "outputs": [
    {
     "data": {
      "image/png": "[encoded data removed]",
      "text/plain": [
       "<Figure size 800x600 with 2 Axes>"
      ]
     },
     "metadata": {},
     "output_type": "display_data"
    }
   ],
   "source": [
    "import pandas as pd\n",
    "import seaborn as sns\n",
    "import matplotlib.pyplot as plt\n",
    "\n",
    "# Sample dataset (Replace this with your actual dataset)\n",
    "#data = pd.read_csv(\"your_dataset.csv\")  # Load your dataset\n",
    "\n",
    "# Selecting numerical columns for correlation (excluding categorical variables like Nation, Confederation)\n",
    "num_columns = [\"Rank\", \"Squad Size\", \"Avg Age\", \"Total Value\", \"Points\"]\n",
    "df_numeric = df[num_columns]\n",
    "\n",
    "# Compute the correlation matrix\n",
    "corr_matrix = df_numeric.corr()\n",
    "\n",
    "# Plot the heatmap\n",
    "plt.figure(figsize=(8,6))\n",
    "sns.heatmap(corr_matrix, annot=True, cmap=\"coolwarm\", fmt=\".2f\", linewidths=0.5)\n",
    "plt.title(\"Correlation Heatmap of Variables\")\n",
    "plt.show()\n"
   ]
  },
  {
   "cell_type": "code",
   "execution_count": 25,
   "metadata": {},
   "outputs": [],
   "source": [
    "#remoing the columns that we dont need!\n",
    "transfer_market_25 = df.drop(columns=['Squad Size', 'Avg Age','Total Value'])"
   ]
  },
  {
   "cell_type": "code",
   "execution_count": 27,
   "metadata": {},
   "outputs": [
    {
     "data": {
      "text/html": [
       "<div>\n",
       "<style scoped>\n",
       "    .dataframe tbody tr th:only-of-type {\n",
       "        vertical-align: middle;\n",
       "    }\n",
       "\n",
       "    .dataframe tbody tr th {\n",
       "        vertical-align: top;\n",
       "    }\n",
       "\n",
       "    .dataframe thead th {\n",
       "        text-align: right;\n",
       "    }\n",
       "</style>\n",
       "<table border=\"1\" class=\"dataframe\">\n",
       "  <thead>\n",
       "    <tr style=\"text-align: right;\">\n",
       "      <th></th>\n",
       "      <th>Rank</th>\n",
       "      <th>Nation</th>\n",
       "      <th>Confederation</th>\n",
       "      <th>Points</th>\n",
       "    </tr>\n",
       "  </thead>\n",
       "  <tbody>\n",
       "    <tr>\n",
       "      <th>0</th>\n",
       "      <td>1</td>\n",
       "      <td>Argentina</td>\n",
       "      <td>CONMEBOL</td>\n",
       "      <td>1867</td>\n",
       "    </tr>\n",
       "    <tr>\n",
       "      <th>1</th>\n",
       "      <td>2</td>\n",
       "      <td>France</td>\n",
       "      <td>UEFA</td>\n",
       "      <td>1860</td>\n",
       "    </tr>\n",
       "    <tr>\n",
       "      <th>2</th>\n",
       "      <td>3</td>\n",
       "      <td>Spain</td>\n",
       "      <td>UEFA</td>\n",
       "      <td>1853</td>\n",
       "    </tr>\n",
       "    <tr>\n",
       "      <th>3</th>\n",
       "      <td>4</td>\n",
       "      <td>England</td>\n",
       "      <td>UEFA</td>\n",
       "      <td>1814</td>\n",
       "    </tr>\n",
       "    <tr>\n",
       "      <th>4</th>\n",
       "      <td>5</td>\n",
       "      <td>Brazil</td>\n",
       "      <td>CONMEBOL</td>\n",
       "      <td>1776</td>\n",
       "    </tr>\n",
       "    <tr>\n",
       "      <th>...</th>\n",
       "      <td>...</td>\n",
       "      <td>...</td>\n",
       "      <td>...</td>\n",
       "      <td>...</td>\n",
       "    </tr>\n",
       "    <tr>\n",
       "      <th>205</th>\n",
       "      <td>206</td>\n",
       "      <td>Turks and Caicos Islands</td>\n",
       "      <td>CONCACAF</td>\n",
       "      <td>804</td>\n",
       "    </tr>\n",
       "    <tr>\n",
       "      <th>206</th>\n",
       "      <td>207</td>\n",
       "      <td>British Virgin Islands</td>\n",
       "      <td>CONCACAF</td>\n",
       "      <td>780</td>\n",
       "    </tr>\n",
       "    <tr>\n",
       "      <th>207</th>\n",
       "      <td>208</td>\n",
       "      <td>United States Virgin Islands</td>\n",
       "      <td>CONCACAF</td>\n",
       "      <td>780</td>\n",
       "    </tr>\n",
       "    <tr>\n",
       "      <th>208</th>\n",
       "      <td>209</td>\n",
       "      <td>Anguilla</td>\n",
       "      <td>CONCACAF</td>\n",
       "      <td>769</td>\n",
       "    </tr>\n",
       "    <tr>\n",
       "      <th>209</th>\n",
       "      <td>210</td>\n",
       "      <td>San Marino</td>\n",
       "      <td>UEFA</td>\n",
       "      <td>747</td>\n",
       "    </tr>\n",
       "  </tbody>\n",
       "</table>\n",
       "<p>210 rows × 4 columns</p>\n",
       "</div>"
      ],
      "text/plain": [
       "     Rank                        Nation Confederation  Points\n",
       "0       1                     Argentina      CONMEBOL    1867\n",
       "1       2                        France          UEFA    1860\n",
       "2       3                         Spain          UEFA    1853\n",
       "3       4                       England          UEFA    1814\n",
       "4       5                        Brazil      CONMEBOL    1776\n",
       "..    ...                           ...           ...     ...\n",
       "205   206      Turks and Caicos Islands      CONCACAF     804\n",
       "206   207        British Virgin Islands      CONCACAF     780\n",
       "207   208  United States Virgin Islands      CONCACAF     780\n",
       "208   209                      Anguilla      CONCACAF     769\n",
       "209   210                    San Marino          UEFA     747\n",
       "\n",
       "[210 rows x 4 columns]"
      ]
     },
     "execution_count": 27,
     "metadata": {},
     "output_type": "execute_result"
    }
   ],
   "source": [
    "transfer_market_25"
   ]
  },
  {
   "cell_type": "code",
   "execution_count": 29,
   "metadata": {},
   "outputs": [
    {
     "data": {
      "text/plain": [
       "Rank             210\n",
       "Nation           210\n",
       "Confederation      6\n",
       "Points           193\n",
       "dtype: int64"
      ]
     },
     "execution_count": 29,
     "metadata": {},
     "output_type": "execute_result"
    }
   ],
   "source": [
    "transfer_market_25.nunique()"
   ]
  },
  {
   "cell_type": "code",
   "execution_count": 31,
   "metadata": {},
   "outputs": [
    {
     "name": "stdout",
     "output_type": "stream",
     "text": [
      "           Nation  Pro    All\n",
      "0     Afghanistan  NON    NON\n",
      "1         Albania  NaN  17500\n",
      "2         Algeria  NON    NON\n",
      "3  American Samoa  NON    NON\n",
      "4         Andorra  NON    NON\n"
     ]
    }
   ],
   "source": [
    "import pandas as pd\n",
    "\n",
    "\n",
    "# Read the FIFA.csv file into a DataFrame\n",
    "fifa_TP = pd.read_excel('123.xlsx')\n",
    "\n",
    "# Display the first few rows of the DataFrame\n",
    "print(fifa_TP.head())\n"
   ]
  },
  {
   "cell_type": "code",
   "execution_count": 33,
   "metadata": {},
   "outputs": [
    {
     "name": "stdout",
     "output_type": "stream",
     "text": [
      "     Rank                        Nation Confederation  Points          Nation  \\\n",
      "0       1                     Argentina      CONMEBOL    1867     Afghanistan   \n",
      "1       2                        France          UEFA    1860         Albania   \n",
      "2       3                         Spain          UEFA    1853         Algeria   \n",
      "3       4                       England          UEFA    1814  American Samoa   \n",
      "4       5                        Brazil      CONMEBOL    1776         Andorra   \n",
      "..    ...                           ...           ...     ...             ...   \n",
      "205   206      Turks and Caicos Islands      CONCACAF     804         Somalia   \n",
      "206   207        British Virgin Islands      CONCACAF     780        Tanzania   \n",
      "207   208  United States Virgin Islands      CONCACAF     780    Turkmenistan   \n",
      "208   209                      Anguilla      CONCACAF     769       Venezuela   \n",
      "209   210                    San Marino          UEFA     747             NaN   \n",
      "\n",
      "     Pro    All  \n",
      "0    NON    NON  \n",
      "1    NaN  17500  \n",
      "2    NON    NON  \n",
      "3    NON    NON  \n",
      "4    NON    NON  \n",
      "..   ...    ...  \n",
      "205  NON    NON  \n",
      "206  NON    NON  \n",
      "207  NON    NON  \n",
      "208  NON    NON  \n",
      "209  NaN    NaN  \n",
      "\n",
      "[210 rows x 7 columns]\n"
     ]
    }
   ],
   "source": [
    "# Combine the two data frames next to each other\n",
    "combined_df = pd.concat([transfer_market_25, fifa_TP], axis=1)\n",
    "\n",
    "# Display the combined data frame\n",
    "print(combined_df)"
   ]
  },
  {
   "cell_type": "code",
   "execution_count": 35,
   "metadata": {},
   "outputs": [
    {
     "name": "stdout",
     "output_type": "stream",
     "text": [
      "             Nation  Pro    All  Rank Confederation  Points\n",
      "0       Afghanistan  NON    NON   156           AFC    1025\n",
      "1           Albania  NaN  17500    65          UEFA    1376\n",
      "2           Algeria  NON    NON    37           CAF    1496\n",
      "3    American Samoa  NON    NON   187           OFC     883\n",
      "4           Andorra  NON    NON   171          UEFA     972\n",
      "..              ...  ...    ...   ...           ...     ...\n",
      "204     Puerto Rico  NON    NON   157      CONCACAF    1023\n",
      "205         Somalia  NON    NON   202           CAF     830\n",
      "206        Tanzania  NON    NON   106           CAF    1199\n",
      "207    Turkmenistan  NON    NON   143           AFC    1065\n",
      "208       Venezuela  NON    NON    47      CONMEBOL    1476\n",
      "\n",
      "[209 rows x 6 columns]\n"
     ]
    }
   ],
   "source": [
    "# Combine the two data frames on the 'Nation' column\n",
    "combined_df = pd.merge(fifa_TP, transfer_market_25, on='Nation', how='inner')\n",
    "\n",
    "# Display the combined data frame\n",
    "print(combined_df)"
   ]
  },
  {
   "cell_type": "code",
   "execution_count": 37,
   "metadata": {},
   "outputs": [
    {
     "name": "stdout",
     "output_type": "stream",
     "text": [
      "                           Nation   Pro       All  Rank Confederation  Points\n",
      "8                       Argentina   NaN   4928574     1      CONMEBOL    1867\n",
      "68                         France  4000   2200000     2          UEFA    1860\n",
      "173                         Spain  8560   4107300     3          UEFA    1853\n",
      "60                        England  5582  11800000     4          UEFA    1814\n",
      "27                         Brazil   NaN   2000000     5      CONMEBOL    1776\n",
      "..                            ...   ...       ...   ...           ...     ...\n",
      "190      Turks and Caicos Islands   NON       NON   206      CONCACAF     804\n",
      "28         British Virgin Islands   NON       NON   207      CONCACAF     780\n",
      "195  United States Virgin Islands   NaN       NaN   208      CONCACAF     780\n",
      "6                        Anguilla   NON       NON   209      CONCACAF     769\n",
      "160                    San Marino   NON       NON   210          UEFA     747\n",
      "\n",
      "[209 rows x 6 columns]\n"
     ]
    }
   ],
   "source": [
    "combined_df_sorted = combined_df.sort_values(by='Rank')\n",
    "print(combined_df_sorted)"
   ]
  },
  {
   "cell_type": "code",
   "execution_count": null,
   "metadata": {},
   "outputs": [],
   "source": []
  },
  {
   "cell_type": "code",
   "execution_count": 40,
   "metadata": {},
   "outputs": [
    {
     "name": "stdout",
     "output_type": "stream",
     "text": [
      "           Country  2024 Population\n",
      "0            India       1450940000\n",
      "1            China       1419320000\n",
      "2    United States        345427000\n",
      "3        Indonesia        283488000\n",
      "4         Pakistan        251269000\n",
      "..             ...              ...\n",
      "216      Gibraltar            39329\n",
      "219     San Marino            33581\n",
      "222       Anguilla            14598\n",
      "223   Cook Islands            13729\n",
      "229     Montserrat             4389\n",
      "\n",
      "[192 rows x 2 columns]\n"
     ]
    },
    {
     "name": "stderr",
     "output_type": "stream",
     "text": [
      "/var/folders/l4/g8j3y_vx0pq5tl_95dwxp9hr0000gp/T/ipykernel_33954/3115633898.py:46: FutureWarning: Passing literal html to 'read_html' is deprecated and will be removed in a future version. To read from a literal string, wrap it in a 'StringIO' object.\n",
      "  tables = pd.read_html(response.text)\n"
     ]
    }
   ],
   "source": [
    "import requests\n",
    "import pandas as pd\n",
    "# List of countries you’re interested in\n",
    "countries = [\"Afghanistan\", \"Albania\", \"Algeria\", \"American Samoa\", \"Andorra\", \"Angola\",\n",
    " \"Anguilla\", \"Antigua and Barbuda\", \"Argentina\", \"Armenia\", \"Aruba\", \"Australia\",\n",
    " \"Austria\", \"Azerbaijan\", \"Bahamas\", \"Bahrain\", \"Bangladesh\", \"Barbados\",\n",
    " \"Belarus\", \"Belgium\", \"Belize\", \"Benin\", \"Bermuda\", \"Bhutan\", \"Bolivia\",\n",
    " \"Bosnia-Herzegovina\", \"Botswana\", \"Brazil\", \"British Virgin Islands\",\n",
    " \"Brunei Darussalam\", \"Bulgaria\", \"Burkina Faso\", \"Burundi\", \"Cambodia\",\n",
    " \"Cameroon\", \"Canada\", \"Cape Verde\", \"Cayman Islands\", \"Central African Republic\",\n",
    " \"Chad\", \"Chile\", \"China\", \"Chinese Taipei\", \"Colombia\", \"Comoros\",\n",
    " \"Republic of the Congo\", \"Democratic Republic of the Congo\", \"Cook Islands\",\n",
    " \"Costa Rica\", \"Croatia\", \"Cuba\", \"Curaçao\", \"Cyprus\", \"Czech Republic\",\n",
    " \"Denmark\", \"Djibouti\", \"Dominican Republic\", \"Ecuador\", \"Egypt\", \"El Salvador\",\n",
    " \"England\", \"Equatorial Guinea\", \"Estonia\", \"Eswatini\", \"Ethiopia\", \"Faroe Islands\",\n",
    " \"Fiji\", \"Finland\", \"France\", \"Gabon\", \"The Gambia\", \"Georgia\", \"Germany\",\n",
    " \"Ghana\", \"Gibraltar\", \"Greece\", \"Grenada\", \"Guam\", \"Guatemala\", \"Guinea\",\n",
    " \"Guinea-Bissau\", \"Guyana\", \"Haiti\", \"Honduras\", \"Hong Kong\", \"Hungary\", \"Iran\",\n",
    " \"Iceland\", \"India\", \"Indonesia\", \"Iraq\", \"Republic of Ireland\", \"Israel\", \"Italy\",\n",
    " \"Ivory Coast\", \"Jamaica\", \"Japan\", \"Jordan\", \"Kazakhstan\", \"Kenya\", \"North Korea\",\n",
    " \"South Korea\", \"Kosovo\", \"Kuwait\", \"Kyrgyzstan\", \"Laos\", \"Latvia\", \"Lebanon\",\n",
    " \"Lesotho\", \"Liberia\", \"Libya\", \"Liechtenstein\", \"Lithuania\", \"Luxembourg\", \"Macau\",\n",
    " \"Madagascar\", \"Malawi\", \"Malaysia\", \"Maldives\", \"Mali\", \"Malta\", \"Mauritania\",\n",
    " \"Mauritius\", \"Mexico\", \"Moldova\", \"Mongolia\", \"Montenegro\", \"Montserrat\",\n",
    " \"Morocco\", \"Mozambique\", \"Myanmar\", \"Namibia\", \"Nepal\", \"Netherlands\",\n",
    " \"New Caledonia\", \"New Zealand\", \"Nicaragua\", \"Niger\", \"Nigeria\", \"North Macedonia\",\n",
    " \"Northern Ireland\", \"Norway\", \"Oman\", \"Pakistan\", \"Palestine\", \"Panama\",\n",
    " \"Papua New Guinea\", \"Paraguay\", \"Peru\", \"Philippines\", \"Poland\", \"Portugal\",\n",
    " \"Qatar\", \"Romania\", \"Russia\", \"Rwanda\", \"Saint Kitts and Nevis\", \"Saint Lucia\",\n",
    " \"Saint Vincent and the Grenadines\", \"Samoa\", \"San Marino\", \"Saudi Arabia\",\n",
    " \"Scotland\", \"Senegal\", \"Serbia\", \"Seychelles\", \"Sierra Leone\", \"Singapore\",\n",
    " \"Slovakia\", \"Slovenia\", \"Solomon Islands\", \"South Africa\", \"South Sudan\", \"Spain\",\n",
    " \"Sri Lanka\", \"Sudan\", \"Suriname\", \"Sweden\", \"Switzerland\", \"Syria\",\n",
    " \"São Tomé and Príncipe\", \"Tahiti\", \"Tajikistan\", \"Thailand\", \"Timor-Leste\", \"Togo\",\n",
    " \"Tonga\", \"Trinidad and Tobago\", \"Tunisia\", \"Turkiye\", \"Turks and Caicos Islands\",\n",
    " \"Uganda\", \"Ukraine\", \"United Arab Emirates\", \"United States\", \"United States Virgin Islands\",\n",
    " \"Uruguay\", \"Uzbekistan\", \"Vanuatu\", \"Vietnam\", \"Wales\", \"Yemen\", \"Zambia\", \"Zimbabwe\",\n",
    " \"Puerto Rico\", \"Somalia\", \"Tanzania\", \"Turkmenistan\", \"Venezuela\"]\n",
    "\n",
    "# Base URL for World Population Review\n",
    "base_url = \"https://worldpopulationreview.com/\"\n",
    "# Fetch the population data\n",
    "response = requests.get(base_url)\n",
    "if response.status_code == 200:\n",
    "    # Parse the data into a DataFrame\n",
    "    tables = pd.read_html(response.text)\n",
    "    # The first table contains the population data\n",
    "    population_df = tables[0]\n",
    "    # Filter the DataFrame for the countries of interest\n",
    "    filtered_df = population_df[population_df['Country'].isin(countries)]\n",
    "    # Display only the 'Country' and '2024 Population' columns\n",
    "    result_df = filtered_df[['Country', '2024 Population']]\n",
    "    # result_df = result_df.sort_values(by=\"Country\", ascending=True)\n",
    "    # Display the result\n",
    "    print(result_df)\n",
    "else:\n",
    "    print(\"Failed to retrieve data.\")"
   ]
  },
  {
   "cell_type": "code",
   "execution_count": 42,
   "metadata": {},
   "outputs": [
    {
     "data": {
      "text/html": [
       "<div>\n",
       "<style scoped>\n",
       "    .dataframe tbody tr th:only-of-type {\n",
       "        vertical-align: middle;\n",
       "    }\n",
       "\n",
       "    .dataframe tbody tr th {\n",
       "        vertical-align: top;\n",
       "    }\n",
       "\n",
       "    .dataframe thead th {\n",
       "        text-align: right;\n",
       "    }\n",
       "</style>\n",
       "<table border=\"1\" class=\"dataframe\">\n",
       "  <thead>\n",
       "    <tr style=\"text-align: right;\">\n",
       "      <th></th>\n",
       "      <th>Country</th>\n",
       "      <th>2024 Population</th>\n",
       "    </tr>\n",
       "  </thead>\n",
       "  <tbody>\n",
       "    <tr>\n",
       "      <th>35</th>\n",
       "      <td>Afghanistan</td>\n",
       "      <td>42647500</td>\n",
       "    </tr>\n",
       "    <tr>\n",
       "      <th>142</th>\n",
       "      <td>Albania</td>\n",
       "      <td>2791760</td>\n",
       "    </tr>\n",
       "    <tr>\n",
       "      <th>32</th>\n",
       "      <td>Algeria</td>\n",
       "      <td>46814300</td>\n",
       "    </tr>\n",
       "    <tr>\n",
       "      <th>210</th>\n",
       "      <td>American Samoa</td>\n",
       "      <td>46765</td>\n",
       "    </tr>\n",
       "    <tr>\n",
       "      <th>202</th>\n",
       "      <td>Andorra</td>\n",
       "      <td>81938</td>\n",
       "    </tr>\n",
       "    <tr>\n",
       "      <th>...</th>\n",
       "      <td>...</td>\n",
       "      <td>...</td>\n",
       "    </tr>\n",
       "    <tr>\n",
       "      <th>52</th>\n",
       "      <td>Venezuela</td>\n",
       "      <td>28405500</td>\n",
       "    </tr>\n",
       "    <tr>\n",
       "      <th>15</th>\n",
       "      <td>Vietnam</td>\n",
       "      <td>100988000</td>\n",
       "    </tr>\n",
       "    <tr>\n",
       "      <th>36</th>\n",
       "      <td>Yemen</td>\n",
       "      <td>40583200</td>\n",
       "    </tr>\n",
       "    <tr>\n",
       "      <th>62</th>\n",
       "      <td>Zambia</td>\n",
       "      <td>21315000</td>\n",
       "    </tr>\n",
       "    <tr>\n",
       "      <th>73</th>\n",
       "      <td>Zimbabwe</td>\n",
       "      <td>16634400</td>\n",
       "    </tr>\n",
       "  </tbody>\n",
       "</table>\n",
       "<p>192 rows × 2 columns</p>\n",
       "</div>"
      ],
      "text/plain": [
       "            Country  2024 Population\n",
       "35      Afghanistan         42647500\n",
       "142         Albania          2791760\n",
       "32          Algeria         46814300\n",
       "210  American Samoa            46765\n",
       "202         Andorra            81938\n",
       "..              ...              ...\n",
       "52        Venezuela         28405500\n",
       "15          Vietnam        100988000\n",
       "36            Yemen         40583200\n",
       "62           Zambia         21315000\n",
       "73         Zimbabwe         16634400\n",
       "\n",
       "[192 rows x 2 columns]"
      ]
     },
     "execution_count": 42,
     "metadata": {},
     "output_type": "execute_result"
    }
   ],
   "source": [
    "result_df = result_df.sort_values(by=\"Country\", ascending=True)\n",
    "result_df"
   ]
  },
  {
   "cell_type": "code",
   "execution_count": 44,
   "metadata": {},
   "outputs": [],
   "source": [
    "result_df.rename(columns={\"Country\": \"Nation\"}, inplace=True)"
   ]
  },
  {
   "cell_type": "code",
   "execution_count": 46,
   "metadata": {},
   "outputs": [
    {
     "name": "stdout",
     "output_type": "stream",
     "text": [
      "                           Nation   Pro      All  Rank Confederation  Points  \\\n",
      "0                       Argentina   NaN  4928574     1      CONMEBOL    1867   \n",
      "1                          France  4000  2200000     2          UEFA    1860   \n",
      "2                           Spain  8560  4107300     3          UEFA    1853   \n",
      "3                          Brazil   NaN  2000000     5      CONMEBOL    1776   \n",
      "4                        Portugal   NaN   195330     6          UEFA    1756   \n",
      "..                            ...   ...      ...   ...           ...     ...   \n",
      "187      Turks and Caicos Islands   NON      NON   206      CONCACAF     804   \n",
      "188        British Virgin Islands   NON      NON   207      CONCACAF     780   \n",
      "189  United States Virgin Islands   NaN      NaN   208      CONCACAF     780   \n",
      "190                      Anguilla   NON      NON   209      CONCACAF     769   \n",
      "191                    San Marino   NON      NON   210          UEFA     747   \n",
      "\n",
      "     2024 Population  \n",
      "0           45696200  \n",
      "1           66548500  \n",
      "2           47910500  \n",
      "3          211999000  \n",
      "4           10425300  \n",
      "..               ...  \n",
      "187            46535  \n",
      "188            39471  \n",
      "189            84905  \n",
      "190            14598  \n",
      "191            33581  \n",
      "\n",
      "[192 rows x 7 columns]\n"
     ]
    }
   ],
   "source": [
    "# Combine the two data frames on the 'Nation' column\n",
    "final_combined_df = pd.merge(combined_df_sorted, result_df, on='Nation', how='inner')\n",
    "\n",
    "# Display the combined data frame\n",
    "print(final_combined_df)"
   ]
  },
  {
   "cell_type": "code",
   "execution_count": 48,
   "metadata": {},
   "outputs": [],
   "source": [
    "FIFA_main = final_combined_df"
   ]
  },
  {
   "cell_type": "code",
   "execution_count": 50,
   "metadata": {},
   "outputs": [
    {
     "data": {
      "text/html": [
       "<div>\n",
       "<style scoped>\n",
       "    .dataframe tbody tr th:only-of-type {\n",
       "        vertical-align: middle;\n",
       "    }\n",
       "\n",
       "    .dataframe tbody tr th {\n",
       "        vertical-align: top;\n",
       "    }\n",
       "\n",
       "    .dataframe thead th {\n",
       "        text-align: right;\n",
       "    }\n",
       "</style>\n",
       "<table border=\"1\" class=\"dataframe\">\n",
       "  <thead>\n",
       "    <tr style=\"text-align: right;\">\n",
       "      <th></th>\n",
       "      <th>Nation</th>\n",
       "      <th>Pro</th>\n",
       "      <th>All</th>\n",
       "      <th>Rank</th>\n",
       "      <th>Confederation</th>\n",
       "      <th>Points</th>\n",
       "      <th>2024 Population</th>\n",
       "    </tr>\n",
       "  </thead>\n",
       "  <tbody>\n",
       "    <tr>\n",
       "      <th>0</th>\n",
       "      <td>Argentina</td>\n",
       "      <td>NaN</td>\n",
       "      <td>4928574</td>\n",
       "      <td>1</td>\n",
       "      <td>CONMEBOL</td>\n",
       "      <td>1867</td>\n",
       "      <td>45696200</td>\n",
       "    </tr>\n",
       "    <tr>\n",
       "      <th>1</th>\n",
       "      <td>France</td>\n",
       "      <td>4000</td>\n",
       "      <td>2200000</td>\n",
       "      <td>2</td>\n",
       "      <td>UEFA</td>\n",
       "      <td>1860</td>\n",
       "      <td>66548500</td>\n",
       "    </tr>\n",
       "    <tr>\n",
       "      <th>2</th>\n",
       "      <td>Spain</td>\n",
       "      <td>8560</td>\n",
       "      <td>4107300</td>\n",
       "      <td>3</td>\n",
       "      <td>UEFA</td>\n",
       "      <td>1853</td>\n",
       "      <td>47910500</td>\n",
       "    </tr>\n",
       "    <tr>\n",
       "      <th>3</th>\n",
       "      <td>Brazil</td>\n",
       "      <td>NaN</td>\n",
       "      <td>2000000</td>\n",
       "      <td>5</td>\n",
       "      <td>CONMEBOL</td>\n",
       "      <td>1776</td>\n",
       "      <td>211999000</td>\n",
       "    </tr>\n",
       "    <tr>\n",
       "      <th>4</th>\n",
       "      <td>Portugal</td>\n",
       "      <td>NaN</td>\n",
       "      <td>195330</td>\n",
       "      <td>6</td>\n",
       "      <td>UEFA</td>\n",
       "      <td>1756</td>\n",
       "      <td>10425300</td>\n",
       "    </tr>\n",
       "  </tbody>\n",
       "</table>\n",
       "</div>"
      ],
      "text/plain": [
       "      Nation   Pro      All  Rank Confederation  Points  2024 Population\n",
       "0  Argentina   NaN  4928574     1      CONMEBOL    1867         45696200\n",
       "1     France  4000  2200000     2          UEFA    1860         66548500\n",
       "2      Spain  8560  4107300     3          UEFA    1853         47910500\n",
       "3     Brazil   NaN  2000000     5      CONMEBOL    1776        211999000\n",
       "4   Portugal   NaN   195330     6          UEFA    1756         10425300"
      ]
     },
     "execution_count": 50,
     "metadata": {},
     "output_type": "execute_result"
    }
   ],
   "source": [
    "FIFA_main.head()"
   ]
  },
  {
   "cell_type": "code",
   "execution_count": 52,
   "metadata": {},
   "outputs": [
    {
     "ename": "KeyError",
     "evalue": "\"['All Players', 'Player to Population Ratio (%)', 'Pro to All ratio (%)'] not in index\"",
     "output_type": "error",
     "traceback": [
      "\u001b[0;31m---------------------------------------------------------------------------\u001b[0m",
      "\u001b[0;31mKeyError\u001b[0m                                  Traceback (most recent call last)",
      "Cell \u001b[0;32mIn[52], line 7\u001b[0m\n\u001b[1;32m      5\u001b[0m \u001b[38;5;66;03m# Correlation heatmap\u001b[39;00m\n\u001b[1;32m      6\u001b[0m plt\u001b[38;5;241m.\u001b[39mfigure(figsize\u001b[38;5;241m=\u001b[39m(\u001b[38;5;241m10\u001b[39m,\u001b[38;5;241m6\u001b[39m))\n\u001b[0;32m----> 7\u001b[0m sns\u001b[38;5;241m.\u001b[39mheatmap(FIFA_main[[\u001b[38;5;124m\"\u001b[39m\u001b[38;5;124mRank\u001b[39m\u001b[38;5;124m\"\u001b[39m, \u001b[38;5;124m\"\u001b[39m\u001b[38;5;124m2024 Population\u001b[39m\u001b[38;5;124m\"\u001b[39m, \u001b[38;5;124m\"\u001b[39m\u001b[38;5;124mAll Players\u001b[39m\u001b[38;5;124m\"\u001b[39m, \u001b[38;5;124m\"\u001b[39m\u001b[38;5;124mPlayer to Population Ratio (\u001b[39m\u001b[38;5;124m%\u001b[39m\u001b[38;5;124m)\u001b[39m\u001b[38;5;124m\"\u001b[39m, \u001b[38;5;124m\"\u001b[39m\u001b[38;5;124mPro to All ratio (\u001b[39m\u001b[38;5;124m%\u001b[39m\u001b[38;5;124m)\u001b[39m\u001b[38;5;124m\"\u001b[39m]]\u001b[38;5;241m.\u001b[39mcorr(), annot\u001b[38;5;241m=\u001b[39m\u001b[38;5;28;01mTrue\u001b[39;00m, cmap\u001b[38;5;241m=\u001b[39m\u001b[38;5;124m\"\u001b[39m\u001b[38;5;124mcoolwarm\u001b[39m\u001b[38;5;124m\"\u001b[39m, fmt\u001b[38;5;241m=\u001b[39m\u001b[38;5;124m\"\u001b[39m\u001b[38;5;124m.2f\u001b[39m\u001b[38;5;124m\"\u001b[39m)\n\u001b[1;32m      8\u001b[0m plt\u001b[38;5;241m.\u001b[39mtitle(\u001b[38;5;124m\"\u001b[39m\u001b[38;5;124mCorrelation Heatmap\u001b[39m\u001b[38;5;124m\"\u001b[39m)\n\u001b[1;32m      9\u001b[0m plt\u001b[38;5;241m.\u001b[39mshow()\n",
      "File \u001b[0;32m/opt/anaconda3/lib/python3.12/site-packages/pandas/core/frame.py:4108\u001b[0m, in \u001b[0;36mDataFrame.__getitem__\u001b[0;34m(self, key)\u001b[0m\n\u001b[1;32m   4106\u001b[0m     \u001b[38;5;28;01mif\u001b[39;00m is_iterator(key):\n\u001b[1;32m   4107\u001b[0m         key \u001b[38;5;241m=\u001b[39m \u001b[38;5;28mlist\u001b[39m(key)\n\u001b[0;32m-> 4108\u001b[0m     indexer \u001b[38;5;241m=\u001b[39m \u001b[38;5;28mself\u001b[39m\u001b[38;5;241m.\u001b[39mcolumns\u001b[38;5;241m.\u001b[39m_get_indexer_strict(key, \u001b[38;5;124m\"\u001b[39m\u001b[38;5;124mcolumns\u001b[39m\u001b[38;5;124m\"\u001b[39m)[\u001b[38;5;241m1\u001b[39m]\n\u001b[1;32m   4110\u001b[0m \u001b[38;5;66;03m# take() does not accept boolean indexers\u001b[39;00m\n\u001b[1;32m   4111\u001b[0m \u001b[38;5;28;01mif\u001b[39;00m \u001b[38;5;28mgetattr\u001b[39m(indexer, \u001b[38;5;124m\"\u001b[39m\u001b[38;5;124mdtype\u001b[39m\u001b[38;5;124m\"\u001b[39m, \u001b[38;5;28;01mNone\u001b[39;00m) \u001b[38;5;241m==\u001b[39m \u001b[38;5;28mbool\u001b[39m:\n",
      "File \u001b[0;32m/opt/anaconda3/lib/python3.12/site-packages/pandas/core/indexes/base.py:6200\u001b[0m, in \u001b[0;36mIndex._get_indexer_strict\u001b[0;34m(self, key, axis_name)\u001b[0m\n\u001b[1;32m   6197\u001b[0m \u001b[38;5;28;01melse\u001b[39;00m:\n\u001b[1;32m   6198\u001b[0m     keyarr, indexer, new_indexer \u001b[38;5;241m=\u001b[39m \u001b[38;5;28mself\u001b[39m\u001b[38;5;241m.\u001b[39m_reindex_non_unique(keyarr)\n\u001b[0;32m-> 6200\u001b[0m \u001b[38;5;28mself\u001b[39m\u001b[38;5;241m.\u001b[39m_raise_if_missing(keyarr, indexer, axis_name)\n\u001b[1;32m   6202\u001b[0m keyarr \u001b[38;5;241m=\u001b[39m \u001b[38;5;28mself\u001b[39m\u001b[38;5;241m.\u001b[39mtake(indexer)\n\u001b[1;32m   6203\u001b[0m \u001b[38;5;28;01mif\u001b[39;00m \u001b[38;5;28misinstance\u001b[39m(key, Index):\n\u001b[1;32m   6204\u001b[0m     \u001b[38;5;66;03m# GH 42790 - Preserve name from an Index\u001b[39;00m\n",
      "File \u001b[0;32m/opt/anaconda3/lib/python3.12/site-packages/pandas/core/indexes/base.py:6252\u001b[0m, in \u001b[0;36mIndex._raise_if_missing\u001b[0;34m(self, key, indexer, axis_name)\u001b[0m\n\u001b[1;32m   6249\u001b[0m     \u001b[38;5;28;01mraise\u001b[39;00m \u001b[38;5;167;01mKeyError\u001b[39;00m(\u001b[38;5;124mf\u001b[39m\u001b[38;5;124m\"\u001b[39m\u001b[38;5;124mNone of [\u001b[39m\u001b[38;5;132;01m{\u001b[39;00mkey\u001b[38;5;132;01m}\u001b[39;00m\u001b[38;5;124m] are in the [\u001b[39m\u001b[38;5;132;01m{\u001b[39;00maxis_name\u001b[38;5;132;01m}\u001b[39;00m\u001b[38;5;124m]\u001b[39m\u001b[38;5;124m\"\u001b[39m)\n\u001b[1;32m   6251\u001b[0m not_found \u001b[38;5;241m=\u001b[39m \u001b[38;5;28mlist\u001b[39m(ensure_index(key)[missing_mask\u001b[38;5;241m.\u001b[39mnonzero()[\u001b[38;5;241m0\u001b[39m]]\u001b[38;5;241m.\u001b[39munique())\n\u001b[0;32m-> 6252\u001b[0m \u001b[38;5;28;01mraise\u001b[39;00m \u001b[38;5;167;01mKeyError\u001b[39;00m(\u001b[38;5;124mf\u001b[39m\u001b[38;5;124m\"\u001b[39m\u001b[38;5;132;01m{\u001b[39;00mnot_found\u001b[38;5;132;01m}\u001b[39;00m\u001b[38;5;124m not in index\u001b[39m\u001b[38;5;124m\"\u001b[39m)\n",
      "\u001b[0;31mKeyError\u001b[0m: \"['All Players', 'Player to Population Ratio (%)', 'Pro to All ratio (%)'] not in index\""
     ]
    },
    {
     "data": {
      "text/plain": [
       "<Figure size 1000x600 with 0 Axes>"
      ]
     },
     "metadata": {},
     "output_type": "display_data"
    }
   ],
   "source": [
    "#2. Statistical Analysis & Hypothesis Testing\n",
    "import seaborn as sns\n",
    "import matplotlib.pyplot as plt\n",
    "\n",
    "# Correlation heatmap\n",
    "plt.figure(figsize=(10,6))\n",
    "sns.heatmap(FIFA_main[[\"Rank\", \"2024 Population\", \"All Players\", \"Player to Population Ratio (%)\", \"Pro to All ratio (%)\"]].corr(), annot=True, cmap=\"coolwarm\", fmt=\".2f\")\n",
    "plt.title(\"Correlation Heatmap\")\n",
    "plt.show()"
   ]
  },
  {
   "cell_type": "code",
   "execution_count": null,
   "metadata": {},
   "outputs": [],
   "source": [
    "#Key Metrics to Check:\n",
    "#Correlation between \"All Players\" & Rank (should be negative, meaning more players = better rank).\n",
    "#Correlation between \"Players to Population Ratio\" & Rank (higher ratio should correlate with better rank)."
   ]
  },
  {
   "cell_type": "code",
   "execution_count": null,
   "metadata": {},
   "outputs": [],
   "source": [
    "#correlation headhip for each confederation\n",
    "# List of numerical columns to analyze\n",
    "cols = [\"Rank\", \"2024 Population\", \"All Players\", \"Pro Players\", \n",
    "        \"Player to Population Ratio (%)\", \"Pro to All ratio (%)\"]\n",
    "\n",
    "# Get unique confederations\n",
    "confederations = FIFA_main[\"Confederation\"].unique()\n",
    "\n",
    "# Generate correlation heatmaps for each confederation\n",
    "for conf in confederations:\n",
    "    subset = FIFA_main[FIFA_main[\"Confederation\"] == conf][cols]  # Filter data\n",
    "    corr_matrix = subset.corr()  # Compute correlation matrix\n",
    "\n",
    "    # Plot heatmap\n",
    "    plt.figure(figsize=(8,6))\n",
    "    sns.heatmap(corr_matrix, annot=True, cmap=\"coolwarm\", fmt=\".2f\")\n",
    "    plt.title(f\"Correlation Heatmap for {conf}\")\n",
    "    plt.show()"
   ]
  },
  {
   "cell_type": "code",
   "execution_count": 55,
   "metadata": {},
   "outputs": [
    {
     "ename": "KeyError",
     "evalue": "'All Players'",
     "output_type": "error",
     "traceback": [
      "\u001b[0;31m---------------------------------------------------------------------------\u001b[0m",
      "\u001b[0;31mKeyError\u001b[0m                                  Traceback (most recent call last)",
      "File \u001b[0;32m/opt/anaconda3/lib/python3.12/site-packages/pandas/core/indexes/base.py:3805\u001b[0m, in \u001b[0;36mIndex.get_loc\u001b[0;34m(self, key)\u001b[0m\n\u001b[1;32m   3804\u001b[0m \u001b[38;5;28;01mtry\u001b[39;00m:\n\u001b[0;32m-> 3805\u001b[0m     \u001b[38;5;28;01mreturn\u001b[39;00m \u001b[38;5;28mself\u001b[39m\u001b[38;5;241m.\u001b[39m_engine\u001b[38;5;241m.\u001b[39mget_loc(casted_key)\n\u001b[1;32m   3806\u001b[0m \u001b[38;5;28;01mexcept\u001b[39;00m \u001b[38;5;167;01mKeyError\u001b[39;00m \u001b[38;5;28;01mas\u001b[39;00m err:\n",
      "File \u001b[0;32mindex.pyx:167\u001b[0m, in \u001b[0;36mpandas._libs.index.IndexEngine.get_loc\u001b[0;34m()\u001b[0m\n",
      "File \u001b[0;32mindex.pyx:196\u001b[0m, in \u001b[0;36mpandas._libs.index.IndexEngine.get_loc\u001b[0;34m()\u001b[0m\n",
      "File \u001b[0;32mpandas/_libs/hashtable_class_helper.pxi:7081\u001b[0m, in \u001b[0;36mpandas._libs.hashtable.PyObjectHashTable.get_item\u001b[0;34m()\u001b[0m\n",
      "File \u001b[0;32mpandas/_libs/hashtable_class_helper.pxi:7089\u001b[0m, in \u001b[0;36mpandas._libs.hashtable.PyObjectHashTable.get_item\u001b[0;34m()\u001b[0m\n",
      "\u001b[0;31mKeyError\u001b[0m: 'All Players'",
      "\nThe above exception was the direct cause of the following exception:\n",
      "\u001b[0;31mKeyError\u001b[0m                                  Traceback (most recent call last)",
      "Cell \u001b[0;32mIn[55], line 6\u001b[0m\n\u001b[1;32m      3\u001b[0m \u001b[38;5;28;01mfrom\u001b[39;00m \u001b[38;5;21;01mscipy\u001b[39;00m\u001b[38;5;21;01m.\u001b[39;00m\u001b[38;5;21;01mstats\u001b[39;00m \u001b[38;5;28;01mimport\u001b[39;00m spearmanr\n\u001b[1;32m      5\u001b[0m \u001b[38;5;66;03m# Spearman correlation between Rank & All Players\u001b[39;00m\n\u001b[0;32m----> 6\u001b[0m corr, p_value \u001b[38;5;241m=\u001b[39m spearmanr(FIFA_main[\u001b[38;5;124m\"\u001b[39m\u001b[38;5;124mRank\u001b[39m\u001b[38;5;124m\"\u001b[39m], FIFA_main[\u001b[38;5;124m\"\u001b[39m\u001b[38;5;124mAll Players\u001b[39m\u001b[38;5;124m\"\u001b[39m])\n\u001b[1;32m      7\u001b[0m \u001b[38;5;28mprint\u001b[39m(\u001b[38;5;124mf\u001b[39m\u001b[38;5;124m\"\u001b[39m\u001b[38;5;124mSpearman Correlation between Rank and All Players: \u001b[39m\u001b[38;5;132;01m{\u001b[39;00mcorr\u001b[38;5;132;01m:\u001b[39;00m\u001b[38;5;124m.4f\u001b[39m\u001b[38;5;132;01m}\u001b[39;00m\u001b[38;5;124m, p-value: \u001b[39m\u001b[38;5;132;01m{\u001b[39;00mp_value\u001b[38;5;132;01m:\u001b[39;00m\u001b[38;5;124m.4f\u001b[39m\u001b[38;5;132;01m}\u001b[39;00m\u001b[38;5;124m\"\u001b[39m)\n",
      "File \u001b[0;32m/opt/anaconda3/lib/python3.12/site-packages/pandas/core/frame.py:4102\u001b[0m, in \u001b[0;36mDataFrame.__getitem__\u001b[0;34m(self, key)\u001b[0m\n\u001b[1;32m   4100\u001b[0m \u001b[38;5;28;01mif\u001b[39;00m \u001b[38;5;28mself\u001b[39m\u001b[38;5;241m.\u001b[39mcolumns\u001b[38;5;241m.\u001b[39mnlevels \u001b[38;5;241m>\u001b[39m \u001b[38;5;241m1\u001b[39m:\n\u001b[1;32m   4101\u001b[0m     \u001b[38;5;28;01mreturn\u001b[39;00m \u001b[38;5;28mself\u001b[39m\u001b[38;5;241m.\u001b[39m_getitem_multilevel(key)\n\u001b[0;32m-> 4102\u001b[0m indexer \u001b[38;5;241m=\u001b[39m \u001b[38;5;28mself\u001b[39m\u001b[38;5;241m.\u001b[39mcolumns\u001b[38;5;241m.\u001b[39mget_loc(key)\n\u001b[1;32m   4103\u001b[0m \u001b[38;5;28;01mif\u001b[39;00m is_integer(indexer):\n\u001b[1;32m   4104\u001b[0m     indexer \u001b[38;5;241m=\u001b[39m [indexer]\n",
      "File \u001b[0;32m/opt/anaconda3/lib/python3.12/site-packages/pandas/core/indexes/base.py:3812\u001b[0m, in \u001b[0;36mIndex.get_loc\u001b[0;34m(self, key)\u001b[0m\n\u001b[1;32m   3807\u001b[0m     \u001b[38;5;28;01mif\u001b[39;00m \u001b[38;5;28misinstance\u001b[39m(casted_key, \u001b[38;5;28mslice\u001b[39m) \u001b[38;5;129;01mor\u001b[39;00m (\n\u001b[1;32m   3808\u001b[0m         \u001b[38;5;28misinstance\u001b[39m(casted_key, abc\u001b[38;5;241m.\u001b[39mIterable)\n\u001b[1;32m   3809\u001b[0m         \u001b[38;5;129;01mand\u001b[39;00m \u001b[38;5;28many\u001b[39m(\u001b[38;5;28misinstance\u001b[39m(x, \u001b[38;5;28mslice\u001b[39m) \u001b[38;5;28;01mfor\u001b[39;00m x \u001b[38;5;129;01min\u001b[39;00m casted_key)\n\u001b[1;32m   3810\u001b[0m     ):\n\u001b[1;32m   3811\u001b[0m         \u001b[38;5;28;01mraise\u001b[39;00m InvalidIndexError(key)\n\u001b[0;32m-> 3812\u001b[0m     \u001b[38;5;28;01mraise\u001b[39;00m \u001b[38;5;167;01mKeyError\u001b[39;00m(key) \u001b[38;5;28;01mfrom\u001b[39;00m \u001b[38;5;21;01merr\u001b[39;00m\n\u001b[1;32m   3813\u001b[0m \u001b[38;5;28;01mexcept\u001b[39;00m \u001b[38;5;167;01mTypeError\u001b[39;00m:\n\u001b[1;32m   3814\u001b[0m     \u001b[38;5;66;03m# If we have a listlike key, _check_indexing_error will raise\u001b[39;00m\n\u001b[1;32m   3815\u001b[0m     \u001b[38;5;66;03m#  InvalidIndexError. Otherwise we fall through and re-raise\u001b[39;00m\n\u001b[1;32m   3816\u001b[0m     \u001b[38;5;66;03m#  the TypeError.\u001b[39;00m\n\u001b[1;32m   3817\u001b[0m     \u001b[38;5;28mself\u001b[39m\u001b[38;5;241m.\u001b[39m_check_indexing_error(key)\n",
      "\u001b[0;31mKeyError\u001b[0m: 'All Players'"
     ]
    }
   ],
   "source": [
    "#Hypothesis Testing (Spearman’s Rank Correlation)\n",
    "\n",
    "from scipy.stats import spearmanr\n",
    "\n",
    "# Spearman correlation between Rank & All Players\n",
    "corr, p_value = spearmanr(FIFA_main[\"Rank\"], FIFA_main[\"All Players\"])\n",
    "print(f\"Spearman Correlation between Rank and All Players: {corr:.4f}, p-value: {p_value:.4f}\")\n"
   ]
  },
  {
   "cell_type": "code",
   "execution_count": null,
   "metadata": {},
   "outputs": [],
   "source": [
    "#Segmentation by Economic Zone & Confederation\n",
    "# Grouping by Confederation\n",
    "confederation_groups = FIFA_main.groupby(\"Confederation\").agg({\n",
    "    \"Rank\": \"mean\",\n",
    "    \"All Players\": \"mean\",\n",
    "    \"Pro to All ratio (%)\": \"mean\"\n",
    "}).sort_values(\"Rank\")\n",
    "\n",
    "confederation_groups\n"
   ]
  },
  {
   "cell_type": "code",
   "execution_count": null,
   "metadata": {},
   "outputs": [],
   "source": [
    "#Key Findings:\n",
    "#Which economic zones have the strongest relationship between players & rank?\n",
    "#Does a high Professional to All Players Ratio indicate success within the same confederation?"
   ]
  },
  {
   "cell_type": "code",
   "execution_count": null,
   "metadata": {},
   "outputs": [],
   "source": [
    "#to visualize above\n",
    "sns.boxplot(x=\"Confederation\", y=\"Player to Population Ratio (%)\", data=FIFA_main)\n",
    "plt.xticks(rotation=45)\n",
    "plt.title(\"Players to Population Ratio by Confederation\")\n",
    "plt.show()\n"
   ]
  },
  {
   "cell_type": "code",
   "execution_count": null,
   "metadata": {},
   "outputs": [],
   "source": [
    "#1.Scatter Plot: All Players vs. Rank\n",
    "import matplotlib.pyplot as plt\n",
    "import seaborn as sns\n",
    "\n",
    "plt.figure(figsize=(10,6))\n",
    "sns.scatterplot(x=FIFA_main[\"All Players\"], y=FIFA_main[\"Rank\"], alpha=0.7)\n",
    "sns.regplot(x=FIFA_main[\"All Players\"], y=FIFA_main[\"Rank\"], scatter=False, color=\"red\")\n",
    "\n",
    "plt.title(\"Total Players vs. FIFA Rank\")\n",
    "plt.xlabel(\"Total Registered Players\")\n",
    "plt.ylabel(\"FIFA Rank (Lower is Better)\")\n",
    "plt.xscale(\"log\")  # Log scale if values are skewed\n",
    "plt.show()\n",
    "\n"
   ]
  },
  {
   "cell_type": "code",
   "execution_count": null,
   "metadata": {},
   "outputs": [],
   "source": [
    "# Insights:\n",
    "\n",
    "#A negative correlation (downward trend) supports your hypothesis.\n",
    "#If data is scattered with no trend, total players might not be a strong predictor."
   ]
  },
  {
   "cell_type": "code",
   "execution_count": null,
   "metadata": {},
   "outputs": [],
   "source": [
    "#2. Scatter Plot: Players-to-Population Ratio vs. Rank.\\\n",
    "#Goal: Test if countries with higher football participation rates perform better\n",
    "plt.figure(figsize=(10,6))\n",
    "sns.scatterplot(x=FIFA_main[\"Player to Population Ratio (%)\"], y=FIFA_main[\"Rank\"], alpha=0.7)\n",
    "sns.regplot(x=FIFA_main[\"Player to Population Ratio (%)\"], y=FIFA_main[\"Rank\"], scatter=False, color=\"red\")\n",
    "\n",
    "plt.title(\"Players-to-Population Ratio vs. FIFA Rank\")\n",
    "plt.xlabel(\"Players-to-Population Ratio\")\n",
    "plt.ylabel(\"FIFA Rank (Lower is Better)\")\n",
    "plt.show()\n"
   ]
  },
  {
   "cell_type": "code",
   "execution_count": null,
   "metadata": {},
   "outputs": [],
   "source": [
    "#nsights:\n",
    "\n",
    "#If countries with higher ratios tend to have better ranks, it means football participation drives success."
   ]
  },
  {
   "cell_type": "code",
   "execution_count": null,
   "metadata": {},
   "outputs": [],
   "source": [
    "#3. Scatter Plot: Professional Players vs. Rank (Economic Zone Segmentation)\n",
    "#GOAL: Check how economic factors influence the relationship between professional players and FIFA rank.\n",
    "plt.figure(figsize=(10,6))\n",
    "sns.scatterplot(x=FIFA_main[\"Pro Players\"], y=FIFA_main[\"Rank\"], hue=FIFA_main[\"Confederation\"], alpha=0.7)\n",
    "sns.regplot(x=FIFA_main[\"Pro Players\"], y=FIFA_main[\"Rank\"], scatter=False, color=\"black\")\n",
    "\n",
    "plt.title(\"Professional Players vs. FIFA Rank (by Confederation)\")\n",
    "plt.xlabel(\"Total Professional Players\")\n",
    "plt.ylabel(\"FIFA Rank (Lower is Better)\")\n",
    "plt.legend(title=\"Confederation\")\n",
    "plt.xscale(\"log\")\n",
    "plt.show()\n"
   ]
  },
  {
   "cell_type": "code",
   "execution_count": null,
   "metadata": {},
   "outputs": [],
   "source": [
    "# Insights:\n",
    "\n",
    "#If richer zones (e.g., Europe) show a stronger relationship, it proves that economic context affects football success.\n",
    "#If some confederations show stronger trends than others, it means success factors vary by region"
   ]
  },
  {
   "cell_type": "code",
   "execution_count": null,
   "metadata": {},
   "outputs": [],
   "source": [
    "#4.  Scatter Plot: Confederation-Wise Analysis"
   ]
  },
  {
   "cell_type": "code",
   "execution_count": null,
   "metadata": {},
   "outputs": [],
   "source": [
    "#Modeling the Relationship\n",
    "import statsmodels.api as sm\n",
    "\n",
    "# Define independent variables (X) and dependent variable (y)\n",
    "X = FIFA_main[[\"All Players\", \"Player to Population Ratio (%)\"]]\n",
    "y = FIFA_main[\"Rank\"]\n",
    "\n",
    "# Add constant for intercept\n",
    "X = sm.add_constant(X)\n",
    "\n",
    "# Fit regression model\n",
    "model = sm.OLS(y, X).fit()\n",
    "\n",
    "# Display results\n",
    "print(model.summary())\n"
   ]
  },
  {
   "cell_type": "code",
   "execution_count": null,
   "metadata": {},
   "outputs": [],
   "source": [
    "#Conclusion\n",
    "#The model explains very little of the variance in the dependent variable, as indicated by the low R-squared value.\n",
    "#The independent variables themselves are not statistically significant in explaining Rank, with All Players and Player to Population Ratio (%) being non-significant, and Pro to All Ratio (%) showing borderline significance.\n",
    "#There are potential issues with the model, including autocorrelation and non-normal residuals, which might indicate that the model is misspecified or that there are other unobserved factors affecting Rank.\n"
   ]
  },
  {
   "cell_type": "code",
   "execution_count": null,
   "metadata": {},
   "outputs": [],
   "source": [
    "# Compute correlation between \"All Players\" and \"Rank\"\n",
    "correlation = FIFA_main[\"All Players\"].corr(df[\"Rank\"])\n",
    "correlation"
   ]
  },
  {
   "cell_type": "code",
   "execution_count": null,
   "metadata": {},
   "outputs": [],
   "source": [
    "#Analysis of Correlation (-0.0998)\n",
    "#Weak Negative Correlation\n",
    "\n",
    "#Since the value is close to 0, there is almost no correlation between All Players and Rank.\n",
    "#The weak negative sign (-0.0998) suggests that as the number of All Players increases, Rank slightly decreases (or vice versa), but the effect is very weak.\n",
    "#Practical Implication\n",
    "\n",
    "#In real-world terms, All Players and Rank are not strongly related.\n",
    "#Increasing the number of players does not significantly affect the Rank.\n",
    "#Possible Reasons for Weak Correlation\n",
    "\n",
    "#There may be other factors influencing Rank more than All Players.\n",
    "#The data may have random variations that make correlation weak.\n",
    "#Rank might depend on skill level, match performance, or other variables, rather than just the number of players."
   ]
  },
  {
   "cell_type": "code",
   "execution_count": null,
   "metadata": {},
   "outputs": [],
   "source": [
    "correlation2 = FIFA_main[\"All Players\"].corr(FIFA_main[\"2024 Population\"])\n",
    "correlation2"
   ]
  },
  {
   "cell_type": "code",
   "execution_count": null,
   "metadata": {},
   "outputs": [],
   "source": [
    "# Key Insights\n",
    "#Strong but Not Perfect Relationship\n",
    "\n",
    "# A correlation of 0.699 suggests that Population explains a significant portion of All Players, but there are other influencing factors as well.\n",
    "#Other variables (e.g., internet access, gaming popularity, age distribution) might also impact \"All Players\".\n",
    "#Possible Causal Relationship?\n",
    "\n",
    "#While correlation does not imply causation, it is logical to assume that larger populations tend to have more players.\n",
    "#However, other factors like economic conditions or gaming culture might also play a role.\n",
    "#Checking for Outliers & Non-Linearity\n",
    "\n",
    "#The relationship might not be purely linear.\n",
    "#A scatter plot can help determine if there are outliers or if the relationship is non-linear."
   ]
  },
  {
   "cell_type": "code",
   "execution_count": null,
   "metadata": {},
   "outputs": [],
   "source": []
  }
 ],
 "metadata": {
  "kernelspec": {
   "display_name": "Python 3 (ipykernel)",
   "language": "python",
   "name": "python3"
  },
  "language_info": {
   "codemirror_mode": {
    "name": "ipython",
    "version": 3
   },
   "file_extension": ".py",
   "mimetype": "text/x-python",
   "name": "python",
   "nbconvert_exporter": "python",
   "pygments_lexer": "ipython3",
   "version": "3.12.7"
  }
 },
 "nbformat": 4,
 "nbformat_minor": 4
}
