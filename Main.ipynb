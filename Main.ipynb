{
 "cells": [
  {
   "cell_type": "code",
   "execution_count": 2,
   "metadata": {},
   "outputs": [
    {
     "data": {
      "text/plain": [
       "'\\nAsian Football Confederation (AFC): 47 members\\nConfederation of African Football (CAF): 54 members\\nConfederation of North, Central American and Caribbean Association Football (CONCACAF): 41 members\\nConfederación Sudamericana de Fútbol (CONMEBOL): 10 members\\nOceania Football Confederation (OFC): 13 members\\nUnion of European Football Associations (UEFA): 55 members\\n'"
      ]
     },
     "execution_count": 2,
     "metadata": {},
     "output_type": "execute_result"
    }
   ],
   "source": [
    "#tryout\n",
    "\"\"\"\n",
    "Asian Football Confederation (AFC): 47 members\n",
    "Confederation of African Football (CAF): 54 members\n",
    "Confederation of North, Central American and Caribbean Association Football (CONCACAF): 41 members\n",
    "Confederación Sudamericana de Fútbol (CONMEBOL): 10 members\n",
    "Oceania Football Confederation (OFC): 13 members\n",
    "Union of European Football Associations (UEFA): 55 members\n",
    "\"\"\"\n"
   ]
  },
  {
   "cell_type": "code",
   "execution_count": 3,
   "metadata": {},
   "outputs": [],
   "source": [
    "afc_countries = [\n",
    "    \"Afghanistan\", \"Australia\", \"Bahrain\", \"Bangladesh\", \"Bhutan\", \"Brunei Darussalam\",\n",
    "    \"Cambodia\", \"China PR\", \"Chinese Taipei\", \"Guam\", \"Hong Kong, China\", \"India\",\n",
    "    \"Indonesia\", \"IR Iran\", \"Iraq\", \"Japan\", \"Jordan\", \"Korea DPR\", \"Korea Republic\",\n",
    "    \"Kuwait\", \"Kyrgyz Republic\", \"Laos\", \"Lebanon\", \"Macau\", \"Malaysia\", \"Maldives\",\n",
    "    \"Mongolia\", \"Myanmar\", \"Nepal\", \"Oman\", \"Pakistan\", \"Palestine\", \"Philippines\",\n",
    "    \"Qatar\", \"Saudi Arabia\", \"Singapore\", \"Sri Lanka\", \"Syrian Arab Republic\", \"Tajikistan\",\n",
    "    \"Thailand\", \"Timor-Leste\", \"United Arab Emirates\", \"Uzbekistan\", \"Vietnam\", \"Yemen\"\n",
    "]\n"
   ]
  },
  {
   "cell_type": "code",
   "execution_count": 4,
   "metadata": {},
   "outputs": [],
   "source": [
    "caf_countries = [\n",
    "    \"Algeria\", \"Angola\", \"Benin\", \"Botswana\", \"Burkina Faso\", \"Burundi\", \"Cameroon\", \"Cape Verde\",\n",
    "    \"Central African Republic\", \"Chad\", \"Comoros\", \"Congo\", \"Congo DR\", \"Djibouti\", \"Egypt\",\n",
    "    \"Equatorial Guinea\", \"Eritrea\", \"Eswatini\", \"Ethiopia\", \"Gabon\", \"Gambia\", \"Ghana\", \"Guinea\",\n",
    "    \"Guinea-Bissau\", \"Ivory Coast\", \"Kenya\", \"Lesotho\", \"Liberia\", \"Libya\", \"Madagascar\", \"Malawi\",\n",
    "    \"Mali\", \"Mauritania\", \"Mauritius\", \"Morocco\", \"Mozambique\", \"Namibia\", \"Niger\", \"Nigeria\",\n",
    "    \"Rwanda\", \"São Tomé and Príncipe\", \"Senegal\", \"Seychelles\", \"Sierra Leone\", \"South Africa\",\n",
    "    \"South Sudan\", \"Sudan\", \"Togo\", \"Tunisia\", \"Uganda\", \"Zambia\", \"Zimbabwe\"\n",
    "]\n"
   ]
  },
  {
   "cell_type": "code",
   "execution_count": 5,
   "metadata": {},
   "outputs": [],
   "source": [
    "concacaf_countries = [\n",
    "    \"Antigua and Barbuda\", \"Bahamas\", \"Barbados\", \"Belize\", \"Canada\", \"Costa Rica\", \"Cuba\",\n",
    "    \"Dominica\", \"El Salvador\", \"Grenada\", \"Guatemala\", \"Guyana\", \"Haiti\", \"Honduras\", \"Jamaica\",\n",
    "    \"Martinique\", \"Mexico\", \"Montserrat\", \"Nicaragua\", \"Panama\", \"Saint Kitts and Nevis\",\n",
    "    \"Saint Lucia\", \"Saint Vincent and the Grenadines\", \"Trinidad and Tobago\", \"United States\",\n",
    "    \"Anguilla\", \"Aruba\", \"Bermuda\", \"Bonaire\", \"British Virgin Islands\", \"Cayman Islands\",\n",
    "    \"Curacao\", \"French Guiana\", \"Guadeloupe\", \"Martinique\", \"Saint Martin\", \"Saint Pierre and Miquelon\",\n",
    "    \"Sint Maarten\", \"Suriname\", \"Turks and Caicos Islands\", \"United States Virgin Islands\"\n",
    "]\n"
   ]
  },
  {
   "cell_type": "code",
   "execution_count": 6,
   "metadata": {},
   "outputs": [],
   "source": [
    "conmebol_countries = [\n",
    "    \"Argentina\", \"Bolivia\", \"Brazil\", \"Chile\", \"Colombia\", \"Ecuador\", \"Paraguay\", \"Peru\",\n",
    "    \"Suriname\", \"Uruguay\"\n",
    "]\n"
   ]
  },
  {
   "cell_type": "code",
   "execution_count": 7,
   "metadata": {},
   "outputs": [],
   "source": [
    "ofc_countries = [\n",
    "    \"American Samoa\", \"Cook Islands\", \"Fiji\", \"New Caledonia\", \"New Zealand\", \"Papua New Guinea\",\n",
    "    \"Samoa\", \"Solomon Islands\", \"Tahiti\", \"Tonga\", \"Vanuatu\"\n",
    "]\n"
   ]
  },
  {
   "cell_type": "code",
   "execution_count": 8,
   "metadata": {},
   "outputs": [],
   "source": [
    "uefa_countries = [\n",
    "    \"Albania\", \"Andorra\", \"Armenia\", \"Austria\", \"Azerbaijan\", \"Belarus\", \"Belgium\", \"Bosnia and Herzegovina\",\n",
    "    \"Bulgaria\", \"Croatia\", \"Cyprus\", \"Czech Republic\", \"Denmark\", \"England\", \"Estonia\", \"Faroe Islands\",\n",
    "    \"Finland\", \"France\", \"Georgia\", \"Germany\", \"Gibraltar\", \"Greece\", \"Hungary\", \"Iceland\", \"Ireland\",\n",
    "    \"Israel\", \"Italy\", \"Kazakhstan\", \"Kosovo\", \"Latvia\", \"Liechtenstein\", \"Lithuania\", \"Luxembourg\",\n",
    "    \"Malta\", \"Moldova\", \"Montenegro\", \"Netherlands\", \"North Macedonia\", \"Northern Ireland\", \"Norway\",\n",
    "    \"Poland\", \"Portugal\", \"Republic of Ireland\", \"Romania\", \"Russia\", \"San Marino\", \"Scotland\", \"Serbia\",\n",
    "    \"Slovakia\", \"Slovenia\", \"Spain\", \"Sweden\", \"Switzerland\", \"Turkey\", \"Ukraine\", \"Wales\"\n",
    "]\n"
   ]
  },
  {
   "cell_type": "code",
   "execution_count": 10,
   "metadata": {},
   "outputs": [
    {
     "name": "stdout",
     "output_type": "stream",
     "text": [
      "     Nr.         Country\n",
      "0      1     Afghanistan\n",
      "1      2         Albania\n",
      "2      3         Algeria\n",
      "3      4  American Samoa\n",
      "4      5         Andorra\n",
      "..   ...             ...\n",
      "210  211         Vietnam\n",
      "211  212           Wales\n",
      "212  213           Yemen\n",
      "213  214          Zambia\n",
      "214  215        Zimbabwe\n",
      "\n",
      "[215 rows x 2 columns]\n"
     ]
    }
   ],
   "source": [
    "import pandas as pd\n",
    "\n",
    "# Combine all country lists\n",
    "all_countries_MO = afc_countries + caf_countries + concacaf_countries + conmebol_countries + ofc_countries + uefa_countries\n",
    "\n",
    "# Sort the countries alphabetically\n",
    "all_countries_sorted = sorted(all_countries_MO)\n",
    "\n",
    "# Create a DataFrame\n",
    "FIFA = pd.DataFrame({\n",
    "    'Nr.': range(1, len(all_countries_sorted) + 1),\n",
    "    'Country': all_countries_sorted\n",
    "})\n",
    "\n",
    "print(FIFA)"
   ]
  },
  {
   "cell_type": "code",
   "execution_count": null,
   "metadata": {},
   "outputs": [],
   "source": []
  }
 ],
 "metadata": {
  "kernelspec": {
   "display_name": "Python 3",
   "language": "python",
   "name": "python3"
  },
  "language_info": {
   "codemirror_mode": {
    "name": "ipython",
    "version": 3
   },
   "file_extension": ".py",
   "mimetype": "text/x-python",
   "name": "python",
   "nbconvert_exporter": "python",
   "pygments_lexer": "ipython3",
   "version": "3.13.1"
  }
 },
 "nbformat": 4,
 "nbformat_minor": 2
}
